{
 "cells": [
  {
   "cell_type": "code",
   "execution_count": null,
   "metadata": {},
   "outputs": [],
   "source": [
    "# magics: ensures that any changes to the modules loaded below will be re-loaded automatically\n",
    "%load_ext autoreload\n",
    "%autoreload 2\n",
    "\n",
    "# load general packages\n",
    "import numpy as np\n",
    "import matplotlib.pyplot as plt\n",
    "\n",
    "# load modules related to this exercise\n",
    "import tools \n",
    "from model_exante import model_bufferstock"
   ]
  },
  {
   "cell_type": "markdown",
   "metadata": {},
   "source": [
    "# Exercise 3 Solving the buffer-stock consumption model with EGM"
   ]
  },
  {
   "cell_type": "markdown",
   "metadata": {},
   "source": [
    "Consider the canonical buffer-stock consumption model. The exercise will be to add code to model.py such that we can produce life-cycle figures from the Buffer Stock model."
   ]
  },
  {
   "attachments": {},
   "cell_type": "markdown",
   "metadata": {},
   "source": [
    "Bellman equation in ratio form: \n",
    "\n",
    "$$\\begin{align*}\n",
    "v_{t}(m_{t}) & = & \\max_{c_{t}}\\left\\{ \\frac{c_{t}^{1-\\rho}}{1-\\rho}+\\beta\\mathbb{E}_{t}\\left[(G L_{t} \\psi_{t+1})^{1-\\rho}v_{t+1}(m_{t+1})\\right]\\right\\} \\\\\n",
    " & \\text{s.t.}\\\\\n",
    " a_t & = & m_t-c_t \\\\\n",
    "m_{t+1} & = & \\frac{1}{G L_t \\psi_{t+1}}Ra_t+\\xi_{t+1}\\\\ \n",
    "a_t & \\geq & \\max(-\\lambda_t,-\\Omega_t) \\\\\n",
    "\\lambda_t & = & \n",
    "\\begin{cases} \n",
    "\\lambda & if t < T_R\\\\\n",
    "0 & if t \\geq T_R\n",
    "\\end{cases} \\\\\n",
    "\\Omega_t & = & \\text{Maximum guarenteed repayable debt at time t} \\\\\n",
    "\n",
    "\\text{For } t<T_R: \\\\\n",
    "\\psi_{t+1} & \\sim & \\exp \\mathcal{N}(-0.5 \\sigma^2_{\\psi},\\sigma^2_{\\psi})\\\\\n",
    "\\xi_{t+1}& = & \\begin{cases}\n",
    "\\mu  &\\text{with prob. }\\pi\\\\\n",
    "(\\epsilon_{t+1}-\\pi \\mu)/ (1-\\pi) &\\text{else}\n",
    "\\end{cases}\\\\ \\\\\n",
    "\\epsilon_{t+1} & \\sim & \\exp \\mathcal{N}(-0.5 \\sigma^2_{\\xi},\\sigma^2_{\\xi}) \\\\\n",
    "\n",
    "\\text{For } t>=T_R: \\\\\n",
    "\\psi_{t+1} & = 1 \\\\\n",
    "\\xi_{t+1} & = 1 \\\\\n",
    "\\end{align*}$$\n",
    "\n",
    "and remember:\n",
    "$$\\begin{align*}\n",
    "Y_{t+1}& = & \\xi_{t+1} P_{t+1} \\\\\n",
    "P_{t+1}& = & GL_tP_t\\psi_{t+1}\\\\ \n",
    "c_t & \\equiv & C_t/P_t \\\\\n",
    "m_t & \\equiv & M_t/P_t \\\\\n",
    "a_t & \\equiv & A_t/P_t \\\\\n",
    "p_t & \\equiv & \\ln(P_t) \\\\\n",
    "y_t & \\equiv & \\ln(Y_t) \\\\\n",
    "\\end{align*}$$\n",
    "\n",
    "The Euler equation is given by:\n",
    "\\begin{align*}\n",
    "c_t^{-\\rho} & = & \\beta R \\mathbb{E}_{t}\\left[(G L_{t} \\psi_{t+1})^{-\\rho} c_{t+1}^{-\\rho}\\right] \\\\\n",
    "\\end{align*}\n"
   ]
  },
  {
   "cell_type": "markdown",
   "metadata": {},
   "source": [
    "#### 1. Look at ReadMe.txt to get an overview of the ex ante code"
   ]
  },
  {
   "attachments": {},
   "cell_type": "markdown",
   "metadata": {},
   "source": [
    "#### 2. Ensure you understand the following functions:\n",
    "<il type =\"a\">\n",
    "<li> model.setup </li>\n",
    "<li> model.create_grids </li>\n",
    "<li> model.solve</li>\n",
    "</il>"
   ]
  },
  {
   "cell_type": "markdown",
   "metadata": {},
   "source": [
    "#### 3. Fill in the missing stuff in the function model.EGM"
   ]
  },
  {
   "cell_type": "code",
   "execution_count": null,
   "metadata": {},
   "outputs": [],
   "source": [
    "#Load baseline settings\n",
    "model = model_bufferstock()"
   ]
  },
  {
   "cell_type": "code",
   "execution_count": null,
   "metadata": {},
   "outputs": [],
   "source": [
    "model.life_cycle_setup()\n",
    "\n",
    "#Solve and simulate\n",
    "model.create_grids()\n",
    "model.solve()\n",
    "model.simulate()\n",
    "\n",
    "par = model.par\n",
    "sol = model.sol\n",
    "sim = model.sim"
   ]
  },
  {
   "cell_type": "markdown",
   "metadata": {},
   "source": [
    "#### 4. Run 03_buffer_stock_egm and check that your results are correct"
   ]
  },
  {
   "cell_type": "code",
   "execution_count": null,
   "metadata": {},
   "outputs": [],
   "source": [
    "fig = plt.figure(figsize=(8,5))\n",
    "ax = fig.add_subplot(1,1,1)\n",
    "for age in [26, 35, 45, 55, 65, 75, par.T+par.age_min-1,par.T+par.age_min] :\n",
    "    ax.plot(sol.m[age-par.age_min-1,:],sol.c[age-par.age_min-1,:], label=f'age = {age}')\n",
    "ax.set_xlabel(f\"$m_t$\")\n",
    "ax.set_ylabel(f\"$c(m_t)$\")\n",
    "ax.set_xlim([np.min(par.a_min), 5])\n",
    "ax.set_ylim([0,5])\n",
    "ax.set_title(f'Consumption function')\n",
    "plt.legend()\n",
    "plt.show()"
   ]
  },
  {
   "cell_type": "code",
   "execution_count": null,
   "metadata": {},
   "outputs": [],
   "source": [
    "fig = plt.figure(figsize=(8,5))\n",
    "ax = fig.add_subplot(1,1,1)\n",
    "ax.plot(np.arange(par.simT)+par.age_min+1,np.mean(sim.Y,1))\n",
    "ax.set_xlabel(f\"age\")\n",
    "ax.set_ylabel(f\"Income $Y_t$\")\n",
    "ax.set_title(f'Average income')\n",
    "plt.show()"
   ]
  },
  {
   "cell_type": "code",
   "execution_count": null,
   "metadata": {},
   "outputs": [],
   "source": [
    "fig = plt.figure(figsize=(8,5))\n",
    "ax = fig.add_subplot(1,1,1)\n",
    "ax.plot(np.arange(par.simT)+par.age_min+1,np.mean(sim.M,1))\n",
    "ax.set_xlabel(f\"age\")\n",
    "ax.set_ylabel(f\"Cash-on-hand $M_t$\")\n",
    "ax.set_title(f'Average Cash on hands')\n",
    "plt.show()"
   ]
  },
  {
   "cell_type": "code",
   "execution_count": null,
   "metadata": {},
   "outputs": [],
   "source": [
    "fig = plt.figure(figsize=(8,5))\n",
    "ax = fig.add_subplot(1,1,1)\n",
    "ax.plot(np.arange(par.simT)+par.age_min+1,np.mean(sim.C,1))\n",
    "ax.set_xlabel(f\"age\")\n",
    "ax.set_ylabel(f\"Consumption $C_t$\")\n",
    "ax.set_title(f'Average consumption')\n",
    "plt.show()"
   ]
  },
  {
   "cell_type": "code",
   "execution_count": null,
   "metadata": {},
   "outputs": [],
   "source": [
    "fig = plt.figure(figsize=(8,5))\n",
    "ax = fig.add_subplot(1,1,1)\n",
    "ax.plot(np.arange(par.simT)+par.age_min+1,np.mean(sim.A,1))\n",
    "ax.set_xlabel(f\"age\")\n",
    "ax.set_ylabel(f\"Asset $A_t$\")\n",
    "ax.set_title(f'Average Asset')\n",
    "plt.show()"
   ]
  },
  {
   "cell_type": "markdown",
   "metadata": {},
   "source": [
    "#### 5. (Optional) Could you write a vectorized version of EGM to speed it up? (i.e. without no loop over $a_t$)"
   ]
  },
  {
   "cell_type": "code",
   "execution_count": null,
   "metadata": {},
   "outputs": [],
   "source": [
    "#Load baseline settings\n",
    "model_vec = model_bufferstock()\n",
    "model_vec.life_cycle_setup()\n",
    "\n",
    "#Solve and simulate\n",
    "model_vec.create_grids()\n",
    "model_vec.solve()\n",
    "model_vec.simulate()\n",
    "\n",
    "par = model_vec.par\n",
    "sol = model_vec.sol\n",
    "sim = model_vec.sim"
   ]
  },
  {
   "cell_type": "code",
   "execution_count": null,
   "metadata": {},
   "outputs": [],
   "source": [
    "fig = plt.figure(figsize=(8,5))\n",
    "ax = fig.add_subplot(1,1,1)\n",
    "for age in [26, 35, 45, 55, 65, 75, par.T+par.age_min-1,par.T+par.age_min] :\n",
    "    ax.plot(sol.m[age-par.age_min-1,:],sol.c[age-par.age_min-1,:], label=f'age = {age}')\n",
    "ax.set_xlabel(f\"$m_t$\")\n",
    "ax.set_ylabel(f\"$c(m_t)$\")\n",
    "ax.set_xlim([np.min(par.a_min), 5])\n",
    "ax.set_ylim([0,5])\n",
    "ax.set_title(f'Consumption function')\n",
    "plt.legend()\n",
    "plt.show()"
   ]
  }
 ],
 "metadata": {
  "kernelspec": {
   "display_name": "base",
   "language": "python",
   "name": "python3"
  },
  "language_info": {
   "codemirror_mode": {
    "name": "ipython",
    "version": 3
   },
   "file_extension": ".py",
   "mimetype": "text/x-python",
   "name": "python",
   "nbconvert_exporter": "python",
   "pygments_lexer": "ipython3",
   "version": "3.9.7"
  },
  "vscode": {
   "interpreter": {
    "hash": "ad2bdc8ecc057115af97d19610ffacc2b4e99fae6737bb82f5d7fb13d2f2c186"
   }
  }
 },
 "nbformat": 4,
 "nbformat_minor": 4
}
