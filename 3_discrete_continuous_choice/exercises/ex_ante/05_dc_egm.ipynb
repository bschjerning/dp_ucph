{
 "cells": [
  {
   "cell_type": "code",
   "execution_count": null,
   "metadata": {},
   "outputs": [],
   "source": [
    "# magics: ensures that any changes to the modules loaded below will be re-loaded automatically\n",
    "%load_ext autoreload\n",
    "%autoreload 2\n",
    "\n",
    "# load general packages\n",
    "import numpy as np\n",
    "import matplotlib.pyplot as plt\n",
    "plt.style.use('seaborn-whitegrid')\n",
    "\n",
    "# load modules related to this exercise\n",
    "import tools \n",
    "from model_dc_exante import model_dc"
   ]
  },
  {
   "attachments": {},
   "cell_type": "markdown",
   "metadata": {},
   "source": [
    "# Exercise 5 Solving Discrete-Continuous Choice Models\n",
    "Consider the Discrete-Continuous Choice Models. The *value function* is given as\n",
    "$$\\begin{align*}\n",
    "v_{t}(m_{t},z_t,\\varepsilon_t^0,\\varepsilon_t^1) & = & \\max_{z_{t+1}\\in \\mathcal{Z}(z_t)}\\left\\{\\mathcal{V}_t(m_t,z_{t+1})+\\sigma_{\\varepsilon}\\varepsilon_t^{L_{t+1}}\\right\\} \\\\\n",
    "\\mathcal{Z}(z_t) &= &\\begin{cases}\n",
    "\\{0,1\\} & \\text{if} & z_t=0 \\\\\n",
    "\\{1\\} & \\text{if} & z_t = 1\n",
    "\\end{cases}\n",
    "\\end{align*}$$\n",
    "and the *choice-specific value functions* are given by\n",
    "$$\\begin{align*}\n",
    " \\mathcal{V}_t(m_t,z_{t+1}) & = & \\max_{c_t} \\frac{C_{t}^{1-\\rho}}{1-\\rho}-\\alpha \\mathbb{1}_{z_{t+1}=0} +\\beta\\mathbb{E}_{t}\\left[v_{t+1}(\\bullet_{t+1})\\right] \\\\\n",
    "  & \\text{s.t.}\\\\\n",
    "m_{t+1} & = & R(m_{t}-c_{t})+W \\xi_{t+1} \\mathbb{1}_{z_{t+1}=0}\\\\\n",
    "c_t & \\leq & m_t\\\\\n",
    "\\log(\\xi_{t+1}) & \\sim & \\mathcal{N}(-0.5 \\sigma_{\\xi}^{2} ,\\sigma_{\\xi}^{2})\\\\\n",
    "\\varepsilon_{t+1}^0,\\varepsilon_{t+1}^1 & \\sim & \\text{Extreme Value Type 1}\n",
    "\\end{align*}$$\n",
    "The Exercise will be to add code in *model_dc* such that you can produce consumption function figures. This cannot be done without understanding all the other functions in *model_dc*."
   ]
  },
  {
   "attachments": {},
   "cell_type": "markdown",
   "metadata": {},
   "source": [
    "#### 1. Ensure that you understand all functions in *model_dc*"
   ]
  },
  {
   "attachments": {},
   "cell_type": "markdown",
   "metadata": {},
   "source": [
    "#### 2. Ensure that you understand all functions in *egm_dc* (dont spend too much time on the upper envelope algorithm part)"
   ]
  },
  {
   "attachments": {},
   "cell_type": "markdown",
   "metadata": {},
   "source": [
    "#### 3. Fill in the missing stuff in the function *egm_dc.EGM*"
   ]
  },
  {
   "cell_type": "markdown",
   "metadata": {},
   "source": [
    "\n",
    "#### 4. Run *05_dc_egm* to check that your results are correct"
   ]
  },
  {
   "cell_type": "code",
   "execution_count": null,
   "metadata": {},
   "outputs": [],
   "source": [
    "\n",
    "model = model_dc()\n",
    "model.setup()\n",
    "model.create_grids()\n",
    "model.solve()\n",
    "\n",
    "par = model.par\n",
    "sol = model.sol"
   ]
  },
  {
   "cell_type": "code",
   "execution_count": null,
   "metadata": {},
   "outputs": [],
   "source": [
    "# Define figures\n",
    "\n",
    "# Retired\n",
    "def figure(par,sol,z):\n",
    "    if z == 1:\n",
    "        print(f'Retired in t+1')\n",
    "        ts = [par.T, par.T-1, par.T-2, par.T-3, 1]\n",
    "    elif z ==0:\n",
    "        print(f'Working in t+1')\n",
    "        ts = [par.T, par.T-1, par.T-2, par.T-3, par.T-4]\n",
    "    fig = plt.figure(figsize=(15,5))\n",
    "    ax = fig.add_subplot(1,2,1)\n",
    "    for i in ts:\n",
    "        ax.scatter(sol.m[i-1,z,:],sol.c[i-1,z,:], label=f't = {i}')\n",
    "    ax.set_xlabel(f\"$m_t$\")\n",
    "    ax.set_ylabel(f\"$c(m_t,z_{{t+1}} = {z})$\")\n",
    "    ax.set_xlim([0, 5])\n",
    "    ax.set_ylim([0,3])\n",
    "    ax.set_title(f'Consumption function')\n",
    "    plt.legend()\n",
    "\n",
    "\n",
    "    ax_right = fig.add_subplot(1,2,2)\n",
    "    for i in ts:\n",
    "        ax_right.scatter(sol.m[i-1,z,:],sol.v[i-1,z,:], label=f't = {i}')\n",
    "    ax_right.set_xlabel(f\"$m_t$\")\n",
    "    ax_right.set_ylabel(f\"$v(m_t,z_{{t+1}} = {z})$\")\n",
    "    ax_right.set_xlim([0, 5])\n",
    "    ax_right.set_ylim([-20,0])\n",
    "    ax_right.set_title(f'Value function')\n",
    "    plt.legend()\n",
    "\n",
    "    plt.show()\n"
   ]
  },
  {
   "cell_type": "code",
   "execution_count": null,
   "metadata": {},
   "outputs": [],
   "source": [
    "# Print figures for different sigma\n",
    "sigma_eta_vec = [0.0,0.01,0.05,0.1,0.2]\n",
    "\n",
    "for i,val in enumerate(sigma_eta_vec):\n",
    "    model.setup()\n",
    "    model.par.sigma_eta = val\n",
    "    model.create_grids()\n",
    "    model.solve()\n",
    "    print(f'sigma_eta = {par.sigma_eta}')\n",
    "    figure(model.par,model.sol,0)\n",
    "    print(f'sigma_eta = {par.sigma_eta}')\n",
    "    figure(model.par,model.sol,1)\n",
    "    "
   ]
  },
  {
   "attachments": {},
   "cell_type": "markdown",
   "metadata": {},
   "source": [
    "Now consider the model extended with permanet income: \n",
    "$$\\begin{align*}\n",
    "v_{t}(m_{t},p_t,z_t,\\varepsilon_t^0,\\varepsilon_t^1) & = & \\max_{z_{t+1}\\in \\mathcal{Z}(z_t)}\\left\\{\\mathcal{V}_t(m_t,z_{t+1})+\\sigma_{\\varepsilon}\\varepsilon_t^{L_{t+1}}\\right\\} \\\\\n",
    "\\mathcal{Z}(z_t) &= &\\begin{cases}\n",
    "\\{0,1\\} & \\text{if} & z_t=0 \\\\\n",
    "\\{1\\} & \\text{if} & z_t = 1\n",
    "\\end{cases}\n",
    "\\end{align*}$$\n",
    "and the *choice-specific value functions* are given by\n",
    "$$\\begin{align*}\n",
    " \\mathcal{V}_t(m_t,p_t,z_{t+1}) & = & \\max_{c_t} \\frac{C_{t}^{1-\\rho}}{1-\\rho}-\\alpha \\mathbb{1}_{z_{t+1}=0} +\\beta\\mathbb{E}_{t}\\left[v_{t+1}(\\bullet_{t+1})\\right] \\\\\n",
    "  & \\text{s.t.}\\\\\n",
    "p_{t+1} & = &  \\begin{cases}\n",
    "p_t & \\text{if} & z_{t+1}=1 \\\\\n",
    "\\xi_{t+1}p_t & \\text{if} & z_{t+1} = 0\n",
    "\\end{cases}  \\\\\n",
    "m_{t+1} & = & R(m_{t}-c_{t})+W \\mathbb{1}_{z_{t+1}=0} p_{t+1}+ \\kappa \\mathbb{1}_{z_{t+1}=1} p_{t+1}\\\\\n",
    "c_t & \\leq & m_t\\\\\n",
    "\\log(\\xi_{t+1}) & \\sim & \\mathcal{N}(-0.5 \\sigma_{\\xi}^{2} ,\\sigma_{\\xi}^{2})\\\\\n",
    "\\varepsilon_{t+1}^0,\\varepsilon_{t+1}^1 & \\sim & \\text{Extreme Value Type 1}\n",
    "\\end{align*}$$"
   ]
  },
  {
   "cell_type": "markdown",
   "metadata": {},
   "source": [
    "#### 5. Solve the extended model [THIS IS NOT EASY]\n",
    "Hint: You have an extra state variable, and you therefore have to make an outer loop for both z and p.\n",
    "\n",
    "Note: The extended model swaps to a version of DC-EGM that uses an interpolates from the endogenous grid to an exogenous grid. This has not really been explained in the lectures. So feel free to ask a TA or lecturer about this. "
   ]
  },
  {
   "cell_type": "code",
   "execution_count": null,
   "metadata": {},
   "outputs": [],
   "source": [
    "from model_dc_multidim_exante import model_dc_multidim\n",
    "import time"
   ]
  },
  {
   "cell_type": "code",
   "execution_count": null,
   "metadata": {},
   "outputs": [],
   "source": [
    "t0 = time.time()  # set the starting time\n",
    "model = model_dc_multidim()\n",
    "model.setup()\n",
    "model.create_grids()\n",
    "model.solve()\n",
    "t1 = time.time() # set the ending time\n",
    "print(f'time: {t1-t0:.8} seconds') # print the total time"
   ]
  },
  {
   "cell_type": "code",
   "execution_count": null,
   "metadata": {},
   "outputs": [],
   "source": [
    "# Figure\n",
    "def figure_multi_dim(par,sol,z,i_p):\n",
    "    p = par.grid_p[i_p]\n",
    "    if z == 0:\n",
    "        print(f'Retire in t+1')\n",
    "        ts = [par.T, par.T-1, par.T-2, par.T-3, par.T-4]\n",
    "        print(f'p={p:.3}')\n",
    "    elif z ==1:\n",
    "        print(f'Working in t+1')\n",
    "        print(f'p={p:.3}')\n",
    "        ts = [par.T, par.T-1, par.T-2, par.T-3, par.T-4]\n",
    "    fig = plt.figure(figsize=(8,5))\n",
    "    ax = fig.add_subplot(1,1,1)\n",
    "    for i in ts:\n",
    "        ax.scatter(par.grid_m,sol.c[i-1,z,:,i_p], label=f't = {i}')\n",
    "    ax.set_xlabel(f\"$m_t$\")\n",
    "    ax.set_ylabel(f\"$c(m_t,z_{{t+1}} = {z}, p = {p:.3})$\")\n",
    "    ax.set_xlim([0, 5])\n",
    "    ax.set_ylim([0,3])\n",
    "    ax.set_title(f'Consumption function')\n",
    "    plt.legend()\n",
    "    plt.show()\n",
    "\n",
    "figure_multi_dim(model.par,model.sol,1,25)\n",
    "figure_multi_dim(model.par,model.sol,1,50)\n",
    "figure_multi_dim(model.par,model.sol,1,75)"
   ]
  }
 ],
 "metadata": {
  "kernelspec": {
   "display_name": "Python 3",
   "language": "python",
   "name": "python3"
  },
  "language_info": {
   "codemirror_mode": {
    "name": "ipython",
    "version": 3
   },
   "file_extension": ".py",
   "mimetype": "text/x-python",
   "name": "python",
   "nbconvert_exporter": "python",
   "pygments_lexer": "ipython3",
   "version": "3.7.9"
  }
 },
 "nbformat": 4,
 "nbformat_minor": 4
}
