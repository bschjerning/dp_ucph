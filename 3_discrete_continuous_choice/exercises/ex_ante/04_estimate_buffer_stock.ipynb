{
 "cells": [
  {
   "cell_type": "code",
   "execution_count": null,
   "metadata": {},
   "outputs": [],
   "source": [
    "# magics: ensures that any changes to the modules loaded below will be re-loaded automatically\n",
    "%load_ext autoreload\n",
    "%autoreload 2\n",
    "\n",
    "# load general packages\n",
    "import numpy as np\n",
    "import matplotlib.pyplot as plt\n",
    "\n",
    "# load modules related to this exercise\n",
    "import tools \n",
    "from model_exante import model_bufferstock\n",
    "import estimate_exante as estimate"
   ]
  },
  {
   "cell_type": "markdown",
   "metadata": {},
   "source": [
    "# Exercise 4: Estimating the buffer-stock consumption model with MLE and MSM "
   ]
  },
  {
   "cell_type": "markdown",
   "metadata": {},
   "source": [
    "Consider the canonical buffer-stock consumpion model. The exercise will be to add code to estimate such that we can produce consistent estimates under both MLE and MSM."
   ]
  },
  {
   "cell_type": "markdown",
   "metadata": {},
   "source": [
    "#### 1. Ensure that you *understand* the following sections and functions:\n",
    "<il type =\"a\">\n",
    "<li> section a)  and b)</li>\n",
    "<li> estimate.updatepar </li>\n",
    "<li> estimate.maximum_likelihood </li>\n",
    "</il>"
   ]
  },
  {
   "cell_type": "markdown",
   "metadata": {},
   "source": [
    "##### a) Solve"
   ]
  },
  {
   "cell_type": "code",
   "execution_count": null,
   "metadata": {},
   "outputs": [],
   "source": [
    "#Settings, Solve and simulate\n",
    "model = model_bufferstock()\n",
    "model.life_cycle_setup()\n",
    "model.create_grids()\n",
    "model.solve()\n",
    "model.simulate()\n"
   ]
  },
  {
   "cell_type": "markdown",
   "metadata": {},
   "source": [
    "##### b) Create data set"
   ]
  },
  {
   "cell_type": "code",
   "execution_count": null,
   "metadata": {},
   "outputs": [],
   "source": [
    "par = model.par\n",
    "sol = model.sol\n",
    "sim = model.sim\n",
    "\n",
    "par.sigma_eta = 0.1\n",
    "\n",
    "class data: pass\n",
    "data.t = 20 # Time period used for estimation\n",
    "data.M = sim.M[data.t,:]\n",
    "data.P = sim.P[data.t,:]\n",
    "data.m = sim.m[data.t,:]\n",
    "data.logC = np.log(sim.C[data.t,:])-np.random.normal(scale=par.sigma_eta, size=(1,par.simN)) #Add noise to the data\n"
   ]
  },
  {
   "attachments": {},
   "cell_type": "markdown",
   "metadata": {},
   "source": [
    "#### 2. Fill in the missing stuff in the function:\n",
    "<il type =\"a\">\n",
    "<li> estimate.log_likelihood</li>"
   ]
  },
  {
   "cell_type": "markdown",
   "metadata": {},
   "source": [
    "#### 3. Run section c) and d) and check that your results are correct"
   ]
  },
  {
   "cell_type": "markdown",
   "metadata": {},
   "source": [
    "##### c) Illustrate likelihood function"
   ]
  },
  {
   "cell_type": "code",
   "execution_count": null,
   "metadata": {},
   "outputs": [],
   "source": [
    "#Copy the true parameters,\n",
    "import copy\n",
    "par_beta = copy.copy(par.beta)\n",
    "par_rho = copy.copy(par.rho)\n",
    "\n",
    "# Make grid\n",
    "Nbeta = 20\n",
    "Nrho = 15\n",
    "beta = np.linspace(0.9,0.97,Nbeta)\n",
    "rho = np.linspace(1.1,4,Nrho)\n",
    "\n",
    "# Allocate\n",
    "log_lik = np.nan + np.zeros((Nbeta,Nrho))\n",
    "\n",
    "# Find the log-likelihood for each combination of beta and rho\n",
    "for i in range(Nbeta):\n",
    "    print(i) # print i, and thereby it shows how far the code is\n",
    "    for j in range(Nrho):\n",
    "        est_par = ['beta','rho']\n",
    "        theta0 = [beta[i], rho[j]]\n",
    "        log_lik[i,j]=estimate.log_likelihood(theta0, model, est_par, data)\n",
    "\n",
    "#Re-inset the true parameters \n",
    "par.beta = copy.copy(par_beta)\n",
    "par.rho = copy.copy(par_rho)"
   ]
  },
  {
   "cell_type": "code",
   "execution_count": null,
   "metadata": {},
   "outputs": [],
   "source": [
    "# plot figure in three dimensions\n",
    "from mpl_toolkits.mplot3d import Axes3D\n",
    "from matplotlib import cm\n",
    "plt.style.use('seaborn-whitegrid')\n",
    "\n",
    "# Set up figure\n",
    "fig = plt.figure(figsize=(10,5))\n",
    "ax = fig.add_subplot(1,1,1,projection='3d')\n",
    "\n",
    "# Make data.\n",
    "X, Y = np.meshgrid(rho, beta)\n",
    "\n",
    "# Plot the surface.\n",
    "surf = ax.plot_surface(X, Y, log_lik, cmap=cm.jet)\n",
    "\n",
    "# Customize the axis.\n",
    "ax.set_xlabel(f'\\u03C1')\n",
    "ax.set_ylabel(f'\\u03B2')\n",
    "ax.set_title(f'Log-likelihood (\\u03C1,\\u03B2)')\n",
    "ax.invert_xaxis()\n",
    "\n",
    "# Add a color bar which maps values to colors.\n",
    "fig.colorbar(surf, shrink=0.5, aspect=5)\n",
    "\n",
    "plt.show()"
   ]
  },
  {
   "cell_type": "code",
   "execution_count": null,
   "metadata": {},
   "outputs": [],
   "source": [
    "# Plot figure in two dimensions\n",
    "i_rho = abs(par_rho - rho).argmin(0) #index of rho closest to the true rho\n",
    "i_beta = abs(par_beta - beta).argmin(0) #index of beta closest to the true beta\n",
    "\n",
    "#Set up figure\n",
    "fig = plt.figure(figsize=(20,5))# figsize is in inches...\n",
    "\n",
    "ax = fig.add_subplot(1,2,1)\n",
    "ax.plot(beta,log_lik[:,i_rho])\n",
    "ax.set_xlabel(f'\\u03B2')\n",
    "ax.set_title(f'Log-Likelihood given \\u03C1 = {rho[i_rho]:.2f} ')\n",
    "\n",
    "ax = fig.add_subplot(1,2,2)\n",
    "ax.plot(rho,log_lik[i_beta,:])\n",
    "ax.set_xlabel(f'\\u03C1')\n",
    "ax.set_title(f'Log-likelihood given \\u03B2 = {beta[i_beta]:.4f}')\n",
    "\n",
    "\n",
    "plt.show()"
   ]
  },
  {
   "cell_type": "markdown",
   "metadata": {},
   "source": [
    "##### d) Estimate by MLE"
   ]
  },
  {
   "cell_type": "code",
   "execution_count": null,
   "metadata": {},
   "outputs": [],
   "source": [
    "est_par = ['beta'] # Parameter to estimate\n",
    "theta0 = [0.94] # Initial guess\n",
    "\n",
    "est = estimate.maximum_likelihood(model, est_par,theta0,data)\n",
    "\n",
    "#Re-inset the true parameters \n",
    "par.beta = copy.copy(par_beta)\n",
    "\n",
    "print(f'Log-Likelihood:          {-est.fun:.4f}')\n",
    "print(f'beta:                    {est.x[0]:.4f}')\n",
    "print(f'Number of iterartions:   {est.nit}')"
   ]
  },
  {
   "cell_type": "code",
   "execution_count": null,
   "metadata": {},
   "outputs": [],
   "source": [
    "est_par = ['rho'] # Parameter to estimate\n",
    "theta0 = [4] # Initial guess\n",
    "\n",
    "est = estimate.maximum_likelihood(model, est_par,theta0,data)\n",
    "\n",
    "#Re-inset the true parameters \n",
    "par.rho = copy.copy(par_rho)\n",
    "\n",
    "print(f'Log-Likelihood:          {-est.fun:.4f}')\n",
    "print(f'rho:                     {est.x[0]:.4f}')\n",
    "print(f'Number of iterartions:   {est.nit}')"
   ]
  },
  {
   "cell_type": "code",
   "execution_count": null,
   "metadata": {},
   "outputs": [],
   "source": [
    "est_par = ['rho','beta'] # Parameters to estimate\n",
    "theta0 = [3, 0.94] # Initial guesses\n",
    "\n",
    "est = estimate.maximum_likelihood(model, est_par,theta0,data)\n",
    "\n",
    "#Re-inset the true parameters \n",
    "par.beta = copy.copy(par_beta)\n",
    "par.rho = copy.copy(par_rho)\n",
    "\n",
    "print(f'Log-Likelihood:          {-est.fun:.4f}')\n",
    "print(f'rho:                     {est.x[0]:.4f}')\n",
    "print(f'beta:                    {est.x[1]:.4f}')\n",
    "print(f'Number of iterartions:   {est.nit}')"
   ]
  },
  {
   "cell_type": "markdown",
   "metadata": {},
   "source": [
    "#### 4. Ensure that you *understand* the following section and functions:\n",
    "<il type =\"a\">\n",
    "<li> section e) </li>\n",
    "<li> estimate.calc_moments </li>\n",
    "<li> estimate.method_simulated_moments </li>\n",
    "</il>\n"
   ]
  },
  {
   "cell_type": "markdown",
   "metadata": {},
   "source": [
    "##### e) MSM Settings"
   ]
  },
  {
   "cell_type": "code",
   "execution_count": null,
   "metadata": {},
   "outputs": [],
   "source": [
    "par.simN = 30000\n",
    "par.moments_minage = 40\n",
    "par.moments_maxage = 55\n",
    "par.moments_numsim = 1\n",
    "data = copy.copy(sim)\n",
    "data.moments = estimate.calc_moments(par,data)"
   ]
  },
  {
   "attachments": {},
   "cell_type": "markdown",
   "metadata": {},
   "source": [
    "#### 5. Fill in the missing stuff in the functions:\n",
    "<il type =\"a\">\n",
    "<li> estimate.sum_squared_diff_moments </li>\n",
    "</il>"
   ]
  },
  {
   "cell_type": "markdown",
   "metadata": {},
   "source": [
    "#### 6. Run section f) and g) of Exercise_2 to check that your results are correct"
   ]
  },
  {
   "cell_type": "markdown",
   "metadata": {},
   "source": [
    "##### f) Illustrate MSM"
   ]
  },
  {
   "cell_type": "code",
   "execution_count": null,
   "metadata": {},
   "outputs": [],
   "source": [
    "# Make grid\n",
    "Nbeta = 20\n",
    "Nrho = 15\n",
    "beta = np.linspace(0.9,0.97,Nbeta)\n",
    "rho = np.linspace(1.1,4,Nrho)\n",
    "\n",
    "# Allocate\n",
    "obj = np.nan + np.zeros((Nbeta,Nrho))\n",
    "\n",
    "# Find objective function for each combination of beta and rho\n",
    "for i in range(Nbeta):\n",
    "    print(i) \n",
    "    for j in range(Nrho):\n",
    "        est_par = ['beta','rho']\n",
    "        theta0 = [beta[i], rho[j]]\n",
    "        obj[i,j]=estimate.sum_squared_diff_moments(theta0,model,est_par,data)\n",
    "\n",
    "#Re-inset the true parameters \n",
    "par.beta = copy.copy(par_beta)\n",
    "par.rho = copy.copy(par_rho)"
   ]
  },
  {
   "cell_type": "code",
   "execution_count": null,
   "metadata": {},
   "outputs": [],
   "source": [
    "#Plot figure in three dimensions\n",
    "fig = plt.figure(figsize=(10,5))\n",
    "ax = fig.add_subplot(1,1,1,projection='3d')\n",
    "\n",
    "# Make data.\n",
    "X, Y = np.meshgrid(rho, beta)\n",
    "\n",
    "# Plot the surface.\n",
    "surf = ax.plot_surface(X, Y, obj, cmap=cm.jet)\n",
    "\n",
    "# Customize the axis.\n",
    "ax.set_xlabel(f'\\u03C1')\n",
    "ax.set_ylabel(f'\\u03B2')\n",
    "ax.set_title(f'Mehod of Simulated Moments (\\u03C1,\\u03B2)')\n",
    "ax.set_xlim(1.0,4.0)\n",
    "ax.set_ylim(0.9,0.98)\n",
    "ax.invert_xaxis()\n",
    "\n",
    "# Add a color bar which maps values to colors.\n",
    "fig.colorbar(surf, shrink=0.5, aspect=5)\n",
    "\n",
    "plt.show()"
   ]
  },
  {
   "cell_type": "code",
   "execution_count": null,
   "metadata": {},
   "outputs": [],
   "source": [
    "# Plot figure in two dimensions\n",
    "i_rho = abs(par_rho - rho).argmin(0) #index of rho closest to true rho\n",
    "i_beta = abs(par_beta - beta).argmin(0) #index of beta closest to true beta\n",
    "\n",
    "#Set up figure\n",
    "fig = plt.figure(figsize=(20,5))# figsize is in inches...\n",
    "\n",
    "ax = fig.add_subplot(1,2,1)\n",
    "ax.plot(beta,obj[:,i_rho])\n",
    "ax.set_xlabel(f'\\u03B2')\n",
    "ax.set_title(f'Method of simulated moment given \\u03C1 = {rho[i_rho]:.2f} ')\n",
    "\n",
    "ax = fig.add_subplot(1,2,2)\n",
    "ax.plot(rho,obj[i_beta,:])\n",
    "ax.set_xlabel(f'\\u03C1')\n",
    "ax.set_title(f'Method of simulated moment given \\u03B2 = {beta[i_beta]:.2f}')\n",
    "\n",
    "\n",
    "plt.show()"
   ]
  },
  {
   "cell_type": "markdown",
   "metadata": {},
   "source": [
    "##### g) Estimate by MSM"
   ]
  },
  {
   "cell_type": "code",
   "execution_count": null,
   "metadata": {},
   "outputs": [],
   "source": [
    "est_par = ['beta'] # Parameter to estimate\n",
    "theta0 = [0.92] # Initial guess\n",
    "\n",
    "est = estimate.method_simulated_moments(model, est_par,theta0,data)\n",
    "\n",
    "#Re-inset the true parameters \n",
    "par.beta = copy.copy(par_beta)\n",
    "\n",
    "print(f'Objective:               {est.fun:.4f}')\n",
    "print(f'beta:                    {est.x[0]:.4f}')\n",
    "print(f'Number of iterartions:   {est.nit}')\n"
   ]
  },
  {
   "cell_type": "code",
   "execution_count": null,
   "metadata": {},
   "outputs": [],
   "source": [
    "est_par = ['rho'] # Parameter to estimate\n",
    "theta0 = [4] # Initial guess\n",
    "\n",
    "est = estimate.method_simulated_moments(model, est_par,theta0,data)\n",
    "\n",
    "#Re-inset the true parameters \n",
    "par.rho = copy.copy(par_rho)\n",
    "\n",
    "print(f'Objective:               {est.fun:.4f}')\n",
    "print(f'rho:                     {est.x[0]:.4f}')\n",
    "print(f'Number of iterartions:   {est.nit}')\n"
   ]
  },
  {
   "cell_type": "code",
   "execution_count": null,
   "metadata": {},
   "outputs": [],
   "source": [
    "est_par = ['rho','beta'] # Parameters to estimate\n",
    "theta0 = [4, 0.92] # Initial guesses\n",
    "\n",
    "est = estimate.method_simulated_moments(model, est_par,theta0,data)\n",
    "\n",
    "#Re-inset the true parameters \n",
    "par.beta = copy.copy(par_beta)\n",
    "par.rho = copy.copy(par_rho)\n",
    "\n",
    "print(f'Objective:               {est.fun:.4f}')\n",
    "print(f'rho:                     {est.x[0]:.4f}')\n",
    "print(f'beta:                    {est.x[1]:.4f}')\n",
    "print(f'Number of iterartions:   {est.nit}')\n"
   ]
  }
 ],
 "metadata": {
  "kernelspec": {
   "display_name": "Python 3",
   "language": "python",
   "name": "python3"
  },
  "language_info": {
   "codemirror_mode": {
    "name": "ipython",
    "version": 3
   },
   "file_extension": ".py",
   "mimetype": "text/x-python",
   "name": "python",
   "nbconvert_exporter": "python",
   "pygments_lexer": "ipython3",
   "version": "3.9.7"
  }
 },
 "nbformat": 4,
 "nbformat_minor": 4
}
