{
 "cells": [
  {
   "cell_type": "code",
   "execution_count": null,
   "metadata": {},
   "outputs": [],
   "source": [
    "# magics: ensures that any changes to the modules loaded below will be re-loaded automatically\n",
    "%load_ext autoreload\n",
    "%autoreload 2\n",
    "\n",
    "# load general packages\n",
    "from scipy import interpolate\n",
    "import numpy as np\n",
    "import matplotlib.pyplot as plt\n",
    "\n",
    "# load modules related to this exercise\n",
    "import Exercise_1 as ex1"
   ]
  },
  {
   "attachments": {},
   "cell_type": "markdown",
   "metadata": {},
   "source": [
    "# Exercise 1: Time iteration\n",
    "\n",
    "Consider the model\n",
    "$$\\begin{align*}\n",
    "V_{t}(M_{t}) & = & \\max_{C_{t}}\\left\\{ \\frac{C_{t}^{1-\\rho}}{1-\\rho}+\\beta\\mathbb{E}_{t}\\left[V_{t+1}(M_{t+1})\\right]\\right\\} \\\\\n",
    " & \\text{s.t.}\\\\\n",
    "M_{t+1} & = & R(M_{t}-C_{t})+Y_{t+1}\\\\\n",
    "Y_{t+1} & = & \\exp(\\xi_{t+1})\\\\\n",
    "\\xi_{t+1} & = & \\mathcal{N}(\\mu,\\sigma_{\\xi}^{2})\\\\\n",
    "A_{t}=M_{t}-C_{t} & \\geq & 0\n",
    "\\end{align*}$$\n",
    "\n",
    "for $T=10$, $\\beta=0.98$, $\\rho=0.5$, $R=1.0/\\beta$, $M_1=10$ and $\\sigma_{\\xi}=0.2$."
   ]
  },
  {
   "attachments": {},
   "cell_type": "markdown",
   "metadata": {},
   "source": [
    "### 1. Solve the model using time iteration. Remember that optimal consumption must satisfy the Euler-equation:\n",
    "$$\\begin{align*}\n",
    "u'(C_t) = \\beta R \\mathbb{E}_t[u'(C_{t+1}^{\\star}(M_{t+1}))]\n",
    "\\end{align*}$$"
   ]
  },
  {
   "cell_type": "code",
   "execution_count": null,
   "metadata": {},
   "outputs": [],
   "source": [
    "# Setup\n",
    "par = ex1.setup()\n",
    "# Solve\n",
    "sol = ex1.solve_ti(par)"
   ]
  },
  {
   "cell_type": "code",
   "execution_count": null,
   "metadata": {},
   "outputs": [],
   "source": [
    "# Print consumption function\n",
    "\n",
    "fig = plt.figure(figsize=(8,5))# figsize is in inches...\n",
    "ax = fig.add_subplot(1,1,1)\n",
    "for t in range(par.T):\n",
    "    ax.plot(par.grid_M,sol.C[:,t], label=t+1)\n",
    "ax.set_xlabel(f\"$M_t$\")\n",
    "ax.set_ylabel(f\"$C_t$\")\n",
    "ax.set_title(f'Consumption function')\n",
    "plt.legend()\n",
    "\n",
    "plt.show()"
   ]
  },
  {
   "cell_type": "markdown",
   "metadata": {},
   "source": [
    "### 2. Simulate a panel of *N=10000* household for *T=10* periods and plot the mean of $C_t$. Everybody should be initialized with $W_t = 1.5$."
   ]
  },
  {
   "cell_type": "code",
   "execution_count": null,
   "metadata": {},
   "outputs": [],
   "source": [
    "sim = ex1.simulate(par,sol)\n",
    "\n",
    "def figure_sim(simC,par):\n",
    "    fig = plt.figure(figsize=(10,4))# figsize is in inches...\n",
    "    t_grid = [t for t in range(1,par.T+1)]    \n",
    "    ax = fig.add_subplot(1,1,1)\n",
    "    ax.plot(t_grid,np.mean(simC,0),'-o')\n",
    "    ax.set_xlabel(f\"t\")\n",
    "    ax.set_ylabel(f\"Mean of consumption\")\n",
    "    ax.set_ylim(bottom=0.5,top=1.5)\n",
    "    plt.show()\n",
    "    \n",
    "figure_sim(sim.C,par)"
   ]
  },
  {
   "attachments": {},
   "cell_type": "markdown",
   "metadata": {},
   "source": [
    "### 3. Calculate the Euler-error and the normalized Euler-error\n",
    "\n",
    "\n",
    "#### Recall the Euler-error:\n",
    "\n",
    "$$\\begin{align*}\n",
    " \\frac{1}{\\sum_{i=1}^{N}\\sum_{t=1}^{T}  \\mathbb{1}_{\\{0<C_1<W_{it}\\}}}\\sum_{i=1}^{N}\\sum_{t=1}^{T} \\mathbb{1}_{\\{0<C_1<W_{it}\\}} |\\varepsilon_{it}|\n",
    " \\end{align*}$$\n",
    " where\n",
    "\n",
    "$$\\begin{align*}\n",
    "  \\varepsilon_{it} \\approx u'(C_{it})-\\beta R \\sum_{j=1}^{S} \\omega_j \\Big[u'\\big(C_{t+1}^{\\star}(R(W_{it}-C_{it})+Y_j)\\big)\\Big]\n",
    " \\end{align*}$$\n",
    " \n",
    " and $\\omega_j$ are the Gauss-Hermite weights and $Y_j$ are the associated income nodes.\n",
    " \n",
    "#### Recall the normalized Euler-error:\n",
    "\n",
    "\n",
    "$$\\begin{align*}\n",
    " \\frac{1}{\\sum_{i=1}^{N}\\sum_{t=1}^{T} \\mathbb{1}_{\\{0<C_1<W_{it}\\}}}\\sum_{i=1}^{N}\\sum_{t=1}^{T} log_{10}(|\\varepsilon_{it}| / C_{it}) \\mathbb{1}_{0<C_1<W_{it}} \n",
    " \\end{align*}$$\n"
   ]
  },
  {
   "cell_type": "code",
   "execution_count": null,
   "metadata": {},
   "outputs": [],
   "source": [
    "Euler_residual = np.nan + np.zeros((par.simN,par.T-1))\n",
    "A = np.nan + np.zeros((par.simN,par.T-1))\n",
    "\n",
    "# Calculate Euler error\n",
    "for t in range(par.T-1):\n",
    "    m = sim.M[:,t]\n",
    "    c = sim.C[:,t]\n",
    "    A[:,t] = m-c\n",
    "    \n",
    "    # Fill in\n",
    "    # Hint: Do as in Exercise_1.euler_error_func\n",
    "\n",
    "    Euler_residual[:,t] = U_now-par.beta*par.R*EU_next\n",
    "    \n",
    "#Handle edge cases\n",
    "I = (A>0)   # Define an indicator for A bigger than 0\n",
    "\n",
    "#Calculate mean Euler error for interior points\n",
    "Euler_error = np.mean(abs(Euler_residual[I]))\n",
    "print(f'The Euler error:    {Euler_error:.5f}')\n",
    "\n",
    "\n",
    "# Calculate the normalized Euler error\n",
    "C =(sim.C[:,0:par.T-1])\n",
    "nom_Euler_error = np.log10(abs(Euler_residual[I])/(C[I]))   \n",
    "nom_Euler_error = np.mean(nom_Euler_error)\n",
    "\n",
    "\n",
    "print(f'The Normalized Euler error:    {nom_Euler_error:.5f}')"
   ]
  },
  {
   "cell_type": "markdown",
   "metadata": {},
   "source": [
    "What is the Euler error? Why is it not exact zero?"
   ]
  }
 ],
 "metadata": {
  "kernelspec": {
   "display_name": "base",
   "language": "python",
   "name": "python3"
  },
  "language_info": {
   "codemirror_mode": {
    "name": "ipython",
    "version": 3
   },
   "file_extension": ".py",
   "mimetype": "text/x-python",
   "name": "python",
   "nbconvert_exporter": "python",
   "pygments_lexer": "ipython3",
   "version": "3.9.7"
  },
  "vscode": {
   "interpreter": {
    "hash": "e426bf05754cca8d7bd83a0dce81a672af178a75fe45d0c3ca2f6c8ec8bbe319"
   }
  }
 },
 "nbformat": 4,
 "nbformat_minor": 4
}
