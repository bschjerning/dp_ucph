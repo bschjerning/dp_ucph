{
 "cells": [
  {
   "cell_type": "code",
   "execution_count": null,
   "metadata": {},
   "outputs": [],
   "source": [
    "# magics: ensures that any changes to the modules loaded below will be re-loaded automatically\n",
    "%load_ext autoreload\n",
    "%autoreload 2\n",
    "\n",
    "# load general packages\n",
    "from scipy import interpolate\n",
    "import numpy as np\n",
    "import matplotlib.pyplot as plt\n",
    "import time\n",
    "plt.style.use('seaborn-whitegrid')"
   ]
  },
  {
   "attachments": {},
   "cell_type": "markdown",
   "metadata": {},
   "source": [
    "# Exercise 2: EGM\n",
    "\n",
    "Consider the model\n",
    "$$\\begin{align*}\n",
    "V_{t}(M_{t}) & = & \\max_{C_{t}}\\left\\{ \\frac{C_{t}^{1-\\rho}}{1-\\rho}+\\beta\\mathbb{E}_{t}\\left[V_{t+1}(M_{t+1})\\right]\\right\\} \\\\\n",
    " & \\text{s.t.}\\\\\n",
    "M_{t+1} & = & R(M_{t}-C_{t})+Y_{t+1}\\\\\n",
    "Y_{t+1} & = & \\exp(\\xi_{t+1})\\\\\n",
    "\\xi_{t+1} & = & \\mathcal{N}(\\mu,\\sigma_{\\xi}^{2})\\\\\n",
    "A_{t}=M_{t}-C_{t} & \\geq & 0\n",
    "\\end{align*}$$\n",
    "\n",
    "for $T=10$, $\\beta=0.98$, $\\rho=0.5$, $R=1.0/\\beta$, $M_1=10$ and $\\sigma_{\\xi}=0.2$."
   ]
  },
  {
   "attachments": {},
   "cell_type": "markdown",
   "metadata": {},
   "source": [
    "### 1. Solve the model using EGM. Remember that optimal consumption must satisfy the Euler-equation:\n",
    "$$\\begin{align*}\n",
    "u'(C_t) = \\beta R \\mathbb{E}_t[u'(C_{t+1}^{\\star}(M_{t+1}))]\n",
    "\\end{align*}$$"
   ]
  },
  {
   "cell_type": "code",
   "execution_count": null,
   "metadata": {},
   "outputs": [],
   "source": [
    "# Import EGM model\n",
    "import Exercise_2 as ex2\n",
    "\n",
    "# Setup\n",
    "par_EGM = ex2.setup()\n",
    "\n",
    "# Solve\n",
    "sol_EGM = ex2.solve_EGM(par_EGM, vector=False)"
   ]
  },
  {
   "cell_type": "code",
   "execution_count": null,
   "metadata": {},
   "outputs": [],
   "source": [
    "# Import time iterations model\n",
    "import Exercise_1 as ex1\n",
    "\n",
    "# Setup\n",
    "par_TI = ex1.setup()\n",
    "\n",
    "# Solve\n",
    "sol_TI = ex1.solve_ti(par_TI)"
   ]
  },
  {
   "cell_type": "code",
   "execution_count": null,
   "metadata": {},
   "outputs": [],
   "source": [
    "# Print consumption function\n",
    "fig = plt.figure(figsize=(8,5))# figsize is in inches...\n",
    "ax = fig.add_subplot(1,1,1)\n",
    "for t in range(par_EGM.T):\n",
    "    ax.plot(sol_EGM.M[:,t],sol_EGM.C[:,t],  label=f\"t = {t + 1}, EGM\",  linestyle='-')\n",
    "    ax.plot(par_TI.grid_M,sol_TI.C[:,t],    label=f\"t = {t + 1}, TI\",   linestyle='--')\n",
    "ax.set_xlabel(f\"$M_t$\")\n",
    "ax.set_ylabel(f\"$C_t$\")\n",
    "ax.set_title(f'Consumption function')\n",
    "ax.legend(bbox_to_anchor=(1.05, 1), loc='upper left', borderaxespad=0.)\n",
    "plt.show()"
   ]
  },
  {
   "cell_type": "markdown",
   "metadata": {},
   "source": [
    "### 2. Simulate a panel of *N=10000* household for *T=10* periods and plot the mean of $C_t$. Everybody should be initialized with $W_t = 1.5$."
   ]
  },
  {
   "cell_type": "code",
   "execution_count": null,
   "metadata": {},
   "outputs": [],
   "source": [
    "sim = ex2.simulate(par_EGM,sol_EGM)\n",
    "\n",
    "def figure_sim(simC,par):\n",
    "    fig = plt.figure(figsize=(10,4))# figsize is in inches...\n",
    "    t_grid = [t for t in range(1,par.T+1)]    \n",
    "    ax = fig.add_subplot(1,1,1)\n",
    "    ax.plot(t_grid,np.mean(sim.C,0),'-o')\n",
    "    ax.set_xlabel(f\"t\")\n",
    "    ax.set_ylabel(f\"Mean of consumption\")\n",
    "    ax.set_ylim(bottom=0.5,top=1.5)\n",
    "    plt.show()\n",
    "    \n",
    "figure_sim(sim.C,par_EGM)"
   ]
  },
  {
   "attachments": {},
   "cell_type": "markdown",
   "metadata": {},
   "source": [
    "### 3. How does the speed of the EGM procedure compare with the speed of time iterations\n",
    "(Optional) Could you write a vectorized version of EGM to speed it up? (i.e. without no loop over $a_t$)"
   ]
  },
  {
   "cell_type": "code",
   "execution_count": null,
   "metadata": {},
   "outputs": [],
   "source": [
    "# Time iterations\n",
    "par_TI = ex1.setup()\n",
    "print(\"Time spent on vectorized time iterations:\")\n",
    "%timeit -n 10 sol_TI = ex1.solve_ti(par_TI)\n",
    "\n",
    "# EGM with loop\n",
    "par_EGM = ex2.setup()\n",
    "print(\"Time spent on EGM with loop:\")\n",
    "%timeit -n 10 sol_EGM = ex2.solve_EGM(par_EGM, vector=False)\n",
    "\n",
    "# # Vectorized EGM\n",
    "# par_EGM = ex2.setup()\n",
    "# print(\"Time spent on vectorized EGM:\")\n",
    "# %timeit -n 10 sol_EGM_vec = ex2.solve_EGM(par_EGM, vector=True)"
   ]
  },
  {
   "cell_type": "code",
   "execution_count": null,
   "metadata": {},
   "outputs": [],
   "source": []
  }
 ],
 "metadata": {
  "kernelspec": {
   "display_name": "base",
   "language": "python",
   "name": "python3"
  },
  "language_info": {
   "codemirror_mode": {
    "name": "ipython",
    "version": 3
   },
   "file_extension": ".py",
   "mimetype": "text/x-python",
   "name": "python",
   "nbconvert_exporter": "python",
   "pygments_lexer": "ipython3",
   "version": "3.9.7"
  },
  "vscode": {
   "interpreter": {
    "hash": "ad2bdc8ecc057115af97d19610ffacc2b4e99fae6737bb82f5d7fb13d2f2c186"
   }
  }
 },
 "nbformat": 4,
 "nbformat_minor": 4
}
