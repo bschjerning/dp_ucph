{
 "cells": [
  {
   "cell_type": "markdown",
   "metadata": {
    "slideshow": {
     "slide_type": "slide"
    }
   },
   "source": [
    "# Term-papers and plans for supervision and student presentations \n",
    "\n",
    "\n",
    "### Dynamic Programming\n",
    "\n",
    "\n",
    "Bertel Schjerning\n",
    "\n",
    "Department of Economics, University of Copenhagen\n"
   ]
  },
  {
   "cell_type": "markdown",
   "metadata": {
    "slideshow": {
     "slide_type": "slide"
    }
   },
   "source": [
    "## [Part I: Theory and Tools](https://github.com/bschjerning/dp_ucph/tree/main/1_theory_tools)                                                      \n",
    "\n",
    "| Week | Lecture | Day | Date      | Topic |\n",
    "|------|---------|-----|-----------|------------------------------------------------------|\n",
    "| 6    | 1       | wed | 05/Feb/25 | [Introduction to Markov Decision Processes (MDPs) and Dynamic Programming (DP)](/1_theory_tools/01_dp_intro.ipynb)                          |\n",
    "|      | 2       | thu | 06/Feb/25 | [Numerical Implementation of Simple Deterministic DP Problem: The Cake Eating Problem](/1_theory_tools/02_cake_eating_example.ipynb)  |\n",
    "| 7    | 3       | wed | 12/Feb/25 | [Numerical Integration in 1D](/1_theory_tools/03_deaton_1d_integration.ipynb)    |  \n",
    "|      | 4       | thu | 13/Feb/25 |  [Multi-dimensional Integration: Monte Carlo and Quadrature Methods](/1_theory_tools/04_multi_d_integration.ipynb)  <br> [Portfolio Choice Example (Part 1): Integration](/1_theory_tools/04a_portfolio_integration.ipynb)<br> [Portfolio Choice Example (Part 2): Optimization](/1_theory_tools/04b_portfolio_optimal.ipynb)  |  \n",
    "| 8    | 5       | wed | 19/Feb/25 | [Multi-dimensional choices and integration: Dynamic Portfolio Choice](/1_theory_tools/04c_dynamic_portfolio.ipynb) | \n",
    "|      | 6       | thu | 20/Feb/25 |   [Function Approximation + The Curse of Dimensionality](/1_theory_tools/05_interpolation.ipynb) <br> [Some Info on Term Papers](/5_term_paper/term_paper.ipynb) |\n"
   ]
  },
  {
   "cell_type": "markdown",
   "metadata": {
    "slideshow": {
     "slide_type": "slide"
    }
   },
   "source": [
    "## [Part II: Structural Estimation of Dynamic Discrete Choice Models](https://github.com/bschjerning/dp_ucph/tree/main/2_dynamic_discrete_choice)      \n",
    "| Week | Lecture | Day | Date      | Topic |\n",
    "|------|---------|-----|-----------|------------------------------------------------------|\n",
    "| 9  | 7  | wed | 26/Feb/25 | [The Nested Fixed Point Algorithm (NFXP)](/2_dynamic_discrete_choice/1_nfxp.pdf)|\n",
    "|    | 8  | thu | 27/Feb/25 | [Constrained Optimization Approaches to Structural Estimation (MPEC)](/2_dynamic_discrete_choice/2_mpec.pdf) |\n",
    "| 10 | 9  | wed | 05/Mar/25 | [Sequential Estimation in Discrete Decision Problems: Nested Pseudo Likelihood (NPL) and CCP Estimators](/2_dynamic_discrete_choice/3_npl.pdf) |\n",
    "|    | 10 | thu | 06/Mar/25 | [Stationary Equilibrium: Equilibrium Trade in Automobile Markets](/2_dynamic_discrete_choice/4_eqbtrade.pdf) |\n"
   ]
  },
  {
   "cell_type": "markdown",
   "metadata": {
    "slideshow": {
     "slide_type": "slide"
    }
   },
   "source": [
    "## [Part III: Structural Estimation of Models with Continuous (and Discrete) Choices](https://github.com/bschjerning/dp_ucph/tree/main/3_discrete_continuous_choice)\n",
    "| Week | Lecture | Day | Date      | Topic |\n",
    "|------|---------|-----|-----------|------------------------------------------------------|\n",
    "| 11 | 11 | wed | 12/Mar/25 | [The Euler Equation, Time Iterations and EGM](/3_discrete_continuous_choice/1_euler_egm.ipynb)             |\n",
    "|    | 12 | thu | 13/Mar/25 | [Discrete-Continuous Choice Models (DC-EGM)](/3_discrete_continuous_choice/2_dcegm.pdf)  |\n",
    "| 12 | 13 | wed | 19/Mar/25 | [More on Structural Estimation](/3_discrete_continuous_choice/3_struct_est.pdf) [Simple Code Example of SMD]()| \n",
    "|    | 14 | thu | 20/Mar/25 | [Empirical Application of DC-EGM (Iskhakov and Keane, JoE 2021)](/3_discrete_continuous_choice/4_aupens_dc_egm.pdf)  |\n",
    "\n",
    "                                                                \n",
    "## [Part IV: Solving and Estimation of Dynamic Games](https://github.com/bschjerning/dp_ucph/tree/main/4_dynamic_games)\t\n",
    "| Week | Lecture | Day | Date      | Topic |\n",
    "|------|---------|-----|-----------|------------------------------------------------------|\n",
    "| 13 | 15 | wed | 26/Mar/25 | [Solving and Estimating Static Games of Incomplete Information](/4_dynamic_games/1_StaticGames.pdf)  |\n",
    "|    | 16 | thu | 27/Mar/25 | [Structural Estimation of Dynamic Games Using MPEC, NPL and 2-step-PML](/4_dynamic_games/2_DynamicGames.pdf)  |\n",
    "| 14 | 17 | wed | 02/Apr/25 | [Solving Directional Dynamic Games with Multiple Equilibria Using RLS (skipped)](/4_dynamic_games/3_rls.pdf) <br> [Estimating Directional Dynamic Games with Multiple Equilibria Using NRLS](/4_dynamic_games/4_nrls.pdf)  |\n",
    "|    | 18 | thu | 03/Apr/25 |  No Lecture  |\n",
    "| 15 | 19 | wed | 09/Apr/25 | DP and Machine Learning (Jakob) |\n",
    "\n"
   ]
  },
  {
   "cell_type": "markdown",
   "metadata": {
    "slideshow": {
     "slide_type": "slide"
    }
   },
   "source": [
    "## [Part V: Work on Research Papers](https://github.com/bschjerning/dp_ucph/tree/main/5_term_paper)\n",
    "| Week | Lecture | Day | Date      | Topic |\n",
    "|------|---------|-----|-----------|------------------------------------------------------|\n",
    "| 15 |  | Thu | 10/Apr/25 | [Ideas for Term Papers](/5_term_paper/term_paper.ipynb)  |\n",
    "| 16 | 20 | wed | 16/Apr/25 | No Lecture |\n",
    "|    |    | thu | 17/Apr/25 | No Lecture (Easter) |\n",
    "| 17 |  | wed | 23/Apr/25 | No Lecture  |\n",
    "|    |  | thu | 24/Apr/25 | Submit Project Proposal              |\n",
    "| 18 |  | wed | 30/Apr/25 | Research Workshop - day 1 (8 AM - 12 PM)   |\n",
    "|    |  | thu | 01/May/25 | Research Workshop - day 2 (8 AM - 12 PM) |\n",
    "| 23 |  | Tue | 04/Jun/25 | **Submit Term Paper (10 PM)**        |"
   ]
  },
  {
   "cell_type": "markdown",
   "metadata": {
    "slideshow": {
     "slide_type": "slide"
    }
   },
   "source": [
    "### Project descriptions (due April 24th)\n",
    "- Who are the members of your research team?\n",
    "- What is the (working) title of your paper? \n",
    "- What is the research question?\n",
    "- References to relevant literature that you are inspired by - best to point out one “key reference”. \n",
    "- The model you have in mind as a starting point for your analysis.\n",
    "- The solution methods and numerical techniques you consider applying\n",
    "- The estimation mention methods you consider on implementing\n",
    "- The data you rely on (if empirical paper)\n",
    "- Potential counterfactual simulations of interest  \n",
    "- A progressive plan of action / plan of work (start simple).\n"
   ]
  },
  {
   "cell_type": "markdown",
   "metadata": {
    "slideshow": {
     "slide_type": "slide"
    }
   },
   "source": [
    "## Types of term papers \n",
    "### - Some examples from prev. students - and some ideas"
   ]
  },
  {
   "cell_type": "markdown",
   "metadata": {
    "slideshow": {
     "slide_type": "slide"
    }
   },
   "source": [
    "### Paper type 1: Replication Study\n",
    "- Find a paper (where you can get access to the data if paper is empirical)\n",
    "- Make sure there is progression in how difficult it is to replicate results \n",
    "    - simple summary stats $\\to$ models simulation/solution at estimated parameters $\\to$ estimation $\\to$ counter-factuals\n",
    "    - ideally both simpler and more complicated versions of the model are presented  \n",
    "- Replicate results and potentially make an extension and challenge assumptions made it the paper\n",
    "- Sometimes older papers can be a good point because models are simpler. \n",
    "\n",
    " For example: [Special Issue on the Econometrics of Social Insurance](https://onlinelibrary.wiley.com/toc/10991255/2004/19/6) (several structural DP papers). \n",
    "\n",
    "How to get the data?\n",
    "- [JAE Data archive](http://qed.econ.queensu.ca/jae/): data available for many papers at JAE - including the special issue on structural DP\n",
    "- Many journals provide access to data for replication purposes (See [links at AEA website](https://www.aeaweb.org/rfe/showCat.php?cat_id=9)) "
   ]
  },
  {
   "cell_type": "markdown",
   "metadata": {
    "slideshow": {
     "slide_type": "slide"
    }
   },
   "source": [
    "### Example of replication study:  Karlstöm et al (2004)\n",
    "\n",
    "- [Karlstrom, Palme and Svensson (JAE 2004)](https://doi.org/10.1002/jae.798). \"A dynamic programming approach to model the retirement behaviour of blue‐collar workers in Sweden.\" Journal of Applied Econometrics 19.6 (2004): 795-807.\n",
    "- Binary Choice (retire or continue working)\n",
    "- Utility: leisure and consumption (income net of health expenditures)\n",
    "- States: \n",
    "    - Health expenditures, $hc_{it}$ is stochastic and follow a Pareto distribution.\n",
    "    - pension points, $pp_{it}$} is approximated by first order Markov process $F_{pp}(pp_{it+1}|w_{it},pp_{it})$ \n",
    "    - Health status, $h_{it}$} and marital status, $m_{it}$ is approximated by first order Markov processes $F_{h}(h_{it+1}|h_{it})$ and $F_{m}(m_{it+1}|m_{it})$ \n",
    "    - Retirement status, $ra_{it}$: If not retired yet, $ra_{it} = 0$. If retired, $ra_{it}$ is the age at which he retired. \n",
    "    - State transition for $ra_{it}$ and $t_{it}$ is  determined by deterministically decision and time.\n",
    "    - State transition parameters, $F_{hc}, F_{pp}, F_{h}, F_{m}$ are estimated non-parametrically in a first step. \n",
    "\n",
    "\n",
    "1. Replicate results\n",
    "1. Extend utility function to CRRA  type to allow for risk aversion\n",
    "1. Compared different methods of integration (only important when utility is non-linear).\n",
    "\n",
    "- Karlstrom paper part of [Special Issue on the Econometrics of Social Insurance](https://onlinelibrary.wiley.com/toc/10991255/2004/19/6) \n",
    "- [Karlstöms data](http://qed.econ.queensu.ca/jae/2004-v19.6/) can be found at the JAE data archive"
   ]
  },
  {
   "cell_type": "markdown",
   "metadata": {
    "slideshow": {
     "slide_type": "slide"
    }
   },
   "source": [
    "### Paper Type 2: Econometric/computational simulation study\n",
    "- Choose a model: Often variations of the Bus problem is used as a test-bed comparison of algorithms\n",
    "- Compare different numerical methods (Different types of integration, maximization, function approximation for cont. states, etc) \n",
    "- Compare different solution methods (e.g. NK,SA) \n",
    "- Compare different estimation algorithms (NFXP, MPEC, CCP, NPL, BBL, MSM)\n",
    "- Analyze identification/estimation/inference of parameters and counter-factuals under different sampling schemes (neglected heterogeneity, correlation across alternatives, serially correlated structural errors) \n",
    "- Consider extensions relative to Rust's basic framework (Additive Separability, Conditional Independence, IID EV)\n",
    "- If non-standard approach $\\to $always compare to the standard one. \n",
    "- Monte Carlo: Looks a runtimes, approximation error in value functions, CCPs, Parameters, Counter Factuals (bias, variance)\n",
    "- Present results: Get in-spired by published paper - e.g. Agurregabiria and Mira (2002).  "
   ]
  },
  {
   "cell_type": "markdown",
   "metadata": {
    "slideshow": {
     "slide_type": "slide"
    }
   },
   "source": [
    "### Example of computational/econometric term paper: \n",
    "#### \"Bus Engine Replacement Model and Heterogeneity\"\n",
    "- **Model**: Rust model for engine replacement - with time constant unobserved heterogeneity (continuous latent variable)\n",
    "    $$U(x, \\varepsilon, \\mu_n , d) = u(x, \\mu_n , d) + \\varepsilon(d)$$\n",
    "    $$p(x′\\varepsilon′|x, \\varepsilon, \\mu_n, d) = p(\\varepsilon′|x′, \\mu_n)p(x′|x, d)$$\n",
    "    $\\to$ CCPs and expected value (EV) function still usual (log-sum and logit) formulas - conditional on $\\mu_n$\n",
    "    - need to integrate $\\mu_n$ in likelihood\n",
    "    - need to solve EV for any value of $\\mu_n$ (approximated EV over support for $\\mu_n$ using B-Splines and Chebyshev polynomials)  \n",
    "- **Data**: Simulation study \n",
    "    - Compared different methods for integration (Gauss-Hermite, Equiprobable points, Simulation (Halton/Solbol/Pseudo Random)\n",
    "    - Compared different methods of functional approximation (Chebyshev Polynomials, B-Splines) \n",
    "    - Outcomes of interest: Computer time, approximation error on EV and CCPs, bias and variance on parameters when neglecting heterogeneity, effect on counterfactuals, effect on equilibrium demand curve"
   ]
  },
  {
   "cell_type": "markdown",
   "metadata": {
    "slideshow": {
     "slide_type": "slide"
    }
   },
   "source": [
    "### Potential other econometric/computational ideas for extensions of Rust's Model: \n",
    "- Compare with Fixed Effects Logit approach rather than Random Effects approach see [Aguirregabiria, Gu, and Mira (Journal of Econometrics, in press)](http://www.google.com/url?q=http%3A%2F%2Faguirregabiria.net%2Fwpapers%2Ffixedeffect_dynstructural.pdf&sa=D&sntz=1&usg=AFQjCNEry9XzsK_O_ey2xpKMkjDiU8YPtw): \"Sufficient Statistics for Unobserved Heterogeneity in Structural Dynamic Logit Models\"\n",
    "- Analyze Dynamic Discrete Choice with more flexible subsitution patters (Nested Logit, GEV, Mixed Logit) - see Trains Textbook on Discrete Choice models with simulation"
   ]
  },
  {
   "cell_type": "markdown",
   "metadata": {
    "slideshow": {
     "slide_type": "slide"
    }
   },
   "source": [
    "### Solving high-dimensional models\n",
    "- Breaking the curse of dimensionality using randomization (Rust ECMA, 1997)\n",
    "- “Solving Dynamic Discrete Choice Models Using Smoothing and Sieve Methods”: [Kristensen, Moon, Mogensen and Schjerning) (Journal of Econometrics, in press)](https://doi.org/10.1016/j.jeconom.2020.02.007) \n",
    "- “Machine learning and structural econometrics: contrasts and synergies” [Iskhakov, Rust and Schjerning (Econometrics Journal, 2020](https://doi.org/10.1093/ectj/utaa019)\n",
    "- Use of reinforcement learning to solve high-dimensional models or games\n",
    "- Use LASSO or other variable selection techniques to select basis functions and try to see if machine learning can uncover underlying sparsity structure in high dimensional models.\n",
    "- Use LASSO or other variable selection to estimate CCPs - and analyze effects on structural estimates obtained by two step methods (Hotz-Miller). See \"Locally Robust Semiparametric Estimation\" [Chernozhukov et al, Econometrica 2022](https://doi.org/10.3982/ECTA16294)\n",
    "- Work by [Simon Scheidegger](https://sites.google.com/site/simonscheidegger/home)\n",
    "    - Azinović, M., Gaegauf, L., Scheidegger, S. (2022). \"Deep Equilibrium Nets\". [Code](https://www.google.com/url?q=https%3A%2F%2Fgithub.com%2Fsischei%2FDeepEquilibriumNets&sa=D&sntz=1&usg=AOvVaw38h98tv1ngK0x7JxmKc1qS). International Economic Review, Volume 63, Issue 4, November 2022, Pages 1471-1525\n",
    "    - Brumm, J., Krause, C., Schaab, A., Scheidegger, S. (2021).  \"Sparse grids for dynamic economic models\". [Code](https://www.google.com/url?q=https%3A%2F%2Fgithub.com%2FSparseGridsForDynamicEcon%2FSparseGrids_in_econ_handbook&sa=D&sntz=1&usg=AOvVaw3zVb3J_ui7v0FpbceEqPsd). [Oxford Research Encyclopedia of Economics and Finance](doi: 10.1093/acrefore/9780190625979.013.820])\n",
    "    - Scheidegger, S., Treccani, A. (2018). “Pricing American options under high-dimensional models with recursive adaptive sparse expectations” (Journal of Financial Econometrics, Volume 19, Issue 2, Spring 2021, Pages 258–290).\n",
    "    - Brumm, J., Scheidegger, S. (2017). \"Using Adaptive Sparse Grids to Solve High-Dimensional Dynamic Models\". (Econometrica, Vol. 85, No. 5 (September 2017), 1575–1612)\n",
    "    - etc.\n",
    "    "
   ]
  },
  {
   "cell_type": "markdown",
   "metadata": {
    "slideshow": {
     "slide_type": "slide"
    }
   },
   "source": [
    "### Paper type 3: Independent applied work\n",
    "- Find topic that interest you with relevant economic question\n",
    "- Develop model to answer economic question\n",
    "- Perhaps find data so you can estimate existing model (can be micro- data, aggregate data, moments in a published paper)\n",
    "- Take point of departure in existing work\n",
    "    - reinterpret results\n",
    "    - reformulate model\n",
    "    - extend model\n",
    "    - etc.\n",
    "    - BUT START SIMPLE. \n",
    "    \n",
    "- Some examples below and discussion of research process\n",
    "   \n"
   ]
  },
  {
   "cell_type": "markdown",
   "metadata": {
    "slideshow": {
     "slide_type": "slide"
    }
   },
   "source": [
    "### Example of applied work: Retirement Behaviour in Denmark \n",
    "- Extended version of Karlstrom et al. (2004) estimated using danish register data\n",
    "- Validation: Compare retirement behaviour in Denmark under the rules in the study period with out-of-sample predictions under a real policy change that happened in 2004 and find that the model predicts the effect of the policy change well.\n",
    "- Counter-factuals: changes in pension benefits on retirement behaviour\n",
    "    "
   ]
  },
  {
   "cell_type": "markdown",
   "metadata": {
    "slideshow": {
     "slide_type": "slide"
    }
   },
   "source": [
    "### Example of applied work: Job Search Behavior and Unemployment in Denmark\n",
    "- based on two different theoretic frameworks: \n",
    "    1. a standard job search model with heterogeneous agents\n",
    "    2. job search model with reference dependent preferences. \n",
    "    \n",
    "- Policy implications differs depending on the model. \n",
    "\n",
    "- Estimate the models on data from Danish unemployment spells obtained through statistics Denmark.\n",
    "\n",
    "- Counter factual experiments of proposed policy changes. \n",
    "1.  Change in benefit levels: Overall search effort decreases when total benefits are higher and vice versa\n",
    "1. Changes in timing of benefit reductions\n",
    "1. Analysis of business cycles effects: responses to changes to benefit levels might be attenuated or enhanced."
   ]
  },
  {
   "cell_type": "markdown",
   "metadata": {
    "slideshow": {
     "slide_type": "slide"
    }
   },
   "source": [
    "### Example of applied work:  A Discrete-Continuous Choice Model of the Danish Retirement System \n",
    "- Model similar to Iskakov and Keane (JoE, 2021): Labor supply, human capital and savings\n",
    "- Discrete-Continuous Choice (DC-EGM)\n",
    "- Estimated with MSM comparing model and data moments on hours worked, income profiles and wealth\n",
    "- Resulteted in master thesis: Analysis of of effects of tax changes on intensive and extensive margin responses over the life cycle"
   ]
  },
  {
   "cell_type": "markdown",
   "metadata": {
    "slideshow": {
     "slide_type": "slide"
    }
   },
   "source": [
    "### Example of applied work:  Labour supply elasticities in a life-cycle model with human capital acumulation\n",
    "- Specify a life-cycle labour model with saving, human capital accumulation and an active extensive margin. \n",
    "- Build on Imai and Keane (2004) and Keane and Wasi (2016)\n",
    "- Introduce a discrete labour choice and a continuous consumption choice\n",
    "- Solve the model using DC-EGM.\n",
    "- Calibrated to Danish moments - no explicit MSM estimation.  \n",
    "- Simulate the effect of a 5 pct. increase in tax to examine the Fricshian and Marshallian elasticity within each age from 26 to 65. \n",
    "- Find that labour supply elasticities in a dynamic programming model vary across age. \n",
    "- The Fricshian elasticity is overestimated and Marshallian is underestimated in a static model compared to thier dynamic programming model. \n",
    "- When taking the active extensive margin and human capital accumulation into account both elasticities exhibit an U-shape form (higher elasticities for young and old)."
   ]
  },
  {
   "cell_type": "markdown",
   "metadata": {
    "slideshow": {
     "slide_type": "slide"
    }
   },
   "source": [
    "### Not all papers with dicrete-continous choice involve consumption-savings\n",
    "- Hall and Rust (JoE, 2021): [\"Estimation of endogenously sampled time series: The case of commodity price speculation in the steel market\"](https://doi.org/10.1016/j.jeconom.2020.07.033)\n",
    "- A firm can purchase unlimited quantities of steel at a time-varying wholesale price $p_t$ that evolves according to a Markov\n",
    "transition density. \n",
    "- Firm subsequently sells this steel to retail customers at a retail price $p^r_t$\n",
    "that includes a randomly varying markup over the current wholesale price $p_t$\n",
    "- Firm has to manage inventory (cost of inventory)\n",
    "- Firm follows a (S, s) trading strategy for price speculation. \n",
    "- The (S, s) rule constitutes the optimal strategy for ‘‘buying low and selling high.’’ \n",
    "- Can be solved using DC-EGM "
   ]
  },
  {
   "cell_type": "markdown",
   "metadata": {
    "slideshow": {
     "slide_type": "slide"
    }
   },
   "source": [
    "### Ideas for term papers on games"
   ]
  },
  {
   "cell_type": "markdown",
   "metadata": {
    "slideshow": {
     "slide_type": "slide"
    }
   },
   "source": [
    "### Game paper 1: \"Sequential Estimation of Dynamic Games of Incomplete Information\" \n",
    "- Methods: NPL algorithm by [Aguirregabiria and Mira (Econometrica, 2007)](https://doi.org/10.1111/j.1468-0262.2007.00731.x) and it's modification (NPL-$\\Lambda$) by [Kashara and Shimotzu (Econometrica, 2012)](https://doi.org/10.3982/ECTA8291)\n",
    "- Application: Dynamics of entry behavior in the fastfood índustry. \n",
    "- Simulation study: Analyze the convergence/divergence properties of NPL and NPL-$\\Lambda$\n",
    "- Authors realized that the entry game was a DDG - but did not solve the model using RLS\n",
    "- Another student did a replication study of Aguirregabiria and Mira (2007)"
   ]
  },
  {
   "cell_type": "markdown",
   "metadata": {
    "slideshow": {
     "slide_type": "slide"
    }
   },
   "source": [
    "### Game paper 2:  Solving Simultaneous move Dynamic Directional Games using RLS \n",
    "- **Replication study:** Replicates subset of results in [Iskhakov, Rust and Schjerning (IER, 2018)](https://doi.org/10.1111/iere.12317)\n",
    "- **Application:** Dynamic duopoly game of Bertrand price competition and cost reducing investments\n",
    "- **Methods:** Recursive Lexicographic Search (RLS) algorithm by [Iskhakov, Rust and Schjerning (ReStud, 2016)](http://dx.doi.org/doi:10.1093/restud/rdv046)\n",
    "- First step towards a complete master thesis: \"Solving Directional Dynamic Markovian Oligopoly Games Using Recursive Lexicographical Search\"\n",
    "- **Extensions in thesis**: Multinomial choice, more agents, non-directional exogenous states, more applications \n",
    "- A replication study in this course $\\to$ **A publishable paper right at the research frontier** (after suitable revisions)"
   ]
  },
  {
   "cell_type": "markdown",
   "metadata": {
    "slideshow": {
     "slide_type": "slide"
    }
   },
   "source": [
    "### Game paper 3 on solving dynamic directional (vaccination) games\n",
    "\"Dynamics of vaccinations\" \n",
    "- Application: A vaccination game (similar to anti-coordination entry game)\n",
    "- Variants of game considered\n",
    "    1. 2-player static\n",
    "    1. N-player static - symmetric\n",
    "    1. N-player- social planner solution \n",
    "    1. 3-player static - asymmetric\n",
    "    1. 3-player dynamic directional - asymmetric \n",
    "- Key directional state in dynamic game: Whether players are vaccinated\n",
    "- Findings: \n",
    "    - Vaccination game is directional and we can compute ALL MPE using RLS\n",
    "    - Imposing symmetry knocks out most interesting equilibria and leaves us with a single inefficient unstable equilibrium\n",
    "- Methods: RLS algorithm by Iskhakov, Rust and Schjerning (ReStud, 2016)\n"
   ]
  },
  {
   "cell_type": "markdown",
   "metadata": {
    "slideshow": {
     "slide_type": "slide"
    }
   },
   "source": [
    "### Game paper 3 also resulted in thesis: \"Strategic Horizontal FDI under Cournot Competition and Globalization\"\n",
    "The dynamic game: In each period firms both have two simultaneous choices: \n",
    "1. continuous choice: quantity to produce and sell at each (oligopoly) market\n",
    "1. a discrete decision: whether or not to establish a foreign production plant instead of exporting to the foreign country. \n",
    "    \n",
    "Dynamic trade-offs: \n",
    "- The investment decision is potentially cost-reducing, as firms with plants located at the market avoid a transportation cost (iceberg type trade cost proportional the amount exported). \n",
    "- Model considers the effects of production cost uncertainty and a increasingly globalized economy with transportation cost that are stochastically declining over time (directional state).\n",
    "\n",
    "Strategic interaction: \n",
    "- Dynamics of HFDI depends crucially on the type of strategic interaction (anti-coordination or coordination)  "
   ]
  },
  {
   "cell_type": "markdown",
   "metadata": {
    "slideshow": {
     "slide_type": "slide"
    }
   },
   "source": [
    "### The main result from the thesis on HFDI challenge the traditional view of industry structure\n",
    "\n",
    "Existing literature: \n",
    "- higher establishment/fixed plant costs, lower trade costs and smaller foreign markets reduce the number of MNE in the industry. \n",
    "\n",
    "The dynamic oligopoly model can predict the opposite result: \n",
    "- higher establishment cost can lead to **more multinationals** due to the change from coordination to anti-coordination **as the establishment cost rises from the low to the middle range**."
   ]
  },
  {
   "cell_type": "markdown",
   "metadata": {
    "slideshow": {
     "slide_type": "slide"
    }
   },
   "source": [
    "### More great papers on games where data and code is available\n",
    "Aguirregabiria and Mira (Econometrica, 2007): [Sequential Estimation of Dynamic Discrete Games]( https://doi.org/10.1111/j.1468-0262.2007.00731.x)\n",
    "- Introduces NPL algorithm for games\n",
    "- GAUSS code and data available\n",
    "- Empirical application to a model of firm entry and exit in oligopoly markets using Chilean data from several retail industries\n",
    "- Also studied in Egesdal, Lai and Su: [Estimating dynamic discrete‐choice games of incomplete information](https://doi.org/10.3982/QE430) (I have data, MATLAB and AMPL code available) \n",
    "- Compares methods and advocates MPEC\n",
    "- Victor Aguirregabiria's web site is a great starting point"
   ]
  },
  {
   "cell_type": "markdown",
   "metadata": {
    "slideshow": {
     "slide_type": "slide"
    }
   },
   "source": [
    "### More great papers on games where data and code is available\n",
    "Mitsuru Igami (JPE, 2017): [Estimating the Innovator’s Dilemma: Structural Analysis of Creative Destruction in the Hard Disk Drive Industry, 1981–1998](https://doi.org/10.1086/691524)\n",
    "- Dynamic strategic interactions: firm’s own entry or innovation makes the future market more competitive and therefore makes the other firms’ subsequent entry or innovation less profitable and less likely.\n",
    "- Finite-horizon, sequential-move dynamic game - game is directional\n",
    "- focus on type-symmetric strategies to avoid multiple equilibria\n",
    "- Estimation method: NFXP\n",
    "- Igami has lots of cool IO papers using these data\n",
    "    - Mitsuru Igami (AEJ Micro, 2018): [Industry Dynamics of Offshoring: The Case of Hard Disk Drives](https://doi.org/10.1257/mic.20150256)\n",
    "\n"
   ]
  },
  {
   "cell_type": "markdown",
   "metadata": {
    "slideshow": {
     "slide_type": "slide"
    }
   },
   "source": [
    "### More great papers on games where data and code is available\n",
    "Goettler and Gordon (JPE, 2011): [Does AMD Spur Intel to Innovate More?](https://doi.org/10.1086/664615)\n",
    "- [Data and C++ code](https://www.journals.uchicago.edu/doi/suppl/10.1086/664615)\n",
    "- Dynamic oligopoly with durable goods and endogenous innovation to examine the effect of competition on innovation- - - Forward looking consumers"
   ]
  },
  {
   "cell_type": "markdown",
   "metadata": {
    "slideshow": {
     "slide_type": "slide"
    }
   },
   "source": [
    "### More resources: [Victor Aguirregabiria's wbesite](https://sites.google.com/view/victoraguirregabiriaswebsite)\n",
    "- [Victor Aguirregabiria's Library of Gauss Procedures](http://individual.utoronto.ca/vaguirre/software/library_procedures.html) for Econometrics and Computational Methods in Economics, with examples of programs that call the procedures.\n",
    "- [Christopher Ferrall's GitHub repository](https://github.com/CForg/Archive-of-Empirical-Dynamic-Programming-Research) of papers with empirical applications of Dynamic Discrete Choice Structural models. It includes code and data.\n",
    "- Jason Blevin and Minhae Kim's [Matlab Code for the replication of Aguirregabiria and Mira (ECMA, 2007)](https://www.google.com/url?q=https%3A%2F%2Fjblevins.org%2Fresearch%2Fam_2007&sa=D&sntz=1&usg=AFQjCNFg6HZ9vXuYJLiWxiEyelJeEQ8v0w).\n",
    "- Eric Schulman's Python code for the [implementation of the Nested Pseudo Likelihood method](https://sites.google.com/view/victoraguirregabiriaswebsite/computer-code) in Aguirregabiria and Mira (ECMA, 2002).\n",
    "- [Patrick Mogesen's Julia code](http://www.google.com/url?q=http%3A%2F%2Fwww.pkofod.com%2F2017%2F05%2F30%2Fsolving-a-simple-discrete-choice-model-using-gaussian-quadrature%2F&sa=D&sntz=1&usg=AFQjCNGN1NhkJPLpmUToSNwRgFTpam1qXA) for the solution of Rust's bus engine replacement model using Gaussian Quadrature\n",
    "- [Jaap Abbring and Tobias Klein's Matlab code](https://jabbring.github.io/dynamic-discrete-choice/dynamicDiscreteChoice.m.html) on Econometric Methods for Dynamic Discrete Choice models.\n",
    "- Aguirregabiria and Mira: Nested Pseudo Likelihood (NPL): [Zip Archive with data and GAUSS code]()"
   ]
  },
  {
   "cell_type": "markdown",
   "metadata": {
    "slideshow": {
     "slide_type": "slide"
    }
   },
   "source": [
    "### Research Process: \n",
    "Structural model development and estimation has several key stages:\n",
    "1. Theoretical Model Development\n",
    "2. Practical Specification Issues\n",
    "3. Solving the Model\n",
    "4. Understanding How the Model Works\n",
    "5. Estimation\n",
    "6. Validation\n",
    "7. Policy Experiments\n",
    "\n",
    "See Mike Keane's talk on [The Art of Structural Estimation](https://www.youtube.com/watch?v=0hazaPBAYWE)\n"
   ]
  },
  {
   "cell_type": "markdown",
   "metadata": {
    "slideshow": {
     "slide_type": "slide"
    }
   },
   "source": [
    "### Resources: [Victor Aguirregabiria's wbesite](https://sites.google.com/view/victoraguirregabiriaswebsite)\n",
    "- [Victor Aguirregabiria's Library of Gauss Procedures](http://individual.utoronto.ca/vaguirre/software/library_procedures.html) for Econometrics and Computational Methods in Economics, with examples of programs that call the procedures.\n",
    "- [Christopher Ferrall's GitHub repository](https://github.com/CForg/Archive-of-Empirical-Dynamic-Programming-Research) of papers with empirical applications of Dynamic Discrete Choice Structural models. It includes code and data.\n",
    "- Jason Blevin and Minhae Kim's [Matlab Code for the replication of Aguirregabiria and Mira (ECMA, 2007)](https://www.google.com/url?q=https%3A%2F%2Fjblevins.org%2Fresearch%2Fam_2007&sa=D&sntz=1&usg=AFQjCNFg6HZ9vXuYJLiWxiEyelJeEQ8v0w).\n",
    "- Eric Schulman's Python code for the [implementation of the Nested Pseudo Likelihood method](https://sites.google.com/view/victoraguirregabiriaswebsite/computer-code) in Aguirregabiria and Mira (ECMA, 2002).\n",
    "- [Patrick Mogesen's Julia code](http://www.google.com/url?q=http%3A%2F%2Fwww.pkofod.com%2F2017%2F05%2F30%2Fsolving-a-simple-discrete-choice-model-using-gaussian-quadrature%2F&sa=D&sntz=1&usg=AFQjCNGN1NhkJPLpmUToSNwRgFTpam1qXA) for the solution of Rust's bus engine replacement model using Gaussian Quadrature\n",
    "- [Jaap Abbring and Tobias Klein's Matlab code](https://jabbring.github.io/dynamic-discrete-choice/dynamicDiscreteChoice.m.html) on Econometric Methods for Dynamic Discrete Choice models.\n",
    "- Aguirregabiria and Mira: Nested Pseudo Likelihood (NPL): [Zip Archive with data and GAUSS code]()"
   ]
  },
  {
   "cell_type": "markdown",
   "metadata": {
    "slideshow": {
     "slide_type": "slide"
    }
   },
   "source": [
    "### Resources: Zip-Archives with data and computer code for survey paper Models: A Survey,”[Aguirregabiria and Mira, Journal of Econometrics, 2010](https://doi.org/10.1016/j.jeconom.2009.09.007)\n",
    "- Arcidiacono and Jones / Arcidiacono and Miller: Sequential EM Algorithm: [Zip Archive with data and MATLAB code]()\n",
    "\n",
    "- Bajari, Benkard and Levin: BBL [Zip Archive with data and CAUSS and C code](http://www.google.com/url?q=http%3A%2F%2Findividual.utoronto.ca%2Fvaguirre%2Fwpapers%2Fbajari_benkard_levin.zip&sa=D&sntz=1&usg=AFQjCNHZR6lSxRwgwZw26Eyppz6V3H5_wQ)\n",
    "\n",
    "- Imai, Jain and Ching: Bayesian Estimation [Zip Archive with data and FORTRAN code](http://www.google.com/url?q=http%3A%2F%2Findividual.utoronto.ca%2Fvaguirre%2Fwpapers%2Fimai_jain_ching.zip&sa=D&sntz=1&usg=AFQjCNFQ3MA-f7zji4zPBC92VymwZB2eGg)\n",
    "- Keane and Wolpin: Simulation and Interpolation [Zip Archive with data and FORTRAN code](http://www.google.com/url?q=http%3A%2F%2Findividual.utoronto.ca%2Fvaguirre%2Fwpapers%2Fkeane_wolpin.zip&sa=D&sntz=1&usg=AFQjCNE6eV5ULhTBdIhWTPeI86ifFDEFWQ) \n",
    "- Lee and Wolpin: Dynamic Competitive Equilibrium [Zip Archive with data and FORTRAN code](http://www.google.com/url?q=http%3A%2F%2Findividual.utoronto.ca%2Fvaguirre%2Fwpapers%2Flee_wolpin.zip&sa=D&sntz=1&usg=AFQjCNFkqHFEmoIOanzBiOxHiz8MubCrwg)\n",
    "- Pakes, Ostrovsky and Berry: Dynamic Oligopoly Entry-Exit Game [Zip Archive with data and MATLAB code](http://www.google.com/url?q=http%3A%2F%2Findividual.utoronto.ca%2Fvaguirre%2Fwpapers%2Fpakes_ostrovsky_berry.zip&sa=D&sntz=1&usg=AFQjCNGws5lwjqw5kL3OhgyCR2hXZOQonw)\n",
    "- Rust: Nested Fixed Point Algorithm (NFXP) [Zip Archive with data and GAUSS code](http://www.google.com/url?q=http%3A%2F%2Findividual.utoronto.ca%2Fvaguirre%2Fwpapers%2Frust.zip&sa=D&sntz=1&usg=AFQjCNEKmMEbPcn7YRJIO0B3tElQwuSbWA)"
   ]
  },
  {
   "cell_type": "markdown",
   "metadata": {
    "slideshow": {
     "slide_type": "slide"
    }
   },
   "source": [
    "## Resources:: Econometric Society Conferences and Summer Schools in Dynamic Structural Econometrics  (DSE)\n",
    "### Website [https://dseconf.org/](https://dseconf.org/)\n",
    "\n",
    "### Past events\n",
    "- **Policy Evaluation and Heterogeneity Measurement**, University of Wisconsin-Madison, USA, 4-9 August 2024\n",
    "- **Deep Learning for Solving and Estimating Dynamic Models**, University of Lausanne, Switzerland, 21-26 August 2023, \n",
    "- **Methodology and applications of dynamic structural models with strategic interactions**, Australian National University, December 2022 \n",
    "- **Dynamic Structural Econometrics : Market Design**, Massachusetts Institute of Technology, August 2022\n",
    "- **Household decision making and human capital in life-cycle models**, University of Bonn,  August 2021, \n",
    "- **Applications of Structural Dynamic Models in Industrial Organization, Marketing, and Business Analytics**,  Booth School of Business and the Becker Friedman Institute for Economics at the University of Chicago, July 2019\n",
    "- **Methodology and applications of structural dynamic models and machine learning**, University of Copenhagen,  June 2018\n",
    "- **Implementation of Structural Dynamic Models: Methodology and Applications**, University College London, August 2017\n",
    "\n",
    "### [Lectures and conference prensentations](https://www.youtube.com/@dynamicstructuraleconometr2893)\n",
    "### [GitHub Repository with Teaching Materials](https://github.com/dseconf)\n",
    "\n"
   ]
  },
  {
   "cell_type": "markdown",
   "metadata": {
    "slideshow": {
     "slide_type": "slide"
    }
   },
   "source": [
    "### More resources\n",
    "- [Cowles Conference on Models and Measurement](https://cowles.yale.edu/conferences/industrial-organization/2022)  - a leading conference on structural models\n",
    "- QuantEcon.org - lost of [notebook examples](https://quantecon.org/notebooks/) of dynamic models \n",
    "- [Econ-Ark](https://econ-ark.org) - Heterogenous Agents Resources & toolKit [HARK](https://hark.readthedocs.io) \n",
    "- Fedor Iskhakov - [Course in Computational Economics](https://fedor.iskh.me/compecon)\n",
    "- Eric French [replication files of a subset of his papers](https://sites.google.com/site/ericfrenchecon/additional-documentation-of-papers-code-and)\n",
    "- Nice reading list with links to papers on [Jason Blevins website for Advanced Econometrics](https://jblevins.org/courses/econ8830s21/)"
   ]
  }
 ],
 "metadata": {
  "celltoolbar": "Slideshow",
  "date": 1602643870.398518,
  "filename": "38_optimization.rst",
  "kernelspec": {
   "display_name": "Python 3 (ipykernel)",
   "language": "python",
   "name": "python3"
  },
  "language_info": {
   "codemirror_mode": {
    "name": "ipython",
    "version": 3
   },
   "file_extension": ".py",
   "mimetype": "text/x-python",
   "name": "python",
   "nbconvert_exporter": "python",
   "pygments_lexer": "ipython3",
   "version": "3.12.2"
  },
  "title": "Econometrics B #13"
 },
 "nbformat": 4,
 "nbformat_minor": 4
}
