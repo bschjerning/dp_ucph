{
 "cells": [
  {
   "cell_type": "code",
   "execution_count": null,
   "metadata": {},
   "outputs": [],
   "source": [
    "# magics: ensures that any changes to the modules loaded below will be re-loaded automatically\n",
    "%load_ext autoreload\n",
    "%autoreload 2\n",
    "\n",
    "# load general packages\n",
    "import numpy as np\n",
    "import matplotlib.pyplot as plt\n",
    "\n",
    "# load general packages\n",
    "import numpy as np\n",
    "\n",
    "# load modules related to this exercise\n",
    "from model_zucher import zurcher\n",
    "from Solve_NFXP import solve_NFXP\n",
    "import estimate_NFXP as estimate\n",
    "import warnings\n",
    "warnings.filterwarnings(\"ignore\", category=RuntimeWarning)\n"
   ]
  },
  {
   "cell_type": "markdown",
   "metadata": {},
   "source": [
    "#  Exercise 3: Demand function"
   ]
  },
  {
   "cell_type": "markdown",
   "metadata": {},
   "source": [
    "#### 1. Find the equilibrium distirbution of mileage"
   ]
  },
  {
   "cell_type": "code",
   "execution_count": null,
   "metadata": {},
   "outputs": [],
   "source": [
    "# Setup\n",
    "do_settings = {\n",
    "    'n': 90\n",
    "}\n",
    "\n",
    "model = zurcher(**do_settings)\n",
    "solver = solve_NFXP()\n",
    "\n",
    "#Read the data\n",
    "data = model.read_busdata(bustypes=[1,2,3,4])\n",
    "\n",
    "samplesize = data.shape[0]\n",
    "uncond_R_P = sum(data.d)/samplesize\n",
    "\n",
    "# Estimate\n",
    "nfxp_model, optim_res, pnames, theta_hat, Avar, converged=estimate.estimate(model, solver,data)\n",
    "\n"
   ]
  },
  {
   "cell_type": "code",
   "execution_count": null,
   "metadata": {},
   "outputs": [],
   "source": [
    "# Update the values with the estimated parameters\n",
    "do_settings = {\n",
    "    'n': 90,\n",
    "    'RC': theta_hat[0],\n",
    "    'c': theta_hat[1],\n",
    "    'p': np.array(theta_hat[2:])\n",
    "}\n",
    "ev0 = np.zeros((model.n))\n",
    "model_est = zurcher(**do_settings)\n",
    "ev,pk = solver.poly(model_est.bellman,ev0, beta = model_est.beta, output=2)"
   ]
  },
  {
   "cell_type": "code",
   "execution_count": null,
   "metadata": {},
   "outputs": [],
   "source": [
    "# Update the values with the estimated parameters\n",
    "do_settings = {\n",
    "    'n': 90,\n",
    "    'RC': theta_hat[0],\n",
    "    'c': theta_hat[1],\n",
    "    'p': np.array(theta_hat[2:])\n",
    "}\n",
    "ev0 = np.zeros((model.n))\n",
    "model_est = zurcher(**do_settings)\n",
    "ev,pk = solver.poly(model_est.bellman,ev0, beta = model_est.beta, output=2)\n",
    "\n",
    "# Find the probability functions\n",
    "pp, pp_K, pp_R = model_est.eqb(pk)\n",
    "\n",
    "fig = plt.figure(figsize=(8,6)) \n",
    "ax = fig.add_subplot(1,1,1)\n",
    "\n",
    "ax.plot(model_est.grid*(model_est.max*1000)/model_est.n,pp_K/sum(pp_K))\n",
    "ax.plot(model_est.grid*(model_est.max*1000)/model_est.n,pp_R/sum(pp_R))\n",
    "ax.plot(model_est.grid*(model_est.max*1000)/model_est.n,pp/sum(pp))\n",
    "\n",
    "\n",
    "ax.set_title(f'Equilibrium Distribution: Bus mileage')\n",
    "ax.set_xlabel(\"Mileage\")\n",
    "ax.set_ylabel(\"Conditional Probability Density\")\n",
    "ax.set_xlim(0, 420000)\n",
    "ax.set_ylim(0, 0.03)\n",
    "\n",
    "plt.legend((f'$Pr(x, i=Keep)$',f'$Pr(x, i=Replace)$', f'$Pr(x)$ - Unconditional'))\n",
    "\n",
    "plt.show()"
   ]
  },
  {
   "cell_type": "markdown",
   "metadata": {},
   "source": [
    "#### 2. Find the scale of the cost function\n",
    "a) How does the scale of the cost function relates to the estimate of RC and c?\n",
    "\n",
    "b) What is the scale estimate? Hint: Use the stuctural estimates and tabel III in  Rust (1987), \"Optimal Replacement of GMC Bus Engines: An Emperical Model of Harold Zurcher"
   ]
  },
  {
   "cell_type": "code",
   "execution_count": null,
   "metadata": {},
   "outputs": [],
   "source": [
    "RC = 8062\n",
    "RC_scale = model_est.RC \n",
    "scale = RC/RC_scale\n",
    "\n",
    "print(f'The scale for bustype 1-4 is: {scale:.2f}')"
   ]
  },
  {
   "cell_type": "markdown",
   "metadata": {},
   "source": [
    "#### 3. Find the implied Demand function"
   ]
  },
  {
   "cell_type": "code",
   "execution_count": null,
   "metadata": {},
   "outputs": [],
   "source": [
    "# Expected Demand, as a function of Replacement cost\n",
    "import copy\n",
    "mp0 = copy.copy(model_est.RC)\n",
    "NRC = 59\n",
    "RCgrid = np.linspace(1,30,NRC)\n",
    "ev0 = np.zeros((model.n))\n",
    "\n",
    "Demand = np.empty(NRC)\n",
    "\n",
    "for i,val in enumerate(RCgrid):\n",
    "    do_settings = {\n",
    "    'n': 90,\n",
    "    'RC': val,\n",
    "    'c': theta_hat[1],\n",
    "    'p': np.array(theta_hat[2:])\n",
    "    }\n",
    "\n",
    "    model = zurcher(**do_settings)\n",
    "    _,pk = solver.poly(model.bellman, ev0, beta= model.beta, output=2)\n",
    "    \n",
    "    # Find the probability functions\n",
    "    pp, pp_K, pp_R = model.eqb(pk)\n",
    "    \n",
    "    Demand[i] = 12*sum(pp_R)\n",
    "\n",
    "fig = plt.figure(figsize=(8,6)) \n",
    "ax2 = fig.add_subplot(1,1,1)\n",
    "ax2.plot(RCgrid*scale,Demand)\n",
    "ax2.set_title(f'Expected Replacement Demand Function')\n",
    "ax2.set_xlabel(\"Replacement cost, RC\")\n",
    "ax2.set_ylabel(\"Expected Annual Engine Replacement\")\n",
    "ax2.set_xlim(0,12000)\n",
    "ax2.set_ylim(0,1)\n",
    "\n",
    "plt.show()"
   ]
  },
  {
   "cell_type": "markdown",
   "metadata": {},
   "source": [
    "#### 4. Try estimate the demand function for different values of $\\beta$. Does the change in the demand function makes intuitively sense?"
   ]
  },
  {
   "cell_type": "code",
   "execution_count": null,
   "metadata": {},
   "outputs": [],
   "source": [
    "beta_vec = np.array([0.0001, 0.9999])\n",
    "\n",
    "Demand_beta = np.empty((NRC,2))\n",
    "scale_beta = np.empty(2)\n",
    "\n",
    "\n",
    "for j,beta in enumerate(beta_vec):\n",
    "    # Setup\n",
    "    do_settings = {\n",
    "        'n': 90,\n",
    "        'beta': beta\n",
    "    }\n",
    "\n",
    "    model = zurcher(**do_settings)\n",
    "    solver = solve_NFXP()\n",
    "\n",
    "    # Estimate\n",
    "    _, _, _, theta_hat,_, _=estimate.estimate(model, solver,data)\n",
    "    \n",
    "    #scale_beta[j] = RC/copy.copy(model_est.RC)\n",
    "    scale_beta[j] = RC/copy.copy(theta_hat[0])\n",
    "    \n",
    "    for i,val in enumerate(RCgrid):\n",
    "        do_settings = {\n",
    "            'n': 90,\n",
    "            'beta': beta,\n",
    "            'RC': val,\n",
    "            'c': theta_hat[1],\n",
    "            'p': np.array(theta_hat[2:])\n",
    "        }\n",
    "        ev0 = np.zeros((model.n))\n",
    "        model = zurcher(**do_settings)\n",
    "        _,pk = solver.poly(model.bellman,ev0, beta=model.beta, output=2)\n",
    "\n",
    "        # Find the probability functions\n",
    "        pp, pp_K, pp_R = model.eqb(pk)\n",
    "    \n",
    "\n",
    "        Demand_beta[i,j] = 12*sum(pp_R)\n",
    "\n"
   ]
  },
  {
   "cell_type": "code",
   "execution_count": null,
   "metadata": {},
   "outputs": [],
   "source": [
    "fig = plt.figure(figsize=(8,6)) \n",
    "ax2 = fig.add_subplot(1,1,1)\n",
    "ax2.plot(RCgrid*scale_beta[0],Demand_beta[:,0])\n",
    "ax2.plot(RCgrid*scale_beta[1],Demand_beta[:,1])\n",
    "plt.legend((f'$\\u03B2=0$',f'$\\u03B2= 0.9999$'))\n",
    "ax2.set_title(f'Expected Replacement Demand Function')\n",
    "ax2.set_xlabel(\"Replacement cost, RC\")\n",
    "ax2.set_ylabel(\"Expected Annual Engine Replacement\")\n",
    "ax2.set_xlim(0,12000)\n",
    "ax2.set_ylim(0,1)\n",
    "\n",
    "plt.show()"
   ]
  },
  {
   "attachments": {},
   "cell_type": "markdown",
   "metadata": {},
   "source": [
    "#### 5. What are the advantage and disadvantage of using a structual model to estimate the demand?"
   ]
  },
  {
   "cell_type": "code",
   "execution_count": null,
   "metadata": {},
   "outputs": [],
   "source": []
  }
 ],
 "metadata": {
  "kernelspec": {
   "display_name": "base",
   "language": "python",
   "name": "python3"
  },
  "language_info": {
   "codemirror_mode": {
    "name": "ipython",
    "version": 3
   },
   "file_extension": ".py",
   "mimetype": "text/x-python",
   "name": "python",
   "nbconvert_exporter": "python",
   "pygments_lexer": "ipython3",
   "version": "3.11.4"
  }
 },
 "nbformat": 4,
 "nbformat_minor": 4
}
