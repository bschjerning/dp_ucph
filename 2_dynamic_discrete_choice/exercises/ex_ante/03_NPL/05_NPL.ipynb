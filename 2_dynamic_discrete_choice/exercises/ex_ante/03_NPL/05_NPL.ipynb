{
 "cells": [
  {
   "cell_type": "code",
   "execution_count": null,
   "metadata": {},
   "outputs": [],
   "source": [
    "# magics: ensures that any changes to the modules loaded below will be re-loaded automatically\n",
    "%load_ext autoreload\n",
    "%autoreload 2\n",
    "\n",
    "# load general packages\n",
    "import numpy as np\n",
    "import matplotlib.pyplot as plt\n",
    "plt.style.use('seaborn-whitegrid')\n",
    "\n",
    "# load modules related to this exercise\n",
    "import NPL_exante as NPL\n",
    "from model_zucher_exante import zurcher\n",
    "from Solve_NFXP import solve_NFXP\n",
    "from estimate_NFXP import estimate as NFXP_estimate"
   ]
  },
  {
   "cell_type": "markdown",
   "metadata": {},
   "source": [
    "# Problem set 5"
   ]
  },
  {
   "cell_type": "markdown",
   "metadata": {},
   "source": [
    "#### 1. Look at the ReadMe.txt to get an overview of the code"
   ]
  },
  {
   "attachments": {},
   "cell_type": "markdown",
   "metadata": {},
   "source": [
    "#### 2. Find the formula for $P=\\Lambda(V_{\\sigma})$, $V_{\\sigma}=\\psi(P)$ and $P=\\Psi(P)$, exploiting the extreme value type I distribution on $\\epsilon$. \n",
    "\n",
    "Insert the found formulars under model_zucher_exante.psi ($V_{\\sigma}=\\psi(P)$) and model_zucher_exante.lambdaa ( $P=\\Lambda(V_{\\sigma})$)"
   ]
  },
  {
   "cell_type": "markdown",
   "metadata": {},
   "source": [
    "#### 3. Solve the model using NPL, and plot the convergence of psi to check that your results are correct"
   ]
  },
  {
   "cell_type": "code",
   "execution_count": null,
   "metadata": {},
   "outputs": [],
   "source": [
    "# SETUP\n",
    "model = zurcher()\n",
    "\n",
    "# SOLVE THE MODEL\n",
    "pk_NPL = NPL.solve(model)\n",
    "\n",
    "fig = plt.figure(figsize=(10,4)) \n",
    "ax = fig.add_subplot(1,1,1)\n",
    "\n",
    "ax.set_title(f'Convergence of $\\Psi$')\n",
    "ax.set_xlabel('Milage grid')\n",
    "ax.set_ylabel('Replacement probability')\n",
    "for i in range(6):\n",
    "    ax.plot(model.grid,1-pk_NPL[i+1,:],label=f'Iteration {i+1}')\n",
    "ax.plot(model.grid,1-pk_NPL[99,:],label=f'Iteration 100',color='black',linestyle='--')\n",
    "ax.legend()\n",
    "plt.show()"
   ]
  },
  {
   "cell_type": "markdown",
   "metadata": {},
   "source": [
    "#### 4. Now you have to compare NFXP and NPL. Remeber that NFXP solve the fixed-point problem in value function space ( EV = Γ( EV ) ) and NPL solves it in CCP space ( pk = Ψ( pk ) ). Calculate the CCPs from either method and compare the results"
   ]
  },
  {
   "cell_type": "code",
   "execution_count": null,
   "metadata": {},
   "outputs": [],
   "source": [
    "# solve the model with NFXP\n",
    "ev0 = np.zeros(model.n)\n",
    "solver_NFXP = solve_NFXP()\n",
    "_, pk_NFXP = solver_NFXP.poly(model.bellman, ev0, beta=model.beta, output=2)\n",
    "\n",
    "\n",
    "# Define figure\n",
    "fig = plt.figure(figsize=(10,4)) \n",
    "ax = fig.add_subplot(1,1,1)\n",
    "\n",
    "\n",
    "\n",
    "ax.plot(model.grid,1-pk_NPL[6,:],label=f'Replacement probability at K = 6')\n",
    "ax.plot(model.grid,1-pk_NPL[99,:],label=f'Last evaluation of $\\Psi$')\n",
    "ax.plot(model.grid,1-pk_NFXP,label=f'Fixed point of $\\Gamma$ (NFXP)')\n",
    "\n",
    "ax.set_xlabel('Milage grid')\n",
    "ax.set_ylabel('Replacement probability')\n",
    "plt.legend()\n",
    "\n",
    "plt.show()"
   ]
  },
  {
   "attachments": {},
   "cell_type": "markdown",
   "metadata": {},
   "source": [
    "#### 5. $F^{U}(pk)$ is the unconditional transition probabilities induced by pk (vector) - what does that mean? \n",
    "(a) How does it differ from the transition matrices P."
   ]
  },
  {
   "cell_type": "code",
   "execution_count": null,
   "metadata": {},
   "outputs": [],
   "source": []
  },
  {
   "cell_type": "markdown",
   "metadata": {},
   "source": [
    "#### 6. What determines if NFXP is computationally cheaper to use than NPL? Think about what is in the inner loop of either algorithm. "
   ]
  },
  {
   "cell_type": "markdown",
   "metadata": {},
   "source": [
    "#### 7. Now we have to Estimate the model using NPL. In order to estimate the model you should understand \n",
    "<il type =\"a\">\n",
    "<li> NPL.estimate </li>\n",
    "<li> NPL.ll (skip the part of computing the gradient and the Hessian)</li>\n",
    "</il>"
   ]
  },
  {
   "cell_type": "markdown",
   "metadata": {},
   "source": [
    "#### 8. Fill in the missing stuff in NPL.ll, and run the code below to check that your results are correct"
   ]
  },
  {
   "cell_type": "code",
   "execution_count": null,
   "metadata": {},
   "outputs": [],
   "source": [
    " # ESTIMATE\n",
    "# setup\n",
    "Kmax=10  # Max number of outer loop iterations for NPL \n",
    "pnames = ['RC','c']\n",
    "model = zurcher()\n",
    "\n",
    "# Load data\n",
    "data = model.read_busdata(bustypes=[1,2,3,4])\n",
    "data_class = NPL.setup_data(data)\n",
    "samplesize = data_class.x.size\n",
    "\n",
    "#Estimate using NPL\n",
    "import time\n",
    "t0 = time.time()\n",
    "res, theta_hat,pk = NPL.estimate(model, data_class, Kmax)\n",
    "t1 = time.time()\n",
    "\n",
    "# Print the results\n",
    "print(f'Structual estimation using busdata from Rust(1987)')\n",
    "print(f'Beta        = {model.beta:.4f}')\n",
    "print(f'n           = {model.n}')\n",
    "print(f'Sample size = {samplesize}')\n",
    "\n",
    "print('\\n \\nNPL \\n--------------------------------')\n",
    "print(f'Parameters     Estimates    s.e. ') \n",
    "print(f'{pnames[0]}             {theta_hat[0]:.4f}     ')\n",
    "print(f'{pnames[1]}              {theta_hat[1]:.4f}      \\n ')\n",
    "\n",
    "\n",
    "print(f'Log-likelihood {-res.fun*samplesize:.4f}') \n",
    "print(f'runtime (seconds) {(t1-t0):.4f}')\n",
    "\n",
    "# Estimate using NFXP\n",
    "theta0 = (0.,0.)\n",
    "solver_NFXP = solve_NFXP()\n",
    "t0 = time.time()\n",
    "nfxp_model, optim_res, pnames, theta_hat, Avar, converged=NFXP_estimate(model, solver_NFXP,data,theta0=theta0, twostep=0)\n",
    "\n",
    "t1 = time.time()\n",
    "time = t1-t0\n",
    "\n",
    "# Print the result\n",
    "print('\\n \\nNFXP \\n--------------------------------')\n",
    "print(f'Parameters     Estimates    s.e. ') \n",
    "print(f'{pnames[0]}             {theta_hat[0]:.4f}     {np.sqrt(Avar[0,0]):.4f} ')\n",
    "print(f'{pnames[1]}              {theta_hat[1]:.4f}     {np.sqrt(Avar[1,1]):.4f} \\n ')\n",
    "\n",
    "print(f'Log-likelihood {-optim_res.fun*samplesize:.2f}') \n",
    "print(f'runtime (seconds) {time:.4f}')"
   ]
  }
 ],
 "metadata": {
  "kernelspec": {
   "display_name": "Python 3",
   "language": "python",
   "name": "python3"
  },
  "language_info": {
   "codemirror_mode": {
    "name": "ipython",
    "version": 3
   },
   "file_extension": ".py",
   "mimetype": "text/x-python",
   "name": "python",
   "nbconvert_exporter": "python",
   "pygments_lexer": "ipython3",
   "version": "3.9.7"
  }
 },
 "nbformat": 4,
 "nbformat_minor": 4
}
