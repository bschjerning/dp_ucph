{
 "cells": [
  {
   "cell_type": "code",
   "execution_count": 1,
   "metadata": {},
   "outputs": [
    {
     "name": "stderr",
     "output_type": "stream",
     "text": [
      "C:\\Users\\jzd145\\AppData\\Local\\Temp\\ipykernel_25056\\548439220.py:11: MatplotlibDeprecationWarning: The seaborn styles shipped by Matplotlib are deprecated since 3.6, as they no longer correspond to the styles shipped by seaborn. However, they will remain available as 'seaborn-v0_8-<style>'. Alternatively, directly use the seaborn API instead.\n",
      "  plt.style.use('seaborn-whitegrid')\n"
     ]
    }
   ],
   "source": [
    "# magics: ensures that any changes to the modules loaded below will be re-loaded automatically\n",
    "%load_ext autoreload\n",
    "%autoreload 2\n",
    "\n",
    "# load general packages\n",
    "import numpy as np\n",
    "import time\n",
    "import copy\n",
    "\n",
    "import matplotlib.pyplot as plt\n",
    "plt.style.use('seaborn-whitegrid')\n",
    "# load modules related to this exercise\n",
    "\n",
    "# load general packages\n",
    "import numpy as np\n",
    "# load modules related to this exercise\n",
    "from model_zucher import zurcher\n",
    "from Solve_NFXP import solve_NFXP\n",
    "import estimate_NFXP as estimate"
   ]
  },
  {
   "cell_type": "markdown",
   "metadata": {},
   "source": [
    "# Exercise 2"
   ]
  },
  {
   "cell_type": "markdown",
   "metadata": {},
   "source": [
    "#### 1. Ensure that you understand the code zucher.sim_data"
   ]
  },
  {
   "cell_type": "markdown",
   "metadata": {},
   "source": [
    "#### 2. Illustrate the likelihood function for different values of RC and c"
   ]
  },
  {
   "cell_type": "code",
   "execution_count": 2,
   "metadata": {},
   "outputs": [
    {
     "name": "stdout",
     "output_type": "stream",
     "text": [
      "(500, 1000)\n",
      "(500, 1000)\n"
     ]
    }
   ],
   "source": [
    "# Simulate the data\n",
    "\n",
    "# Set up\n",
    "model = zurcher()\n",
    "solver = solve_NFXP()\n",
    "\n",
    "# update starting value: \n",
    "N = 1000\n",
    "T = 500\n",
    "ev0 = np.zeros((model.n))\n",
    "ev,pk = solver.poly(model.bellman, ev0, beta = model.beta, output=2)\n",
    "\n",
    "# data\n",
    "data = zurcher.sim_data(model,N,T,pk) \n",
    "samplesize = data.shape[0]\n"
   ]
  },
  {
   "cell_type": "code",
   "execution_count": null,
   "metadata": {},
   "outputs": [],
   "source": [
    "# Find tha likelihood value for different combinations \n",
    "ev = np.zeros((model.n))\n",
    "par_RC = copy.copy(model.RC)\n",
    "par_c = copy.copy(model.c)\n",
    "\n",
    "NRC = 30\n",
    "Nc = 20\n",
    "\n",
    "log_lik = np.nan + np.zeros((NRC,Nc))\n",
    "RC= np.linspace(8,15,NRC)\n",
    "c = np.linspace(1,4,Nc)\n",
    "\n",
    "for i in range(NRC):\n",
    "    for j in range(Nc):\n",
    "       \n",
    "        # STEP 1: Find p \n",
    "        tabulate = data.dx1.value_counts()\n",
    "        p = [tabulate[i]/sum(tabulate) for i in range(tabulate.size-1)]\n",
    "\n",
    "        # STEP 2: Estimate structual parameters\n",
    "        model.p = p # Use first step estimates as starting values for t\n",
    "    \n",
    "        # Estimate RC and C\n",
    "        pnames = ['RC','c']\n",
    "        theta = np.array([RC[i], c[j]])\n",
    "        log_lik[i,j]=estimate.ll(theta,model, solver,data, pnames, no_guess = True)\n",
    "\n",
    "log_lik *= samplesize*(-1)\n",
    "\n",
    "#Re-inset the true parameters \n",
    "model.RC = copy.copy(par_RC)\n",
    "model.c = copy.copy(par_c)"
   ]
  },
  {
   "cell_type": "code",
   "execution_count": null,
   "metadata": {},
   "outputs": [],
   "source": [
    "# plot figure in three dimensions\n",
    "from mpl_toolkits.mplot3d import Axes3D\n",
    "from matplotlib import cm\n",
    "plt.style.use('seaborn-whitegrid')\n",
    "\n",
    "\n",
    "fig = plt.figure(figsize=(10,5))\n",
    "ax = fig.add_subplot(1,1,1,projection='3d', computed_zorder=False)\n",
    "\n",
    "# Make data.\n",
    "X, Y = np.meshgrid(RC, c,indexing='ij')\n",
    "x, y = np.unravel_index(np.argmax(log_lik), log_lik.shape)\n",
    "\n",
    "# Plot the surface.\n",
    "surf = ax.plot_surface(X, Y, log_lik, cmap=cm.jet)\n",
    "\n",
    "#Plot max value\n",
    "max = ax.scatter(RC[x], c[y], log_lik[x,y], color=['black'], marker='o', s=10)\n",
    "\n",
    "# Customize the axis.\n",
    "ax.set_xlabel(f'RC')\n",
    "ax.set_ylabel(f'c')\n",
    "ax.set_title(f'Log-likelihood (RC,c)')\n",
    "ax.invert_xaxis()\n",
    "\n",
    "# Add a color bar which maps values to colors.\n",
    "fig.colorbar(surf, shrink=0.5, aspect=5)\n",
    "\n",
    "plt.show()"
   ]
  },
  {
   "cell_type": "markdown",
   "metadata": {},
   "source": [
    "#### 3. Estimate the model, do you get the correct estimates?"
   ]
  },
  {
   "cell_type": "code",
   "execution_count": null,
   "metadata": {},
   "outputs": [],
   "source": []
  },
  {
   "cell_type": "markdown",
   "metadata": {},
   "source": [
    "a) Try changing the starting values, does the model converges?"
   ]
  },
  {
   "cell_type": "code",
   "execution_count": null,
   "metadata": {},
   "outputs": [],
   "source": []
  },
  {
   "cell_type": "markdown",
   "metadata": {},
   "source": [
    "#### 4. What happen if you change the maximum number of Newton-Kantorovich iterations and switches between NK and SA to 1? \n",
    "Do we get convergence? Do the estimates seem right? \n"
   ]
  },
  {
   "cell_type": "code",
   "execution_count": null,
   "metadata": {},
   "outputs": [],
   "source": []
  }
 ],
 "metadata": {
  "kernelspec": {
   "display_name": "Python 3",
   "language": "python",
   "name": "python3"
  },
  "language_info": {
   "codemirror_mode": {
    "name": "ipython",
    "version": 3
   },
   "file_extension": ".py",
   "mimetype": "text/x-python",
   "name": "python",
   "nbconvert_exporter": "python",
   "pygments_lexer": "ipython3",
   "version": "3.11.4"
  }
 },
 "nbformat": 4,
 "nbformat_minor": 4
}
