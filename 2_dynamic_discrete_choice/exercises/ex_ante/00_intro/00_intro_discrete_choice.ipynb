{
 "cells": [
  {
   "cell_type": "code",
   "execution_count": null,
   "metadata": {},
   "outputs": [],
   "source": [
    "# magics: ensures that any changes to the modules loaded below will be re-loaded automatically\n",
    "%load_ext autoreload\n",
    "%autoreload 2\n",
    "\n",
    "# load general packages\n",
    "import numpy as np\n",
    "import matplotlib.pyplot as plt\n",
    "plt.style.use('seaborn-whitegrid')\n",
    "\n",
    "# load modules related to this exercise\n",
    "import simple_zurcher as model"
   ]
  },
  {
   "cell_type": "code",
   "execution_count": null,
   "metadata": {},
   "outputs": [],
   "source": [
    "# Create a function that plots the value and policy functions\n",
    "def plot_solution(par, sol):\n",
    "    # make a figure with two subplots\n",
    "    fig, ax = plt.subplots(1, 2, figsize=(12, 4))\n",
    "    ax[0].plot(par.grid, sol.V)\n",
    "    ax[0].set_title('Value function')\n",
    "    ax[0].set_xlabel('milage')\n",
    "    \n",
    "    ax[1].plot(par.grid, sol.pk)\n",
    "    ax[1].set_title('Probability of keeping')\n",
    "    ax[1].set_xlabel('milage')\n",
    "    ax[1].yaxis.set_major_formatter('{x:.0%}')"
   ]
  },
  {
   "cell_type": "markdown",
   "metadata": {},
   "source": [
    "## Exercise 1 - Deterministic state transition"
   ]
  },
  {
   "cell_type": "markdown",
   "metadata": {},
   "source": [
    "Consider the engine replacement model given by:\n",
    "\n",
    "$$\n",
    "V(x) = \\max_{d\\in \\{0,1\\}} \\big\\{ u(x,d) + \\beta V(x') \\big\\} \\\\\n",
    "$$\n",
    "\n",
    "Where the state transition is deterministically given by:\n",
    "$$\n",
    "x'=\\left \\{\n",
    "\\begin{array}{ll}\n",
    "    x + 1 & \\text{if }d=\\text{keep}=0 \\\\\n",
    "    1 & \\text{if }d=\\text{replace}=1\n",
    "\\end{array} \\right.\n",
    "$$\n",
    "\n",
    "utility is given by:\n",
    "\n",
    "$$\n",
    "u(x,d)=\\left \\{\n",
    "\\begin{array}{ll}\n",
    "    -c(x) & \\text{if }d=\\text{keep}=0 \\\\\n",
    "    -RC-c(0) & \\text{if }d=\\text{replace}=1\n",
    "\\end{array} \\right.\n",
    "$$\n",
    "\n",
    "Here\n",
    "\n",
    "- $ x $ = milage of the engine\n",
    "- $ RC $ = replacement cost  \n",
    "- $ c(x) = c \\cdot x $ = cost of maintenance\n",
    "\n",
    "\n"
   ]
  },
  {
   "cell_type": "markdown",
   "metadata": {},
   "source": [
    "##### a) Orient yourself with the objects in the function *setup*, *solve_VFI*, *bellman*, *util*, and *cost* in *model_simple.py*."
   ]
  },
  {
   "cell_type": "markdown",
   "metadata": {},
   "source": [
    "##### b) Fill in the missing stuff in the *bellman* and *EV_deterministic* functions. Solve the model. Plot the solution.\n",
    "In the *bellman* function, you don't have to fill in code for *taste_shocks* other than for *taste_shocks == 'None'*."
   ]
  },
  {
   "cell_type": "code",
   "execution_count": null,
   "metadata": {},
   "outputs": [],
   "source": [
    "par = model.setup()\n",
    "sol = model.solve_VFI(par)"
   ]
  },
  {
   "cell_type": "code",
   "execution_count": null,
   "metadata": {},
   "outputs": [],
   "source": [
    "plot_solution(par, sol)"
   ]
  },
  {
   "cell_type": "markdown",
   "metadata": {},
   "source": [
    "##### c) When is it optimal to replace the engine?"
   ]
  },
  {
   "cell_type": "markdown",
   "metadata": {},
   "source": [
    "## Exercise 2 - Stochastic state transition"
   ]
  },
  {
   "cell_type": "markdown",
   "metadata": {},
   "source": [
    "Now we change the assumption of a deterministic state transition to a stochastic one. The state transition is now given by:\n",
    "$$\n",
    "x'=\\left \\{\n",
    "\\begin{array}{ll}\n",
    "    x + m & \\text{if }d=\\text{keep}=0 \\\\\n",
    "    m & \\text{if }d=\\text{replace}=1\n",
    "\\end{array} \\right.\n",
    "$$\n",
    "\n",
    "with $ m $ being a random variable that characterizes how many points we move in the grid (e.g. move 2 grid points from point 17 to 19). \n",
    "\n",
    "We will assume m is discrete and takes on the values $ \\{0,1,2\\} $ with equal probability given by *$\\pi( )$*.\n",
    "\n",
    "The value function is now given by:\n",
    "$$\n",
    "V(x,\\varepsilon) = \\max_{d\\in \\{0,1\\}} \\big\\{ u(x,d) + \\beta\n",
    "\\underbrace{\\int_{X} V(x') \\pi(x'|x,d) dx'}_{EV(x,d)} \\big\\}\n",
    "$$\n",
    "\n"
   ]
  },
  {
   "cell_type": "markdown",
   "metadata": {},
   "source": [
    "##### a) Fill in the missing stuff in the *EV_stochastic* function. Solve the model. Plot the solution."
   ]
  },
  {
   "cell_type": "code",
   "execution_count": null,
   "metadata": {},
   "outputs": [],
   "source": [
    "sol = model.solve_VFI(par, stochastic_transition = True)"
   ]
  },
  {
   "cell_type": "code",
   "execution_count": null,
   "metadata": {},
   "outputs": [],
   "source": [
    "plot_solution(par, sol)"
   ]
  },
  {
   "cell_type": "markdown",
   "metadata": {},
   "source": [
    "##### b) When is it now optimal to replace the engine? Is it different from before? Why, why not?\n",
    "*Hint*: Are agents risk-averse?"
   ]
  },
  {
   "cell_type": "markdown",
   "metadata": {},
   "source": [
    "## Exercise 3 - Taste shocks (Monte Carlo Extreme value)"
   ]
  },
  {
   "cell_type": "markdown",
   "metadata": {},
   "source": [
    "Now we change the assumption of observing all relevant characteristics. We assume that there are some states unobserved to the econometrician. In particular, we assume that there is a taste shock $ \\varepsilon $ for each choice that is unobserved to the econometrician and additively separable in the utility. \n",
    "\n",
    "We will assume that $ \\varepsilon $ is distributed according to the extreme value distribution type 1 given by the pdf *q( )*, is conditionally independant from x, and has bound $\\Omega$. We can write the value function as\n",
    "\n",
    "$$\n",
    "V(x,\\varepsilon) = \\max_{d\\in \\{0,1\\}} \\big\\{ u(x,d) + \\varepsilon_d + \\beta\n",
    "\\underbrace{\\int_{X} \\int_{\\Omega} V(x',\\varepsilon') \\pi(x'|x,d) q(\\varepsilon'|x') dx' d\\varepsilon' }_{EV(x,d)} \\big\\}\n",
    "$$\n",
    "\n",
    "Because of the taste shock today, choices are now stochastic. And also, we now have to handle the expectation of these taste shocks tommorow, which we can do by integrating them out.\n"
   ]
  },
  {
   "cell_type": "markdown",
   "metadata": {},
   "source": [
    "##### a) What is the intuition of the taste shocks? "
   ]
  },
  {
   "cell_type": "markdown",
   "metadata": {},
   "source": [
    "##### b) Solve the model with *Monte Carlo Extreme Value* shocks. Plot the solution. \n",
    "\n",
    "The code has been provided."
   ]
  },
  {
   "cell_type": "code",
   "execution_count": null,
   "metadata": {},
   "outputs": [],
   "source": [
    "sol = model.solve_VFI(par, stochastic_transition = True, taste_shocks = 'Monte Carlo Extreme Value')"
   ]
  },
  {
   "cell_type": "code",
   "execution_count": null,
   "metadata": {},
   "outputs": [],
   "source": [
    "plot_solution(par, sol)"
   ]
  },
  {
   "cell_type": "markdown",
   "metadata": {},
   "source": [
    "##### c) Why did the policy function change shape?"
   ]
  },
  {
   "cell_type": "markdown",
   "metadata": {},
   "source": [
    "#### d) If we were to add more choices, what would the computational (speed) cost be? Why?"
   ]
  },
  {
   "cell_type": "markdown",
   "metadata": {},
   "source": [
    "## Exercise 4: Taste Shocks (Analytic Extreme Value)"
   ]
  },
  {
   "cell_type": "markdown",
   "metadata": {},
   "source": [
    "In the previous exercise we used Monte Carlo simulation to integrate out the taste shocks. In this exercise, we will use some powerful properties of the extreme value distribution to analytically solve for the expected value.\n",
    "\n",
    "*Hint*: Find the closed form solution of the expected value and choice probability in the lecture slides."
   ]
  },
  {
   "cell_type": "markdown",
   "metadata": {},
   "source": [
    "##### a) Fill in the missing stuff in the *bellman* function under *taste_shocks == 'Extreme Value'*. Solve the model and plot the solution."
   ]
  },
  {
   "cell_type": "code",
   "execution_count": null,
   "metadata": {},
   "outputs": [],
   "source": [
    "sol = model.solve_VFI(par, stochastic_transition = True, taste_shocks = 'Extreme Value')"
   ]
  },
  {
   "cell_type": "code",
   "execution_count": null,
   "metadata": {},
   "outputs": [],
   "source": [
    "plot_solution(par, sol)"
   ]
  },
  {
   "cell_type": "markdown",
   "metadata": {},
   "source": [
    "##### b) Are the solutions the same as with Monte Carlo? Why, why not?"
   ]
  },
  {
   "cell_type": "markdown",
   "metadata": {},
   "source": [
    "## Exercise 5 - Taste shocks (Normally distributed)"
   ]
  },
  {
   "cell_type": "markdown",
   "metadata": {},
   "source": [
    "Now lets change the distributional assumption of the taste shocks. Let us now assume that the taste shocks are standard normally distributed."
   ]
  },
  {
   "cell_type": "markdown",
   "metadata": {},
   "source": [
    "##### a) Fill in the missing stuff under *taste_shocks == 'Normal'*. Solve the model. Plot the solution.\n",
    "*Hint*: Is there an analytical solution?"
   ]
  },
  {
   "cell_type": "code",
   "execution_count": null,
   "metadata": {},
   "outputs": [],
   "source": [
    "sol = model.solve_VFI(par, stochastic_transition = True, taste_shocks = 'Normal')"
   ]
  },
  {
   "cell_type": "code",
   "execution_count": null,
   "metadata": {},
   "outputs": [],
   "source": [
    "plot_solution(par, sol)"
   ]
  },
  {
   "cell_type": "markdown",
   "metadata": {},
   "source": [
    "##### b) What is the advantage of assuming Extreme Value Type 1 taste shocks?"
   ]
  },
  {
   "cell_type": "markdown",
   "metadata": {},
   "source": [
    "## (Optional) Exercise 6 - Vectorized "
   ]
  },
  {
   "cell_type": "markdown",
   "metadata": {},
   "source": [
    "##### a) Solve the model in a vectorized form by filling out the missing stuff in the *bellman_vectorized* function. Plot the solution.\n",
    "\n",
    "Assume that there are Extreme Value shocks and a stochastic state transition. You have been given the state transition matrices, which you will have to use."
   ]
  },
  {
   "cell_type": "code",
   "execution_count": null,
   "metadata": {},
   "outputs": [],
   "source": [
    "sol = model.solve_VFI(par, vectorized = True)"
   ]
  },
  {
   "cell_type": "code",
   "execution_count": null,
   "metadata": {},
   "outputs": [],
   "source": [
    "plot_solution(par, sol)"
   ]
  },
  {
   "cell_type": "markdown",
   "metadata": {},
   "source": [
    "##### b) Are the results identical to the solution from exercise 4? What is the advantage of solving the model in a vectorized form?"
   ]
  }
 ],
 "metadata": {
  "kernelspec": {
   "display_name": "base",
   "language": "python",
   "name": "python3"
  },
  "language_info": {
   "codemirror_mode": {
    "name": "ipython",
    "version": 3
   },
   "file_extension": ".py",
   "mimetype": "text/x-python",
   "name": "python",
   "nbconvert_exporter": "python",
   "pygments_lexer": "ipython3",
   "version": "3.11.4"
  }
 },
 "nbformat": 4,
 "nbformat_minor": 2
}
