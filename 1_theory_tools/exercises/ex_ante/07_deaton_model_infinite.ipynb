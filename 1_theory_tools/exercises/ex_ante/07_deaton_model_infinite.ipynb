{
 "cells": [
  {
   "cell_type": "code",
   "execution_count": null,
   "metadata": {},
   "outputs": [],
   "source": [
    "# magics: ensures that any changes to the modules loaded below will be re-loaded automatically\n",
    "%load_ext autoreload\n",
    "%autoreload 2\n",
    "\n",
    "# load general packages\n",
    "import numpy as np\n",
    "import matplotlib.pyplot as plt\n",
    "\n",
    "# load modules related to this exercise\n",
    "import Exercise_7 as ex7\n",
    "import tools as tools"
   ]
  },
  {
   "attachments": {},
   "cell_type": "markdown",
   "metadata": {},
   "source": [
    "# Exercise 7: Gaussian Shock\n",
    "\n",
    "Consider again the model from exercise 6, but with an infinite time horizon and interest, $R=1$:\n",
    "$$\\begin{align*}\n",
    "V_{t}(W_{t}) & = & \\max_{C_{t}}\\left\\{ \\frac{C_{t}^{1-\\rho}}{1-\\rho}+\\beta \\int_{-\\infty}^{\\infty} V_{t+1}(W_{t+1})g(y_{t+1})dy_{t+1}\\right\\} \\\\\n",
    " & \\text{s.t.}\\\\\n",
    "W_{t+1} & = & R(W_{t}-C_{t})+y_{t+1}\\\\\n",
    "y_{t+1}  & = & \\exp{(\\xi_{t+1})}\\\\\n",
    "\\xi_{t+1} & \\sim  & \\mathcal{N}(0,\\sigma_{\\xi}^{2})\\\\\n",
    "A_{t}=W_{t}-C_{t} & \\geq & 0\n",
    "\\end{align*}$$\n",
    "\n",
    "for $T\\to \\infty$, $\\beta=0.90$, $\\rho=0.5$, $W=10$ and $\\sigma_{\\xi}=0.2$."
   ]
  },
  {
   "cell_type": "markdown",
   "metadata": {},
   "source": [
    "### 1. Solve the using value function iterations"
   ]
  },
  {
   "cell_type": "code",
   "execution_count": null,
   "metadata": {},
   "outputs": [],
   "source": [
    "par = ex7.setup()\n",
    "\n",
    "# Solve the model\n",
    "sol = ex7.solve_deaton_infty(par)"
   ]
  },
  {
   "cell_type": "markdown",
   "metadata": {},
   "source": [
    "### 2. Plot the converged value and policy functions."
   ]
  },
  {
   "cell_type": "code",
   "execution_count": null,
   "metadata": {},
   "outputs": [],
   "source": [
    "fig = plt.figure(figsize=(20,5))# figsize is in inches...\n",
    "\n",
    "ax = fig.add_subplot(1,2,1)\n",
    "ax.plot(par.grid_W,sol.V)\n",
    "ax.set_xlabel(f\"$W$\")\n",
    "ax.set_ylabel(f\"$V^\\star$\")\n",
    "ax.set_title(f'Value function')\n",
    "\n",
    "ax_right = fig.add_subplot(1,2,2)\n",
    "ax_right.plot(par.grid_W,sol.C)\n",
    "ax_right.set_xlabel(f\"$W$\")\n",
    "ax_right.set_ylabel(f\"$C^\\star$\")\n",
    "ax_right.set_title(f'Consumption function')\n",
    "ax_right.plot(par.grid_W,par.grid_W,color='black',linestyle='dashed')\n",
    "\n",
    "plt.show()"
   ]
  }
 ],
 "metadata": {
  "kernelspec": {
   "display_name": "base",
   "language": "python",
   "name": "python3"
  },
  "language_info": {
   "codemirror_mode": {
    "name": "ipython",
    "version": 3
   },
   "file_extension": ".py",
   "mimetype": "text/x-python",
   "name": "python",
   "nbconvert_exporter": "python",
   "pygments_lexer": "ipython3",
   "version": "3.8.15"
  },
  "vscode": {
   "interpreter": {
    "hash": "ad2bdc8ecc057115af97d19610ffacc2b4e99fae6737bb82f5d7fb13d2f2c186"
   }
  }
 },
 "nbformat": 4,
 "nbformat_minor": 4
}
