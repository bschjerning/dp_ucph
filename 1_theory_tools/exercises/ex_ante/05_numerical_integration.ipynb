{
 "cells": [
  {
   "cell_type": "code",
   "execution_count": 6,
   "metadata": {},
   "outputs": [
    {
     "name": "stdout",
     "output_type": "stream",
     "text": [
      "The autoreload extension is already loaded. To reload it, use:\n",
      "  %reload_ext autoreload\n"
     ]
    }
   ],
   "source": [
    "# magics: ensures that any changes to the modules loaded below will be re-loaded automatically\n",
    "%load_ext autoreload\n",
    "%autoreload 2\n",
    "\n",
    "# load packages\n",
    "import numpy as np\n",
    "import tools"
   ]
  },
  {
   "cell_type": "markdown",
   "metadata": {},
   "source": [
    "# Exercise 5: Numerical Integration\n",
    "Consider the numerical integration problem\n",
    "$$\n",
    "\\int x^{2}dg(x),\\,\\,\\,x\\sim\\mathcal{N}(0,1)\n",
    "$$\n",
    "\n",
    "Note that we can analytically show that for $f(x)=x^{2}$ (it is the\n",
    "variance of $x$)\n",
    "$$\n",
    "\\int f(x)g(x)dx=1\n",
    "$$"
   ]
  },
  {
   "cell_type": "code",
   "execution_count": 7,
   "metadata": {},
   "outputs": [],
   "source": [
    "# Define the function \n",
    "f = lambda x: x**2"
   ]
  },
  {
   "cell_type": "markdown",
   "metadata": {},
   "source": [
    "### 1. Approximate the integral using *Monte Carlo integration*."
   ]
  },
  {
   "cell_type": "code",
   "execution_count": null,
   "metadata": {},
   "outputs": [
    {
     "name": "stdout",
     "output_type": "stream",
     "text": [
      "0.9993697469222269\n"
     ]
    }
   ],
   "source": [
    "num_draws = 1000 # number of MC draws\n",
    "np.random.seed(2023) # set seed to make sure the results are the same\n",
    "x_mc = np.random.normal(size=num_draws) # draw from standard normal distribution\n",
    "Efx_MC = np.mean(f(x_mc))\n",
    "print(Efx_MC)"
   ]
  },
  {
   "cell_type": "code",
   "execution_count": 10,
   "metadata": {},
   "outputs": [],
   "source": [
    "#Create a function for later use\n",
    "def integrate_MC(f,num_points):\n",
    "    np.random.seed(2023)\n",
    "    x = np.random.normal(size=num_points) \n",
    "    return np.mean(f(x))"
   ]
  },
  {
   "cell_type": "markdown",
   "metadata": {},
   "source": [
    "### 2. Approximate the integral using *Gauss-Hermite integration*."
   ]
  },
  {
   "attachments": {},
   "cell_type": "markdown",
   "metadata": {},
   "source": [
    "Gauss-Hermite approximation:\n",
    "\n",
    "\\begin{align*}\n",
    "    \\int_{-\\infty}^{\\infty} f(x) \\exp\\{-x^2\\} dx = \\sum^n_{i=1} \\omega_{gauss,i} f(x_{gauss,i}) +\\text{error term}\n",
    "\\end{align*}\n",
    "\n",
    "Hint: The goal is to rewrite the integration problem ,$\\int x^{2}dg(x),\\,\\,\\,x\\sim\\mathcal{N}(0,1)\n",
    "$, with a change of variable such that $g(z) = \\exp\\{-x^2\\}$, where z is the change of variable that makes the approximation work."
   ]
  },
  {
   "cell_type": "code",
   "execution_count": null,
   "metadata": {},
   "outputs": [],
   "source": [
    "num_points = 5\n",
    "\n",
    "# get \"raw\" hermite nodes and weights\n",
    "x_gauss,w_gauss = tools.gauss_hermite(num_points)\n",
    "\n",
    "# adjust accordingly to the distribution X is drawn from. Here standard Gaussian\n",
    "# Fill in\n",
    "\n",
    "# evaluate expectation\n",
    "Efx_gauss = f(x_gauss.T) @ w_gauss\n",
    "print(Efx_gauss)"
   ]
  },
  {
   "cell_type": "code",
   "execution_count": null,
   "metadata": {},
   "outputs": [],
   "source": [
    "# construct function for use below\n",
    "def integrate_gauss(f,num_points):\n",
    "    x_gauss,w_gauss = tools.gauss_hermite(num_points)\n",
    "    return #fill in"
   ]
  },
  {
   "cell_type": "markdown",
   "metadata": {},
   "source": [
    "### 3. Compare the two methods across various number of grid points. How few grid points do you need for Gauss-Hermite integration?"
   ]
  },
  {
   "cell_type": "code",
   "execution_count": null,
   "metadata": {},
   "outputs": [],
   "source": [
    "num_array = [1,2,3,10,50,100,1000,3000,900000]\n",
    "\n",
    "# We check the time\n",
    "import time\n",
    "\n",
    "for i,num in enumerate(num_array):   # i is the index, and num is the corresponding value: num_array[i]=num\n",
    "    t0 = time.time()  # set the starting time\n",
    "    print(f'Number of grid points:    {num}')\n",
    "    print(f'MC:    {integrate_MC(f,num):.4f}')\n",
    "    if num < 1500:\n",
    "        print(f'gauss: {integrate_gauss(f,num):.4f}')\n",
    "    print(f'True value:  {1:.4f}')\n",
    "    t1 = time.time() # set the ending time\n",
    "    print(f'time: {t1-t0:.8} seconds') # print the total time\n",
    "    print(f'')"
   ]
  },
  {
   "cell_type": "markdown",
   "metadata": {},
   "source": [
    "### 4. Change the function f and see what happens."
   ]
  },
  {
   "cell_type": "code",
   "execution_count": null,
   "metadata": {},
   "outputs": [],
   "source": [
    "num_array = [1,2,3,4,5,10,50,100,500,3000]\n",
    "\n",
    "# New function\n",
    "g = lambda x: np.exp(x)\n",
    "\n",
    "for i,num in enumerate(num_array): # i is the index, and num is the corresponding value: num_array[i]=num\n",
    "    print(f'Number of grid points:    {num}')\n",
    "    if num < 1500:\n",
    "        print(f'gauss: {integrate_gauss(g,num):.4f}')\n",
    "    print(f'MC:    {integrate_MC(g,num):.4f}')\n",
    "    print(f'True value:  {np.exp(1/2):.4f}')\n",
    "    print(f'')"
   ]
  }
 ],
 "metadata": {
  "kernelspec": {
   "display_name": "base",
   "language": "python",
   "name": "python3"
  },
  "language_info": {
   "codemirror_mode": {
    "name": "ipython",
    "version": 3
   },
   "file_extension": ".py",
   "mimetype": "text/x-python",
   "name": "python",
   "nbconvert_exporter": "python",
   "pygments_lexer": "ipython3",
   "version": "3.9.13"
  },
  "vscode": {
   "interpreter": {
    "hash": "d23f3ceec305a45481076084313530cecc6283a24046b34365f00383ab0a81b1"
   }
  }
 },
 "nbformat": 4,
 "nbformat_minor": 4
}
