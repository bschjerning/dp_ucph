{
 "cells": [
  {
   "cell_type": "code",
   "execution_count": null,
   "metadata": {},
   "outputs": [],
   "source": [
    "# magics: ensures that any changes to the modules loaded below will be re-loaded automatically\n",
    "%load_ext autoreload\n",
    "%autoreload 2\n",
    "\n",
    "# load packages\n",
    "import numpy as np\n",
    "import matplotlib.pyplot as plt\n",
    "\n"
   ]
  },
  {
   "cell_type": "markdown",
   "metadata": {},
   "source": [
    "# Exercise 7 [L5]: Function approximation\n",
    "\n",
    "Consider the function\n",
    "$$\n",
    "f(x) = min \\{max\\{-1,4(x-0.2\\},1\\}\n",
    "$$\n"
   ]
  },
  {
   "cell_type": "markdown",
   "metadata": {},
   "source": [
    "### 1. The ex ante code contains an example of how well linear interpolation can approximate this function. Re-do the analysis with: \n",
    "<ol type =\"a\">\n",
    "<li> Cubic spline (use scipy.interpolate.CubicSpline) </li>\n",
    "<li> Regression with regular polynomials of 4th order</li>\n",
    "<li> Regression with Chebyshev polynomials (see Chebyshev.py) </li>\n",
    "</ol>\n"
   ]
  },
  {
   "cell_type": "markdown",
   "metadata": {},
   "source": [
    "Setup\n"
   ]
  },
  {
   "cell_type": "code",
   "execution_count": null,
   "metadata": {},
   "outputs": [],
   "source": [
    "# Define the function \n",
    "f = lambda x: np.minimum(np.maximum(-1,4*(x-0.2)),1)\n",
    "\n",
    "interval = [-1,1]\n",
    "N_known = 10      # Number of known points\n",
    "N_true = 1000     # Number of true points\n",
    "N = 150           # Number of points for interpolation\n",
    "\n",
    "#Function values\n",
    "x_true  = np.linspace(interval[0],interval[1],N_true)\n",
    "f_true  = f(x_true)\n",
    "\n",
    "# Points you want to interpolate\n",
    "G = np.linspace(interval[0],interval[1],N)\n",
    "\n",
    "#known points\n",
    "x_known = np.linspace(-0.8,0.8,N_known)\n",
    "f_known = f(x_known)\n",
    "\n",
    "# Define the plot \n",
    "def plot(f_interp):\n",
    "    fig = plt.figure(figsize=(10,4)) \n",
    "    ax = fig.add_subplot(1,1,1)\n",
    "    ax.plot(x_true,f_true)\n",
    "    ax.plot(G,f_interp,'red')\n",
    "    ax.scatter(x_known,f_known)\n",
    "\n",
    "    ax.set_xlabel(\"x\")\n",
    "    ax.set_ylabel(\"$f(x)$\")\n",
    "    plt.legend(('True','Interpolation','known nodes'))\n",
    "    plt.axvline(x=0.8, ls='--',color='black')\n",
    "    plt.axvline(x=-0.8,ls='--',color='black')\n",
    "    plt.ylim(-1.5,2)\n",
    "\n",
    "    plt.show()"
   ]
  },
  {
   "cell_type": "markdown",
   "metadata": {},
   "source": [
    "Example. Linear interpolation"
   ]
  },
  {
   "cell_type": "code",
   "execution_count": null,
   "metadata": {},
   "outputs": [],
   "source": [
    "from scipy import interpolate\n",
    "\n",
    "# Interpolate\n",
    "f_linear_func = interpolate.interp1d(x_known,f_known, bounds_error=False, fill_value = \"extrapolate\")\n",
    "f_linear_interp = f_linear_func(G)\n",
    "\n",
    "# Plot\n",
    "plot(f_linear_interp)"
   ]
  },
  {
   "cell_type": "markdown",
   "metadata": {},
   "source": [
    "#### (1) Cubic spline (use scipy.interpolate.CubicSpline)"
   ]
  },
  {
   "cell_type": "code",
   "execution_count": null,
   "metadata": {},
   "outputs": [],
   "source": [
    "from scipy.interpolate import CubicSpline\n",
    "\n",
    "# Interpolate\n",
    "f_cubicSpline_func = CubicSpline(x_known,f_known, extrapolate = True)\n",
    "f_cubicSpine_interp = f_cubicSpline_func(G)\n",
    "\n",
    "\n",
    "# Plot\n",
    "plot(f_cubicSpine_interp)\n"
   ]
  },
  {
   "cell_type": "markdown",
   "metadata": {},
   "source": [
    "#### (2) Regression with regular polynomials of 4th order"
   ]
  },
  {
   "cell_type": "code",
   "execution_count": null,
   "metadata": {},
   "outputs": [],
   "source": [
    "# Define the variables for the regression\n",
    "X = np.transpose([x_known**(i) for i in range(4+1)])\n",
    "\n",
    "# Estimate beta\n",
    "b = np.linalg.inv(X.T@(X)) @ (X.T)@(f_known)\n",
    "\n",
    "# Points to interpolate\n",
    "X_grid = [G**(i) for i in range(4+1)]\n",
    "X_grid = np.transpose(X_grid)\n",
    "\n",
    "# Find the interpolated function\n",
    "f_reg_curvefit = X_grid @ b\n",
    "\n",
    "# Plot\n",
    "plot(f_reg_curvefit)"
   ]
  },
  {
   "cell_type": "markdown",
   "metadata": {},
   "source": [
    "#### (3) Regression with Chebyshev polynomials (see Chebyshev.py)"
   ]
  },
  {
   "cell_type": "code",
   "execution_count": null,
   "metadata": {},
   "outputs": [],
   "source": [
    "from Chebyshev import Chebyshev\n",
    "\n",
    "f_chebyshev_9,_,_ = Chebyshev(f,G,N_known,9)\n",
    "f_chebyshev_4,_,_ = Chebyshev(f,G,N_known,4)\n",
    "\n",
    "\n",
    "# Plot\n",
    "fig = plt.figure(figsize=(10,4)) \n",
    "ax = fig.add_subplot(1,1,1)\n",
    "ax.plot(x_true,f_true)\n",
    "ax.plot(G,f_chebyshev_9,'red')\n",
    "ax.plot(G,f_chebyshev_4,'red',ls='--')\n",
    "ax.scatter(x_known,f_known)\n",
    "\n",
    "ax.set_xlabel(\"x\")\n",
    "ax.set_ylabel(\"$f(x)$\")\n",
    "plt.legend(('True','Chebychev (p=9)','Chebychev (p=4)','known nodes'))\n",
    "plt.axvline(x=0.8, ls='--',color='black')\n",
    "plt.axvline(x=-0.8,ls='--',color='black')\n",
    "plt.show()"
   ]
  },
  {
   "cell_type": "markdown",
   "metadata": {},
   "source": [
    "### Next consider the function\n",
    "$$\n",
    "g(x,z) = (x+1)^{0.4} \\cdot (z+1)^{0.4} + \\mathbb{1}_{zx>0.3}\n",
    "$$"
   ]
  },
  {
   "cell_type": "markdown",
   "metadata": {},
   "source": [
    "### 2. Use the ex ante code to investigate how large the error is from using linear interpolation"
   ]
  },
  {
   "cell_type": "code",
   "execution_count": null,
   "metadata": {},
   "outputs": [],
   "source": [
    "# Define a function\n",
    "g = lambda x,z: ((x+1)**0.4)*((z+1)**0.4)+1*(z*x>0.3)\n",
    "\n",
    "# Values for interpolation\n",
    "N_true = 500\n",
    "x_true = np.linspace(0,1,N_true)\n",
    "z_true = np.linspace(0,1,N_true)\n",
    "x_true_mat, z_true_mat = np.meshgrid(x_true,z_true)\n",
    "g_true = g(x_true_mat, z_true_mat)\n",
    "\n",
    "# Known values\n",
    "N_known = 20\n",
    "x_known = np.linspace(0,1,N_known)\n",
    "z_known = np.linspace(0,1,N_known)\n",
    "x_known_mat, z_known_mat = np.meshgrid(x_known,z_known)\n",
    "g_known = g(x_known_mat,z_known_mat)\n",
    "\n",
    "# Linear interpolation\n",
    "g_func_interp = interpolate.interp2d(x_known, z_known,g_known)\n",
    "\n",
    "g_linear_interp = g_func_interp(x_true,z_true)"
   ]
  },
  {
   "cell_type": "code",
   "execution_count": null,
   "metadata": {},
   "outputs": [],
   "source": [
    "%matplotlib inline\n",
    "# Plot the figure\n",
    "from mpl_toolkits.mplot3d import Axes3D\n",
    "from matplotlib import cm\n",
    "from matplotlib.ticker import LinearLocator, FormatStrFormatter\n",
    "\n",
    "fig = plt.figure(figsize=(10,5))\n",
    "ax = fig.add_subplot(1,1,1,projection='3d')\n",
    "\n",
    "# Plot the surface.\n",
    "ax.plot_wireframe(x_true_mat, z_true_mat, g_true, color='black')\n",
    "ax.plot_wireframe(x_true_mat, z_true_mat, g_linear_interp, color='red')\n",
    "ax.set_xlabel(f'X')\n",
    "ax.set_ylabel(f'Z')\n",
    "ax.set_zlabel(f'g(x,z)')\n",
    "plt.legend(('True','Interpolation'))\n",
    "\n",
    "plt.show()  "
   ]
  },
  {
   "cell_type": "code",
   "execution_count": null,
   "metadata": {},
   "outputs": [],
   "source": [
    "# Plot the interpolation error\n",
    "fig = plt.figure(figsize=(10,5))\n",
    "ax = fig.add_subplot(1,1,1,projection='3d')\n",
    "# Plot the surface.\n",
    "#ax.plot_wireframe(x_true_mat, z_true_mat,g_linear_interp-g_true)\n",
    "surf=ax.plot_surface(x_true_mat, z_true_mat,g_linear_interp-g_true, cmap=cm.coolwarm)\n",
    "# Customize the axis.\n",
    "ax.set_xlabel(f'X')\n",
    "ax.set_ylabel(f'Z')\n",
    "ax.set_zlabel(f'Error')\n",
    "fig.colorbar(surf, shrink=0.5,aspect=5)\n",
    "\n",
    "plt.show()  "
   ]
  },
  {
   "cell_type": "code",
   "execution_count": null,
   "metadata": {},
   "outputs": [],
   "source": []
  }
 ],
 "metadata": {
  "kernelspec": {
   "display_name": "base",
   "language": "python",
   "name": "python3"
  },
  "language_info": {
   "codemirror_mode": {
    "name": "ipython",
    "version": 3
   },
   "file_extension": ".py",
   "mimetype": "text/x-python",
   "name": "python",
   "nbconvert_exporter": "python",
   "pygments_lexer": "ipython3",
   "version": "3.9.7"
  },
  "vscode": {
   "interpreter": {
    "hash": "e426bf05754cca8d7bd83a0dce81a672af178a75fe45d0c3ca2f6c8ec8bbe319"
   }
  }
 },
 "nbformat": 4,
 "nbformat_minor": 4
}
