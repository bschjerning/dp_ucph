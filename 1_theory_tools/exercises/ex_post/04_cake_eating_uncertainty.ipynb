{
 "cells": [
  {
   "cell_type": "code",
   "execution_count": null,
   "metadata": {},
   "outputs": [],
   "source": [
    "# magics: ensures that any changes to the modules loaded below will be re-loaded automatically\n",
    "%load_ext autoreload\n",
    "%autoreload 2\n",
    "\n",
    "# load packages\n",
    "import numpy as np\n",
    "import matplotlib.pyplot as plt"
   ]
  },
  {
   "cell_type": "markdown",
   "metadata": {},
   "source": [
    "# Exercise 4: Introducing uncertainty"
   ]
  },
  {
   "attachments": {},
   "cell_type": "markdown",
   "metadata": {},
   "source": [
    "Consider the model with uncertainty:\n",
    "$$\\begin{align*}\n",
    "    V_{t}(W_{t}) & = \\max_{c_{t}}\\left\\{ \\sqrt{c_{t}} + \\beta \\sum_{i=1}^K V_{t+1}(W_t-c_t+\\varepsilon_i)\\pi_i  \\right\\} \\\\\n",
    " & \\text{s.t.}\\\\\n",
    "c_{t} & \\leq  W_{t} , \\,\\forall t\\\\\n",
    "c_{t} & \\in  \\mathbb{R}_+, \\,\\forall t \\\\\n",
    "\\varepsilon_i & \\in \\mathbb{N}  \\text{ with probability } \\pi_i\\ge 0, i=1,\\dots,K, \\text{ and } \\sum_{i=1}^K \\pi_i=1\n",
    "\\end{align*}$$\n",
    "for $T=10$, $\\beta=0.90$ and $W_{1}=10$. Further assume that $\\epsilon_i$ follows a uniform distribution, $K=5$ and $\\epsilon_{i} \\in (0,1,2,3,4)$"
   ]
  },
  {
   "cell_type": "markdown",
   "metadata": {},
   "source": [
    "### 1. Solve the model using *backward induction*, *grid search*, and *linear interpolation*."
   ]
  },
  {
   "cell_type": "code",
   "execution_count": null,
   "metadata": {},
   "outputs": [],
   "source": [
    "# Setup specifications in class. \n",
    "class par: pass\n",
    "par.beta = 0.90\n",
    "par.W = 10\n",
    "par.T = 10\n",
    "par.K = 5\n",
    "par.eps = [0, 1, 2, 3, 4]\n",
    "par.pi = [0.2, 0.2, 0.2, 0.2, 0.2]\n",
    "\n",
    "\n",
    "# Grid\n",
    "par.num_W = 200\n",
    "par.num_C = 200"
   ]
  },
  {
   "cell_type": "code",
   "execution_count": null,
   "metadata": {},
   "outputs": [],
   "source": [
    "# load modules related to this exercise\n",
    "import Exercise_4 as ex4\n",
    "\n",
    "# Solve the model\n",
    "sol = ex4.solve_consumption_uncertainty(par)"
   ]
  },
  {
   "cell_type": "markdown",
   "metadata": {},
   "source": [
    "### 2. Plot the value function and the consumption function for $t=1$. Make sure that both functions are increasing in $W$."
   ]
  },
  {
   "cell_type": "code",
   "execution_count": null,
   "metadata": {},
   "outputs": [],
   "source": [
    "# Compare \n",
    "fig = plt.figure(figsize=(10,4)) # figsize is in inches...\n",
    "\n",
    "ax = fig.add_subplot(1,2,1)\n",
    "ax.plot(sol.grid_W[:,0],sol.V[:,0])\n",
    "ax.set_xlabel(\"$W_1$\")\n",
    "ax.set_ylabel(\"$V_1$\")\n",
    "ax_right = fig.add_subplot(1,2,2)\n",
    "ax_right.plot(sol.grid_W[:,0],sol.C[:,0])\n",
    "ax_right.set_xlabel(\"$W_1$\")\n",
    "ax_right.set_ylabel(\"$C_1$\")\n",
    "plt.show()"
   ]
  },
  {
   "attachments": {},
   "cell_type": "markdown",
   "metadata": {},
   "source": [
    "### 3. Compare the value function and consumption function from ex. 1 with a deterministic model.\n",
    "Compare with a model with no income growth, and with a model with a deterministic income growth of 2 in each period (as this is the average stochastic income growth)."
   ]
  },
  {
   "cell_type": "code",
   "execution_count": null,
   "metadata": {},
   "outputs": [],
   "source": [
    "class par_fixed(par): pass  # Create a copy of the class\n",
    "par_fixed.pi = [0, 0, 1, 0, 0]  \n",
    "sol_fixed = ex4.solve_consumption_uncertainty(par_fixed)\n",
    "\n",
    "# Compare \n",
    "plt.plot(sol.grid_W[:,0],sol.C[:,0], label='Uniform distribution, $\\epsilon$',)\n",
    "plt.plot(sol_fixed.grid_W[:,0],sol_fixed.C[:,0], label='Deterministic, $\\epsilon$')\n",
    "plt.ylabel('$C_1$')\n",
    "plt.xlabel('$W_1$')\n",
    "plt.legend();plt.show()\n",
    "plt.plot(sol.grid_W[:,0],sol.V[:,0], label='Uniform distribution, $\\epsilon$')\n",
    "plt.plot(sol_fixed.grid_W[:,0],sol_fixed.V[:,0], label='Deterministic, $\\epsilon$')\n",
    "plt.ylabel('$V_1$')\n",
    "plt.xlabel('$W_1$')\n",
    "plt.legend();plt.show()"
   ]
  },
  {
   "cell_type": "markdown",
   "metadata": {},
   "source": [
    "### 4. Reestimate the model assuming that $\\pi = [0.05, 0.05, 0.8, 0.05, 0.05]$. How does the solution compare to the model with uniform uncertainty? "
   ]
  },
  {
   "cell_type": "code",
   "execution_count": null,
   "metadata": {},
   "outputs": [],
   "source": [
    "class par_mass(par): pass \n",
    "par_mass.pi = [0.05, 0.05, 0.8, 0.05, 0.05] \n",
    "sol_mass = ex4.solve_consumption_uncertainty(par_mass)\n",
    "\n",
    "# Compare \n",
    "plt.plot(sol.grid_W[:,0],sol.C[:,0], label='Uniform distribution, $\\epsilon$')\n",
    "plt.plot(sol_mass.grid_W[:,0],sol_mass.C[:,0], label='Mass point distribution, $\\epsilon$')\n",
    "plt.legend();plt.show()\n",
    "plt.plot(sol.grid_W[:,0],sol.V[:,0], label='Uniform distribution, $\\epsilon$')\n",
    "plt.plot(sol_mass.grid_W[:,0],sol_mass.V[:,0], label='Mass point distribution, $\\epsilon$')\n",
    "plt.legend();plt.show()"
   ]
  },
  {
   "attachments": {},
   "cell_type": "markdown",
   "metadata": {},
   "source": [
    "### 5. Simulate a panel of *10,000* household for *10* periods and plot the mean of $C_t$. \n",
    "Everybody should be initialized with $W_1 = 10$. Simulate using the solution from ex.1 and the solution from ex. 4. What is the intuition of the graphs?"
   ]
  },
  {
   "cell_type": "code",
   "execution_count": null,
   "metadata": {},
   "outputs": [],
   "source": [
    "# Simulate \n",
    "np.random.seed(2022)  #Seed value, it ensures that the computer draw the same \"random\"-numbers each time\n",
    "\n",
    "def simulate(sol, par, sim):\n",
    "    \n",
    "    # Allocate\n",
    "    shape = (sim.simN, sim.T)\n",
    "    simN = sim.simN\n",
    "    W_ini = sim.W_ini\n",
    "    W = sim.W_ini*np.ones(shape)\n",
    "    C = np.nan +np.zeros(shape)\n",
    "    mean = np.zeros(sim.T)\n",
    "    \n",
    "    for t in range(par.T):\n",
    "        C[:,t] = np.interp(W[:,t],sol.grid_W[:,t],sol.C[:,t])\n",
    "        eps = np.random.choice(par.eps, size = simN, p = par.pi) #draw epsilons from discrete distribution\n",
    "        mean[t] = np.mean(C[:,t])\n",
    "        if t<par.T-1:\n",
    "            W[:,t+1] = W[:,t]-C[:,t]+eps\n",
    "    \n",
    "    return mean\n",
    "\n",
    "class sim: pass\n",
    "sim.simN = 10000\n",
    "sim.W_ini = 10\n",
    "sim.T = 10\n",
    "sim.T_grid = range(1,sim.T+1)\n",
    "\n",
    "sim_uni = simulate(sol,par,sim)\n",
    "sim_mass = simulate(sol_mass,par_mass,sim)\n",
    "\n",
    "plt.plot(sim.T_grid,sim_uni, label='Uniform distribution, $\\epsilon$')\n",
    "plt.plot(sim.T_grid,sim_mass, label='Mass point distribution, $\\epsilon$')\n",
    "plt.ylabel('$C_t$')\n",
    "plt.xlabel('$t$')\n",
    "plt.legend();plt.show()"
   ]
  },
  {
   "cell_type": "code",
   "execution_count": null,
   "metadata": {},
   "outputs": [],
   "source": []
  }
 ],
 "metadata": {
  "kernelspec": {
   "display_name": "base",
   "language": "python",
   "name": "python3"
  },
  "language_info": {
   "codemirror_mode": {
    "name": "ipython",
    "version": 3
   },
   "file_extension": ".py",
   "mimetype": "text/x-python",
   "name": "python",
   "nbconvert_exporter": "python",
   "pygments_lexer": "ipython3",
   "version": "3.11.4"
  },
  "vscode": {
   "interpreter": {
    "hash": "e426bf05754cca8d7bd83a0dce81a672af178a75fe45d0c3ca2f6c8ec8bbe319"
   }
  }
 },
 "nbformat": 4,
 "nbformat_minor": 4
}
