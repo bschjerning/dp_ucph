{
 "cells": [
  {
   "cell_type": "markdown",
   "metadata": {
    "slideshow": {
     "slide_type": "slide"
    }
   },
   "source": [
    "# Dynamic Programming and Structural Econometrics #4b\n",
    "\n",
    "### Portfolio Choice Example:  Numerical Integration\n",
    "\n",
    "**Readings:** \n",
    "- 📖 Judd, K. L. (1998). Numerical methods in economics. MIT press. Sections 7.6\n",
    "\n",
    "by Bertel Schjerning\n",
    "\n",
    "University of Copenhagen"
   ]
  },
  {
   "cell_type": "markdown",
   "metadata": {
    "slideshow": {
     "slide_type": "slide"
    }
   },
   "source": [
    "### Numerical methods in Economics\n",
    "\n",
    "Optimization problems and integrals frequently arise in economics and econometrics\n",
    "\n",
    "**Numerical Integration**:\n",
    "- Expected utility/profits: Integral over stochastic states of the world\n",
    "- Discounted utility and profits over a long horizon in continuous time \n",
    "- Moments (mean, variance, skewness, etc), Likelihood functions, Bayesian posterior\n",
    "- Solution methods for dynamic economic models\n",
    "\n",
    "**Optimization**: \n",
    "- Maximization of utility, profits, social welfare, tax-revenue, equality...\n",
    "- Minimization of expenses, cost, commute time, carbon emissions...\n",
    "- Estimation: Least squares, maximum likelihood...\n",
    "\n",
    "*Most integrals and optimization problems cannot be solved analytically*\n",
    "\n"
   ]
  },
  {
   "cell_type": "markdown",
   "metadata": {
    "slideshow": {
     "slide_type": "slide"
    }
   },
   "source": [
    "## Plan for lectures\n",
    "\n",
    "Illustrate methods by economic example:\n",
    "***Portfolio choice model***\n",
    "\n",
    "**This NOTEBOOK**\n",
    "- **Model presentation**\n",
    "\n",
    "- **Numerical Integration** : Evaluate expected value/utility of a given portfolio with stochastic returns\n",
    "    - Recap: 1-d quadrature\n",
    "    - Mutidimentional Guassian quadrature\n",
    "    - Monte Carlo: Simulation based integration (breaks the curse of dimensionality)\n",
    "\n",
    "**NEXT**\n",
    "- **Optimization**: Maximize agents expected utility by choosing optimal allocation of wealth in a number of risky assets\n",
    "    - Newtons method - similar to what we did when solving non-linear eqations\n",
    "    - Line Searching\n",
    "    - Non-gradient based solvers (e.g. Nelder-Mead)\n"
   ]
  },
  {
   "cell_type": "markdown",
   "metadata": {
    "slideshow": {
     "slide_type": "slide"
    }
   },
   "source": [
    "### Portfolio choice: Constrained optimization problem\n",
    "We consider an investor who allocates current wealth, $W$ across $n$ assets indexed by $i=0,\\dots, n-1$. \n",
    "\n",
    "$$\n",
    "\\max_{(\\omega_0, \\dots, \\omega_{n-1})} E \\left\\{u\\left(\\sum_{i=0}^{n-1} \\omega_i Z_i\\right)\\right\\} \\\\\n",
    "s.t. \\sum_{i=0}^{n-1} \\omega_i p_i  - W = 0\n",
    "$$\n",
    "where asset $i$ has price $p_i$ and a stochastic future value $Z_i$ whose distribution we will specify later. \n",
    "\n",
    "- This is a **$n$-dimensional constrained optimization problem** with one equality constraint\n",
    "- Expectation operator requires evaluating a **$n$-dimensional integral**\n",
    "\n",
    "\n"
   ]
  },
  {
   "cell_type": "markdown",
   "metadata": {
    "slideshow": {
     "slide_type": "slide"
    }
   },
   "source": [
    "### Portfolio choice: unconstrained optimization problem\n",
    "We can easily impose the budget constraint by substituting $\\omega_0 = W - \\sum_{i=1}^{n-1}\\omega_i p_i$ into the utility function and eliminating $\\omega_0$ from the choice set \n",
    "\n",
    "The resulting $n-1$-dimensional ***unconstrained optimization problem*** is\n",
    "\n",
    "$$\n",
    "\\max_{\\omega}  U(\\omega) =  \\max_{\\omega} E \\left\\{u\\left(( W - \\sum_{i=1}^{n-1}\\omega_i)Z_0  + \\sum_{i=1}^{n-1} \\omega_i Z_i\\right)\\right\\} \n",
    "$$\n",
    "\n",
    "where $\\omega=(\\omega_1, \\dots, \\omega_{n-1})$  is the vector of portfolio choices.\n",
    "\n",
    "For simplicity we will assume that all assets have the same price of $1\\$$ and set $W=1$ throughout, so that $\\omega_i$ refers to the portfolio share in asset $i$.  \n"
   ]
  },
  {
   "cell_type": "markdown",
   "metadata": {
    "slideshow": {
     "slide_type": "slide"
    }
   },
   "source": [
    "## Utility function\n",
    "\n",
    "We will assume the Constant Relative Risk Aversion (CRRA) utility function\n",
    "\n",
    "$$\n",
    "    u(c)=\\frac{c^{1-\\gamma}-1}{1-\\gamma}+1\n",
    "$$\n",
    " \n",
    "- $\\gamma$ is a parameter that measures the degree of relative risk aversion \n",
    "- $\\gamma<0$ utility function is convex and agent is *risk lover*\n",
    "- $\\gamma=0$ utility function is linear and agent is *risk neutral*\n",
    "- $\\gamma>0$ utility function is concave and agent is *risk averse*\n",
    "- $\\gamma=1$ utility function $u(c)=1+\\log(c)$\n",
    "\n",
    "\n"
   ]
  },
  {
   "cell_type": "markdown",
   "metadata": {
    "slideshow": {
     "slide_type": "slide"
    }
   },
   "source": [
    "## CRRA utility function\n",
    "<center><img src=\"img/u.png\"  width=\"900\" style=\"\">\n"
   ]
  },
  {
   "cell_type": "code",
   "execution_count": 1,
   "metadata": {
    "slideshow": {
     "slide_type": "slide"
    }
   },
   "outputs": [],
   "source": [
    "# Most of what we do today relies on these libraries\n",
    "import numpy as np\n",
    "import random\n",
    "import scipy.stats\n",
    "import chaospy  ## needs installation\n",
    "import matplotlib.pyplot as plt"
   ]
  },
  {
   "cell_type": "code",
   "execution_count": 2,
   "metadata": {
    "slideshow": {
     "slide_type": "slide"
    }
   },
   "outputs": [],
   "source": [
    "# CRRA utility function\n",
    "def u(gamma, c): \n",
    "    '''CRRA utility function'''\n",
    "    if gamma!=1:\n",
    "        return (c**(1-gamma)-1)/(1-gamma)+1\n",
    "    else:\n",
    "        return np.log(c)+1"
   ]
  },
  {
   "cell_type": "markdown",
   "metadata": {
    "slideshow": {
     "slide_type": "slide"
    }
   },
   "source": [
    "## Computing expected utility\n",
    "In order to solve the portfolio choice problem we need to be able to evaluate the objective function for a given portfolio allocation, $\\omega$\n",
    "\n",
    "$$\n",
    "U(\\omega)=E \\left\\{u\\left(( W - \\sum_{i=1}^{n-1}\\omega_i)Z_0  + \\sum_{i=1}^{n-1} \\omega_i Z_i\\right)\\right\\} \n",
    "$$\n",
    "\n",
    "- Expectation operator $E(\\cdot)$ requires that we specify the asset return distribution for assets $i=0, \\dots, n-1$. \n",
    "- Need to specify deistribution of asset returns, $f(Z)$\n",
    "\n"
   ]
  },
  {
   "cell_type": "markdown",
   "metadata": {
    "slideshow": {
     "slide_type": "slide"
    }
   },
   "source": [
    "### Distribution of asset returns\n",
    "We initially assume that the future value of asset $i$ is assumed to be *independent across assets* and *log-normally distributed* with mean return $R_i$ and variance $\\sigma^2_{Z_i}$ so that \n",
    "\n",
    "\\begin{align}\n",
    "Z_i&=&\\exp(\\varepsilon_i) \\quad \\varepsilon_i~\\sim N(\\mu_i, \\sigma_i^2) \\\\\n",
    "\\mu_i&=&\\log(R_i^2/\\sqrt{R_i^2 + \\sigma_{Z_i}^2})\\\\ \\sigma^2_i&=&\\log(1+\\sigma^2_{Z_i}/R^2_i).\n",
    "\\end{align}\n",
    "\n",
    "As we will se below, it is useful to can use the change of variable to obtain $Z_i$ as function of the quantile $q_i$ \n",
    "\n",
    "$$Z_i(q_i)=\\exp(\\mu_1 + \\sigma \\Phi^{-1}(q_i))$$\n",
    "\n",
    "where $\\Phi^{-1}(q_i)$ is the inverse CDF of the standard normal distribution and $q_i \\sim U(0,1)$ is the quantiles uniformly distributed on the interval $[0,1]$. \n",
    "\n"
   ]
  },
  {
   "cell_type": "markdown",
   "metadata": {
    "slideshow": {
     "slide_type": "slide"
    }
   },
   "source": [
    "### Log normal asset returns\n",
    "Density of asset returns function for different values of $(R_i,\\sigma^2_{Z_i})$. \n",
    "\n",
    "<center><img src=\"img/pdf_Z.png\"  width=\"1500\" style=\"\">\n"
   ]
  },
  {
   "cell_type": "markdown",
   "metadata": {
    "slideshow": {
     "slide_type": "slide"
    }
   },
   "source": [
    "### One safe asset and one risky assets, $n=2$\n",
    "To further simplify matters we will initially assume \n",
    "- asset 0: safe asset with $\\sigma_{Z_i}=0$ and $Z_0=R_0$\n",
    "- asset 1 has log normal returns\n",
    "\n",
    "We then have\n",
    "$$\n",
    "U(\\omega_1)=E \\left\\{u\\left(R_0(W - \\omega_1)  + \\omega Z_1)\\right)\\right\\} \n",
    "$$\n",
    "\n",
    "This is the mean of a function of one log-normally distributed variable and only requires to evaluate a one dimensional \n",
    "\n",
    "$$\n",
    "U(\\omega_1)=\\int_0^{\\infty} u\\left(R_0(W - \\omega_1) + \\omega_1 Z_1 \\right) g(Z_1)dZ_1  \n",
    "$$\n",
    "\n",
    "where $g(Z_1)={\\displaystyle {\\frac {1}{Z_1\\sigma_1 {\\sqrt {2\\pi }}}}\\ \\exp \\left(-{\\frac {\\left(\\ln Z_1-\\mu_1 \\right)^{2}}{2\\sigma_1 ^{2}}}\\right)}$ is the log normal density"
   ]
  },
  {
   "cell_type": "markdown",
   "metadata": {
    "slideshow": {
     "slide_type": "slide"
    }
   },
   "source": [
    "### How to solve integral?\n",
    "We will use **Gauss-Legendre quadrature**\n",
    "\n",
    "$$\n",
    "\\int_{-1}^1 f(x) dx \\approx \\sum_{i=1}^{n} w_i f(x_i) \n",
    "$$\n",
    "\n",
    "or more generally\n",
    "$$\n",
    "{\\displaystyle \\int _{a}^{b}f(x)\\,dx\\approx {\\frac {b-a}{2}}\\sum _{i=1}^{n}w_{i}\n",
    "f\\left({\\frac {(x_i+1)(b-a)}{2} +a }\\right)\\,dx .}\n",
    "%f\\left({\\frac {b-a}{2}}x _{i}+{\\frac {a+b}{2}}\\right).}\n",
    "$$\n",
    "\n",
    "\n",
    "\n",
    "- Nodes and weights $(x_i, w_i)$ come from Legendre polynomials, values tabulated  \n",
    "- Our integral has domain, $[0, \\infty]$, but can be transformed to domain $[0,1]$ using a change of varible based on the inverse cdf\n",
    "\n"
   ]
  },
  {
   "cell_type": "markdown",
   "metadata": {
    "slideshow": {
     "slide_type": "slide"
    }
   },
   "source": [
    "### Change of variable using inverse cdf\n",
    "Using the change of variable  $Z_1(q_1)=\\exp(\\mu_1 + \\sigma \\Phi^{-1}(q_1))$ we obtain a one dimensional integral on the unit interval\n",
    "\n",
    "\\begin{align}\n",
    "U(\\omega_1)&=E \\left\\{u\\left(R_0(W - \\omega_1)  + \\omega_1 \\exp(\\mu_1 + \\sigma_1 \\Phi^{-1}(q_1))\\right)\\right\\}  \\\\\n",
    "&=\\int_0^1 \\left\\{u\\left(R_0(W - \\omega_1)  + \\omega_1 \\exp(\\mu_1 + \\sigma_1 \\Phi^{-1}(q_1))\\right)\\right\\}dq_1  \\nonumber \\\\\n",
    "&=\\int_0^1 f(q_1;\\omega_1)dq_1  \\nonumber\n",
    "\\end{align}\n",
    "\n",
    "where\n",
    "\n",
    "\\begin{align}\n",
    "f(q_1;\\omega_1)=u\\left(R_0(W - \\omega_1)  + \\omega_1 \\exp(\\mu_1 + \\sigma_1 \\Phi^{-1}(q_1))\\right) \n",
    "\\end{align}\n",
    "\n",
    "is the ex-post utility of receiving an asset return from the $q_1'th$ percentile in the distribution of asset returns.  \n",
    "\n"
   ]
  },
  {
   "cell_type": "markdown",
   "metadata": {
    "slideshow": {
     "slide_type": "slide"
    }
   },
   "source": [
    "### Computing expected utiliy using Gauss-Legendre quadrature\n",
    "Using Gauss-Legendre quadrature we can then approximate $U(\\omega_1)$ as\n",
    "\n",
    "\\begin{align}\n",
    "U(\\omega_1)& \\approx \\sum_{j=1}^m 1/2 w^{[-1,1]}_j f((x^{[-1,1]}_j+1)/2;\\omega_1) \\nonumber \\\\\n",
    "& =  \\sum_{j=1}^m  w_j f(x_j;\\omega_1) \\nonumber \n",
    "\\end{align}\n",
    "\n",
    "where \n",
    "- $f(q_1;\\omega_1)=u\\left(R_0(W - \\omega_1)  + \\omega_1 \\exp(\\mu_1 + \\sigma_1 \\Phi^{-1}(q_1))\\right) $\n",
    "- $w_j=(b-a)/2*w_j^{[-1,1]}$ and $x_j=(x_j^{[-1,1]} + 1)(b-a)/2 +a $ are weights and nodes adjusted to the more general bounded interval $[a,b]$ with a=0 and b=1\n",
    "- $w_j^{[-1,1]}$  and $x_j^{[-1,1]}$ are Gauss-Legendre weights and nodes for integration on the interval $[-1,1]$. \n"
   ]
  },
  {
   "cell_type": "code",
   "execution_count": 3,
   "metadata": {
    "slideshow": {
     "slide_type": "slide"
    }
   },
   "outputs": [],
   "source": [
    "def quad(g, order=10, d=1, rule='gauss_legendre', a=0, b=1, output=True, true_val=None):\n",
    "    '''Compute the integral on [0, 1]^d using qudrature'''\n",
    "\n",
    "    # generate a d x N matrix of uniform uqdrature nodes where N=(order+1)**d\n",
    "    distribution = chaospy.Iid(chaospy.Uniform(a, b), d)\n",
    "    x, w = chaospy.generate_quadrature(order, distribution, rule, sparse=False)\n",
    "        \n",
    "    Qn = np.sum(g(x)*w)\n",
    "    \n",
    "    if output == True: \n",
    "        print('\\nResults from quadrature');\n",
    "        print('Order of polynomial : ', order);\n",
    "        print('Number of quadrature points : ', w.shape[0]);\n",
    "        print('Estimate           : ', Qn.round(10));\n",
    "        \n",
    "    if true_val!=None: \n",
    "        print('True value         : ', true_val)\n",
    "        print('Approximation error: ', (Qn-true_val).round(10))\n",
    "\n",
    "    return Qn\n"
   ]
  },
  {
   "cell_type": "markdown",
   "metadata": {
    "slideshow": {
     "slide_type": "slide"
    }
   },
   "source": [
    "### Monte Carlo\n",
    "Alternatively, we can use simple Monte Carlo integration to approximate $U(\\omega)$ \n",
    "\\begin{align}\n",
    "U(\\omega)& \\approx &1/m\\sum_{j=1}^m f(x^j; \\omega) \\nonumber\n",
    "\\end{align}\n",
    "where $x^j=(x^j_0 \\dots, x^j_{n-1})$ is $n-$vector of pseudo random draws from the uniform distribution. \n",
    "\n",
    "- Note for our one dimensional case with only one risky asset, we only need one random componet, so $x^j$ is a scalar\n",
    "\n",
    "- Very similar to Gauss-Legendre.. except that the $m$ weights are just w=1/m and nodes are replaced by $m$ draws from the uniform distribution with support $[0,1]^m$\n",
    "\n",
    "- We will look at the theoretical properties of this later\n",
    "\n",
    "\n"
   ]
  },
  {
   "cell_type": "code",
   "execution_count": 4,
   "metadata": {
    "slideshow": {
     "slide_type": "slide"
    }
   },
   "outputs": [],
   "source": [
    "def monte_carlo(g, N=1000, d=1, rule='random', a=0, b=1, output=True, true_val=None):\n",
    "    '''Compute the integral I=int_a^b g(x)dx on [a, b]^d using Monte Carlo with sample size N'''\n",
    "\n",
    "    x0=chaospy.generate_samples(order=N, domain=d, rule=rule)\n",
    "    w=1/N;\n",
    "    x=(b-a)*x0+a\n",
    "       \n",
    "    gx=g(x)\n",
    "    \n",
    "    Qn = np.sum(gx*w)\n",
    "    se_Qn=np.std(gx)/np.sqrt(N)\n",
    "    \n",
    "    if output == True:         \n",
    "        print('\\nResults from Monte Carlo integration');\n",
    "        print('Number of Monte Carlo draws   : ', N);\n",
    "        print('Estimate           : ', Qn.round(10));\n",
    "        print('Standard error     : ', se_Qn.round(10));\n",
    "    \n",
    "    if true_val!=None: \n",
    "        print('True value         : ', true_val)\n",
    "        print('Approximation error: ', (Qn-true_val).round(10))\n",
    "\n",
    "    return Qn, se_Qn"
   ]
  },
  {
   "cell_type": "markdown",
   "metadata": {
    "slideshow": {
     "slide_type": "slide"
    }
   },
   "source": [
    "### Numerical Example, $n=2$ \n",
    "Risk averse agent divide her wealth, $W$ between $n=2$ assets\n",
    "- Asset $i=0$ is a safe asset\n",
    "- Asset $i=1$ is a risky asset with higher return. \n",
    "\n",
    "\n",
    "Parameters are: \n",
    "\n",
    "- Initial wealth: $W=1$  \n",
    "- Risk aversion parameter: $\\gamma=2$\n",
    "- Mean returns: $E(Z)=(R_0,R_1)=(1.0,1.4)$\n",
    "- Variance on returns: $\\sigma^2_Z=(\\sigma^2_{Z_0},\\sigma^2_{Z_1})=(0, 1)$\n",
    "\n"
   ]
  },
  {
   "cell_type": "code",
   "execution_count": 5,
   "metadata": {
    "slideshow": {
     "slide_type": "slide"
    }
   },
   "outputs": [
    {
     "name": "stdout",
     "output_type": "stream",
     "text": [
      "\n",
      "Parameters\n",
      "*******************************\n",
      "nmu1              :  0.1303\n",
      "sigma1            :  0.6421\n",
      "Share in asset 1  :  0.5\n",
      "\n",
      "Expected return on asset 1\n",
      "*******************************\n",
      "\n",
      "Results from quadrature\n",
      "Order of polynomial :  99\n",
      "Number of quadrature points :  100\n",
      "Estimate           :  1.3998485712\n",
      "True value         :  1.4\n",
      "Approximation error:  -0.0001514288\n",
      "\n",
      "Results from Monte Carlo integration\n",
      "Number of Monte Carlo draws   :  100000\n",
      "Estimate           :  1.4018304233\n",
      "Standard error     :  0.0031425763\n",
      "True value         :  1.4\n",
      "Approximation error:  0.0018304233\n",
      "\n",
      "Expected utility\n",
      "*******************************\n",
      "\n",
      "Results from quadrature\n",
      "Order of polynomial :  99\n",
      "Number of quadrature points :  100\n",
      "Estimate           :  1.1054590663\n",
      "\n",
      "Results from Monte Carlo integration\n",
      "Number of Monte Carlo draws   :  100000\n",
      "Estimate           :  1.1055004565\n",
      "Standard error     :  0.0008451316\n"
     ]
    }
   ],
   "source": [
    "# Compute expected returns and expected utility for model with one risky asset and one safe asset\n",
    "\n",
    "# model parameters\n",
    "n_quad=99      # order of quadrture approximation - results in n_quad+1 nodes\n",
    "n_mc=100000      # number of monte carlo samlples\n",
    "W=1            # initial wealth \n",
    "gamma=2        # CRRA parameter\n",
    "omega1=.5      # portfolio allocation in asset 1\n",
    "R0=1.1;        # Safe return to asset 0\n",
    "R1=1.4         # Expected return to asset 1 \n",
    "sigma2_Z1=1**2 # Variance on return to asset 1\n",
    "\n",
    "# parameters in log-normal\n",
    "mu1=np.log(R1**2/((R1**2 + sigma2_Z1)**0.5))\n",
    "sigma1=np.log(1+(sigma2_Z1/R1**2))**0.5\n",
    "    \n",
    "# Z1_q: Asset return evaluated at quantile q\\in [0,1]\n",
    "Z1_q =  lambda q: np.exp(mu1+sigma1*scipy.stats.norm.ppf(q))\n",
    "\n",
    "# u_q utility evaluated at quantile q \\in [0,1]\n",
    "u_q  =  lambda q: u(gamma,  R0*(W-omega1) + omega1*Z1_q(q))\n",
    "\n",
    "print('\\nParameters\\n*******************************')\n",
    "print('nmu1              : ', mu1.round(4));\n",
    "print('sigma1            : ', sigma1.round(4));\n",
    "print('Share in asset 1  : ', omega1);\n",
    "\n",
    "print('\\nExpected return on asset 1\\n*******************************')\n",
    "EZ1_quad=quad(Z1_q, n_quad, d=1, a=0, b=1, rule='legendre', true_val=R1)\n",
    "EZ1_mc, se_EZ1_mc = monte_carlo(Z1_q, n_mc, d=1, a=0, b=1, rule='random', true_val=R1)\n",
    "\n",
    "# expected utility\n",
    "print('\\nExpected utility\\n*******************************')\n",
    "EZ1_quad=quad(u_q , n_quad, d=1, a=0, b=1, rule='legendre')\n",
    "EZ1_mc, se_EZ1_mc = monte_carlo(u_q , n_mc, d=1, a=0, b=1, rule='random')\n",
    "\n"
   ]
  },
  {
   "cell_type": "markdown",
   "metadata": {
    "slideshow": {
     "slide_type": "slide"
    }
   },
   "source": [
    "### Gauss-Legendre approximation of E(Z). \n",
    "\n",
    "-How many quadrature points are needed to give error less than $0.01$? \n",
    "\n",
    "<center><img src=\"img/E_Z.png\"  width=\"1500\">\n"
   ]
  },
  {
   "cell_type": "markdown",
   "metadata": {
    "slideshow": {
     "slide_type": "slide"
    }
   },
   "source": [
    "### Gauss-Legendre approximation of $E_m[U(\\omega_1=0.5)]$\n",
    "\n",
    "    \n",
    "- How does the non-linearity of the expected utility function affect the precision of the approximation? \n",
    "- Why is so few nodes needed for $\\gamma=1$?\n",
    "\n",
    "<center><img src=\"img/E_u_nodes.png\"  width=\"600\">\n",
    "    \n"
   ]
  },
  {
   "cell_type": "markdown",
   "metadata": {
    "slideshow": {
     "slide_type": "slide"
    }
   },
   "source": [
    "### Optimal porfolio, $\\omega_1^*=\\arg\\max_{\\omega_1}E[u(\\omega_1)]$\n",
    "- How does the optimal share in the risky asset $\\omega_1^*$ vary with risk aversion parameter $\\gamma$? \n",
    "- We will later use ***optimization methods*** to find $\\omega_1$\n",
    ".... but always good to visualize what you are trying to solve\n",
    "<center><img src=\"img/E_u_omega.png\"  width=\"600\">\n",
    "   "
   ]
  },
  {
   "cell_type": "markdown",
   "metadata": {
    "slideshow": {
     "slide_type": "slide"
    }
   },
   "source": [
    "# More on Numerical integration\n",
    "Before we move on to the case with multiple assets, we need to study a numerical integration in a bit more detail\n",
    "\n",
    "1. **Sumlation and Monte Carlo integration** (see MonteCarlo.ipynb)\n",
    "1. **Gaussian quadrature** (see MonteCarlo.ipynb)\n"
   ]
  },
  {
   "cell_type": "markdown",
   "metadata": {
    "slideshow": {
     "slide_type": "slide"
    }
   },
   "source": [
    "### The multivariate assets case\n",
    "For an independent log-normally distributed variable, we also make the change of variable  $Z_i(q_i)=\\exp(\\mu_i + \\sigma \\Phi^{-1}(q_i))$ to obtain \n",
    "\\begin{align}\n",
    "U(\\omega)&=E \\left\\{u\\left(( W - \\sum_{i=2}^n\\omega_i)Z_0(q_0)  + \\sum_{i=1}^n \\omega_i Z_i(q_i)\\right)\\right\\} \\nonumber \\\\\n",
    "&=\\int_0^1 \\dots \\int_0^1 \\left\\{u\\left(( W - \\sum_{i=2}^n\\omega_i)Z_0(q_0)  + \\sum_{i=1}^n \\omega_i Z_i(q_i)\\right)\\right\\}dq_0 \\dots dq_{n-1} \\nonumber \\\\\n",
    "&=\\int_{[0,1]^n} f(q;\\omega)dq  \\nonumber\n",
    "\\end{align}\n",
    "where $q=(q_0, \\dots, q_{n-1})$ the the vector of uniformly distributed quantiles in the asset return distribution and \n",
    "\\begin{align}\n",
    "f(q;\\omega)=u\\left(( W - \\sum_{i=2}^n\\omega_i)Z_0(q_0)  + \\sum_{i=1}^n \\omega_i Z_i(q_i)\\right)\n",
    "\\end{align}\n",
    "is the ex-post utility of receiving an asset return from the $q'th$ percentile in the distribution of asset returns.  \n",
    "\n"
   ]
  },
  {
   "cell_type": "markdown",
   "metadata": {
    "slideshow": {
     "slide_type": "slide"
    }
   },
   "source": [
    "### Using Gauss-Legendre quadrature we can then approximate $U(\\omega)$ as\n",
    "\\begin{eqnarray}\n",
    "U(\\omega)& \\approx &\\sum_{j_0=1}^{m_0} \\dots \\sum_{j_{n-1}=1}^{m_{n-1}}   w^0_{j_0}  \\dots w^{n-1}_{j_{n-1}}  f(x_{j_0}^{0},  \\dots, x^{n-1}_{j_{n-1}};\\omega)\n",
    "\\end{eqnarray}\n",
    "where \n",
    "\n",
    "- $w^i_{j_i}$  and $x^{i}_{j_{i}}$ are Gauss-Legendre weights and nodes for integration dimension $i$ (i.e. asset $i$) adjusted for integration over the interval $[0,1]$ rather than $[-1,1]$. \n",
    "- Since Gauss-Legendre is for integration over the interval $[0,1]$ rather than $[-1,1]$, we need to adjust weights $w^{[-1,1]}$ and nodes $x^{[-1,1]}$ for integration on $[a,b]=[0,1]$. \n",
    "- The relevant change of variable to the interval $[a,b]$ is $w=(b-a)/2*w^{[-1,1]}$ for the weights and $x=(x^{[-1,1]} + 1)(b-a)/2 +a $ for nodes. \n"
   ]
  },
  {
   "cell_type": "markdown",
   "metadata": {
    "slideshow": {
     "slide_type": "slide"
    }
   },
   "source": [
    "## Monte Carlo\n",
    "Alternatively, we can use simple Monte Carlo integration to approximate $U(\\omega)$ \n",
    "\\begin{align}\n",
    "U(\\omega)& \\approx &1/m\\sum_{j=1}^m f(x^j; \\omega) \\nonumber\n",
    "\\end{align}\n",
    "where $x^j=(x^j_0 \\dots, x^j_{n-1})$ is $n-$vector of pseudo random draws from the uniform distribution. \n",
    "\n",
    "- Note for our one dimensional case with only one risky asset, we only need one random componet, so $x^j$ is a scalar\n",
    "\n",
    "- Very similar to Gauss-Legendre.. except that the $m$ weights are just w=1/m and nodes are replaced by $m$ draws from the uniform distribution with support $[0,1]^m$\n",
    "\n",
    "- **BREAKS curse of dimensionality**: The error diminishes with a rate $1/\\sqrt{m}$ which is idenependent of the dimension of $x$ \n",
    "\n"
   ]
  },
  {
   "cell_type": "markdown",
   "metadata": {
    "slideshow": {
     "slide_type": "slide"
    }
   },
   "source": [
    "### Example: model with two risky assets \n",
    "Parameters:\n",
    "- Mean returns, $E(Z)=R=(R_0,R_2)=(1.1,1.4)'$\n",
    "- Variance on returns, $\\sigma^2_Z=(\\sigma^2_{Z_0},\\sigma^2_{Z_1})=(0.5,1)'$\n",
    "- With and without correlated returns, $Z_i$ between assets\n",
    "\n",
    "Here we need to do a 2 dimensional Gauss-Legendre quadrature. \n",
    "       \n"
   ]
  },
  {
   "cell_type": "code",
   "execution_count": 6,
   "metadata": {
    "slideshow": {
     "slide_type": "slide"
    }
   },
   "outputs": [
    {
     "name": "stdout",
     "output_type": "stream",
     "text": [
      "Number of assets: 7\n",
      "\n",
      "Parameters in distribution of log asset returns\n",
      "*************************************************\n",
      "Mean, mu:\n",
      "  [[0.2764]\n",
      " [0.1303]\n",
      " [0.1303]\n",
      " [0.1303]\n",
      " [0.1303]\n",
      " [0.1303]\n",
      " [0.1303]]\n",
      "Std. dev (log asset return), sigma:\n",
      "  [[0.3465]\n",
      " [0.6421]\n",
      " [0.6421]\n",
      " [0.6421]\n",
      " [0.6421]\n",
      " [0.6421]\n",
      " [0.6421]]\n",
      "Correlation martrix (log asset return), corr:\n",
      " [[1.  0.9 0.9 0.9 0.9 0.9 0.9]\n",
      " [0.9 1.  0.9 0.9 0.9 0.9 0.9]\n",
      " [0.9 0.9 1.  0.9 0.9 0.9 0.9]\n",
      " [0.9 0.9 0.9 1.  0.9 0.9 0.9]\n",
      " [0.9 0.9 0.9 0.9 1.  0.9 0.9]\n",
      " [0.9 0.9 0.9 0.9 0.9 1.  0.9]\n",
      " [0.9 0.9 0.9 0.9 0.9 0.9 1. ]]\n",
      "Covariance martrix, (log asset return), sigma2:\n",
      " [[0.12004804 0.20021547 0.20021547 0.20021547 0.20021547 0.20021547\n",
      "  0.20021547]\n",
      " [0.20021547 0.4122448  0.37102032 0.37102032 0.37102032 0.37102032\n",
      "  0.37102032]\n",
      " [0.20021547 0.37102032 0.4122448  0.37102032 0.37102032 0.37102032\n",
      "  0.37102032]\n",
      " [0.20021547 0.37102032 0.37102032 0.4122448  0.37102032 0.37102032\n",
      "  0.37102032]\n",
      " [0.20021547 0.37102032 0.37102032 0.37102032 0.4122448  0.37102032\n",
      "  0.37102032]\n",
      " [0.20021547 0.37102032 0.37102032 0.37102032 0.37102032 0.4122448\n",
      "  0.37102032]\n",
      " [0.20021547 0.37102032 0.37102032 0.37102032 0.37102032 0.37102032\n",
      "  0.4122448 ]]\n",
      "Cholesky matrix, (log asset return), L:\n",
      " [[0.3464795  0.         0.         0.         0.         0.\n",
      "  0.        ]\n",
      " [0.57785663 0.27986874 0.         0.         0.         0.\n",
      "  0.        ]\n",
      " [0.57785663 0.1325694  0.24647893 0.         0.         0.\n",
      "  0.        ]\n",
      " [0.57785663 0.1325694  0.07922537 0.23339924 0.         0.\n",
      "  0.        ]\n",
      " [0.57785663 0.1325694  0.07922537 0.05677279 0.22638917 0.\n",
      "  0.        ]\n",
      " [0.57785663 0.1325694  0.07922537 0.05677279 0.04429353 0.22201383\n",
      "  0.        ]\n",
      " [0.57785663 0.1325694  0.07922537 0.05677279 0.04429353 0.03632954\n",
      "  0.21902124]]\n",
      "consumption value of portfolio - at median return on all assets\n",
      " [[1.16482855]]\n",
      "utility value of portfolio  - at median return on all assets\n",
      " [[1.14150456]]\n",
      "Share in asset 1,..n,  :  [[0.14285714]\n",
      " [0.14285714]\n",
      " [0.14285714]\n",
      " [0.14285714]\n",
      " [0.14285714]\n",
      " [0.14285714]]\n",
      "\n",
      "Expected return on portfolio\n",
      "*******************************\n",
      "\n",
      "Results from quadrature\n",
      "Order of polynomial :  9\n",
      "Number of quadrature points :  10000000\n",
      "Estimate           :  1.0174938546\n",
      "\n",
      "Results from Monte Carlo integration\n",
      "Number of Monte Carlo draws   :  10000\n",
      "Estimate           :  1.0101961357\n",
      "Standard error     :  0.0059412679\n",
      "\n",
      "Expected utility\n",
      "*******************************\n",
      "\n",
      "Results from quadrature\n",
      "Order of polynomial :  9\n",
      "Number of quadrature points :  10000000\n",
      "Estimate           :  1.0174938546\n",
      "\n",
      "Results from Monte Carlo integration\n",
      "Number of Monte Carlo draws   :  10000\n",
      "Estimate           :  1.0300688758\n",
      "Standard error     :  0.0057525686\n"
     ]
    }
   ],
   "source": [
    "# Compute expected returns and expected utility for model with n>2 risky assets and one safe asset\n",
    "# model params and distribution of assets\n",
    "n_assets=7;    # Number of assets (Try up to 7 - after)\n",
    "gamma=2        # CRRA parameter\n",
    "W=1            # initial wealth \n",
    "R=np.ones((n_assets, 1))*1.4 # Expected return to assets i=0,..,n-1\n",
    "sigma_Z=np.ones((n_assets, 1))*1 # standard dev. on return to asset i=0,..,n-1\n",
    "sigma_Z[0]=0.5 # standard dev. on return to asset i=0,..,n-1\n",
    "c=0.9          # mutual corelation between random returns\n",
    "\n",
    "# parameters for montecarlo and quadrature\n",
    "n_quad=9       # order of quadrture approximation - results in n_quad+1 nodes for each asset\n",
    "n_mc=10000     # number of monte carlo samlples\n",
    "\n",
    "print('Number of assets:', n_assets)\n",
    "\n",
    "# portfolio allocation in asset 1,..,n-1\n",
    "omega=np.ones((n_assets-1, 1))/n_assets \n",
    "\n",
    "print('\\nParameters in distribution of log asset returns\\n*************************************************')\n",
    "# parameters in (marginal) log-normal\n",
    "mu=np.log(R**2/((R**2 + sigma_Z**2)**0.5))\n",
    "mu.shape=(n_assets, 1)\n",
    "print('Mean, mu:\\n ', mu.round(4));\n",
    "\n",
    "sigma=np.log(1+(sigma_Z/R)**2)**0.5;\n",
    "sigma.shape=(n_assets, 1)\n",
    "print('Std. dev (log asset return), sigma:\\n ', sigma.round(4));\n",
    "\n",
    "# build covariance matrix\n",
    "corr=(1-c)*np.identity(n_assets) + c*np.ones((n_assets,n_assets)); # correlation martrix\n",
    "print('Correlation martrix (log asset return), corr:\\n',corr)\n",
    "\n",
    "sigma2=sigma*corr*sigma.T                         # covariance martrix\n",
    "print('Covariance martrix, (log asset return), sigma2:\\n',sigma2)\n",
    "\n",
    "# Lower triangular cholesky matrix, with property: L @ L.T=sigma2 (i.e. \"square root\" of matrix)\n",
    "L=np.linalg.cholesky(sigma2)\n",
    "print('Cholesky matrix, (log asset return), L:\\n',L)\n",
    "\n",
    "# Z1_q: Asset return evaluated at quantile q\\in [0,1]\n",
    "Z_q =  lambda q: np.exp(mu+L @ scipy.stats.norm.ppf(q))\n",
    "\n",
    "def cv_portfolio(Z_q, q, omega):\n",
    "    # output: \n",
    "    # cv: consumption value of porfolio (1 x m)\n",
    "    # inputs: \n",
    "    # Z_q: n_asset x m\n",
    "    # omega: n_asset-1 x 1, portfolio share in asset 1,..,n-1\n",
    "    \n",
    "    omega=np.append(W-np.sum(omega), omega)\n",
    "    omega.shape=(len(omega), 1) # n_assets x 1 \n",
    "    cv=omega.T@  Z_q(q) \n",
    "    return cv\n",
    "\n",
    "def u_portfolio(Z_q, q, omega, gamma):\n",
    "    c=cv_portfolio(Z_q, q, omega)\n",
    "    return u(gamma, c)\n",
    "\n",
    "q_median=np.ones((n_assets,1))*.5\n",
    "\n",
    "print('consumption value of portfolio - at median return on all assets\\n', cv_portfolio(Z_q, q_median, omega))\n",
    "print('utility value of portfolio  - at median return on all assets\\n', u_portfolio(Z_q, q_median, omega, gamma))\n",
    "\n",
    "# u_q utility evaluated at quantile q \\in [0,1]\n",
    "cv_q  =  lambda q: u_portfolio(Z_q, q, omega, gamma);\n",
    "u_q  =  lambda q: u_portfolio(Z_q, q, omega, gamma);\n",
    "\n",
    "print('Share in asset 1,..n,  : ', omega);\n",
    "\n",
    "print('\\nExpected return on portfolio\\n*******************************')\n",
    "EZ1_quad=quad(cv_q, n_quad, d=n_assets, a=0, b=1, rule='legendre')\n",
    "EZ1_mc, se_EZ1_mc = monte_carlo(cv_q, n_mc, d=n_assets, a=0, b=1, rule='random')\n",
    "\n",
    "# expected utility\n",
    "print('\\nExpected utility\\n*******************************')\n",
    "EZ1_quad=quad(u_q , n_quad, d=n_assets, a=0, b=1, rule='legendre')\n",
    "EZ1_mc, se_EZ1_mc = monte_carlo(u_q , n_mc, d=n_assets, a=0, b=1, rule='random')"
   ]
  }
 ],
 "metadata": {
  "celltoolbar": "Slideshow",
  "filename": "lecture10part1.rst",
  "kernelspec": {
   "display_name": "Python 3 (ipykernel)",
   "language": "python",
   "name": "python3"
  },
  "language_info": {
   "codemirror_mode": {
    "name": "ipython",
    "version": 3
   },
   "file_extension": ".py",
   "mimetype": "text/x-python",
   "name": "python",
   "nbconvert_exporter": "python",
   "pygments_lexer": "ipython3",
   "version": "3.9.12"
  },
  "title": "Random numbers and simulations, Monte Carlo and integration in Python"
 },
 "nbformat": 4,
 "nbformat_minor": 2
}
