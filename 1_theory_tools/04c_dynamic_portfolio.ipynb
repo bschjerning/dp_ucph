{
 "cells": [
  {
   "cell_type": "markdown",
   "metadata": {
    "slideshow": {
     "slide_type": "slide"
    }
   },
   "source": [
    "#  Dynamic Portfolio Choice Model #4c\n",
    "\n",
    "###  Dynamic models with multidimensional integrals\n",
    "\n",
    "**Readings:** \n",
    "- 📖 Cocco, Gomes, and Maenhout (2005) “Consumption and Portfolio Choice over the Life Cycle”, *Review of Financial Studies*, Vol. 18(2), pp. 491-533.\n",
    "\n",
    "by Bertel Schjerning\n",
    "\n",
    "University of Copenhagen\n"
   ]
  },
  {
   "cell_type": "markdown",
   "metadata": {
    "slideshow": {
     "slide_type": "slide"
    }
   },
   "source": [
    "## Dynamic Portfolio Choice Model\n",
    "\n",
    "- An individual or household **allocates resources each period** between:\n",
    "  - **Consumption**\n",
    "  - **Savings**, which are invested in a **portfolio of risky and risk-free assets**.\n",
    "\n",
    "- The household receives **stochastic labor income** $y_t$ at the beginning of each period:\n",
    "  - **Income is stochastic** – observed *before* making consumption and portfolio decisions.\n",
    "  - **Asset returns are stochastic** – observed *after* decisions are made.\n",
    "  - **Borrowing and shorting are not allowed**.\n",
    "\n",
    "- The objective is to **maximize the expected lifetime utility of consumption**  \n",
    "  subject to **income and asset return uncertainty**.\n",
    "\n",
    "- We now formalize the primitives of the model within the general MDP framework:  \n",
    "  $$\n",
    "  V_t(s_t) = \\max_{d_t \\in D(s_t)} \\left[ u_t(s_t, d_t) + \\beta \\int V_{t+1}(s_{t+1}) p(ds_{t+1} \\mid s_t, d_t) \\right]\n",
    "  $$"
   ]
  },
  {
   "cell_type": "markdown",
   "metadata": {
    "slideshow": {
     "slide_type": "slide"
    }
   },
   "source": [
    "## States and Decisions\n",
    "\n",
    "- **States:**  \n",
    "  - Single state variable, **cash on hand**: $s_t = x_t = A_t + y_t$\n",
    "    - $x_t$ is the **total available resources** at the beginning of period $t$.\n",
    "    - $y_t$ is **stochastic labor income**, observed **before** consumption and portfolio choices.\n",
    "    - $A_t$ represents **financial assets before income is realized**.\n",
    "    - **Borrowing is not allowed**: $A_t \\ge0$.\n",
    "\n",
    "- **Choices:**  \n",
    "  - **Consumption:** $c_t$, with $c_t \\in [0, x_t]$.\n",
    "  - **Portfolio allocation:** $\\boldsymbol{w}_t = (w_t^{(1)}, ..., w_t^{(N)}) \\in W$:\n",
    "    - $\\{w_t^{(i)}\\}_{i=1}^{N}$ are the **portfolio weights on the $N$ risky assets** (e.g., stocks, real estate, government bonds).\n",
    "    - The **portfolio choice set** $W$ is defined as:\n",
    "      $$\n",
    "      W = \\left\\{ \\boldsymbol{w}_t = (w_t^{(1)}, \\dots, w_t^{(N)}) \\in \\mathbb{R}^{N} \n",
    "      \\mid \\sum_{i=1}^{N} w_t^{(i)} = 1, \\quad w_t^{(i)} \\geq 0 \\right\\}\n",
    "      $$\n",
    "      ensuring **no short-selling**.\n",
    "  - **Full decision set:**  \n",
    "    $$\n",
    "    d_t = (c_t, \\boldsymbol{w}_t)  \\in D(s_t) = [0, x_t] \\times W\n",
    "    $$\n"
   ]
  },
  {
   "cell_type": "markdown",
   "metadata": {
    "slideshow": {
     "slide_type": "slide"
    }
   },
   "source": [
    "## Preferences  \n",
    "- **Discount factor:** We assume a time-constant discount factor $\\beta \\in (0,1)$.  \n",
    "- **Instantaneous utility:**  \n",
    "    $$\n",
    "    u_t(s_t, d_t) =   \n",
    "    u(c_t) = \\begin{cases} \n",
    "    \\frac{c_t^{1 - \\eta} - 1}{1 - \\eta}, & \\text{if } \\eta \\geq 0, \\eta \\neq 1, \\\\ \n",
    "    \\ln(c_t), & \\text{if } \\eta = 1.\n",
    "    \\end{cases}\n",
    "    $$\n",
    "    where $\\eta$ controls the degree of **risk aversion**."
   ]
  },
  {
   "cell_type": "markdown",
   "metadata": {
    "slideshow": {
     "slide_type": "slide"
    }
   },
   "source": [
    "## State Transition  \n",
    "- **Next-period cash on hand** $ x_{t+1}$ evolves according to:\n",
    "\n",
    "  $$\n",
    "  x_{t+1} = (x_t - c_t) R_{t+1} + y_{t+1}\n",
    "  $$\n",
    "  \n",
    "  Given portfolio weights $ \\boldsymbol{w}_t $, the portfolio return is:\n",
    "  $$\n",
    "  R_{t+1} = \\sum_{i=1}^{N} w_t^{(i)} R_{t+1}^{(i)}\n",
    "  $$\n",
    "  where:\n",
    "  - $ \\boldsymbol{R}_{t+1} = (R_{t+1}^{(1)}, ..., R_{t+1}^{(N)})^\\top $ are the **(risky) asset returns**.\n",
    "\n",
    "- **Joint Distribution of Log-Income and Asset Returns:**\n",
    "  $$\n",
    "  \\begin{bmatrix} \\ln y_{t+1} \\\\ \\boldsymbol{R}_{t+1} \\end{bmatrix} \n",
    "  \\sim \\mathcal{N} \\left( \n",
    "  \\begin{bmatrix} \\mu_y \\\\ \\boldsymbol{\\mu}_R \\end{bmatrix}, \n",
    "  \\boldsymbol{\\Sigma}\n",
    "  \\right)\n",
    "  $$\n",
    "  - $ \\mu_y $ is the (scalar) **expected value of log-income**.\n",
    "  - $ \\boldsymbol{\\mu}_R $ is the $N \\times 1$ **expected return vector of risky assets**.\n",
    "  - The $(N+1) \\times (N+1) $ **covariance matrix** $ \\boldsymbol{\\Sigma} $ takes the form:\n",
    "    $$\n",
    "\\boldsymbol{\\Sigma} =\n",
    "\\begin{bmatrix}\n",
    "\\sigma_y^2 & \\boldsymbol{\\rho}_y^\\top \\boldsymbol{\\Sigma}_R \\\\\n",
    "\\boldsymbol{\\Sigma}_R \\boldsymbol{\\rho}_y & \\boldsymbol{\\Sigma}_R\n",
    "\\end{bmatrix}\n",
    "    $$\n",
    "    - $ \\sigma_y^2 $ is the (scalar) **variance of log-income**.\n",
    "    - $ \\boldsymbol{\\Sigma}_R$ is the $N \\times N$ **covariance matrix of risky asset returns**.\n",
    "    - $ \\boldsymbol{\\rho}_y $ is the $N \\times 1$ **correlation vector between log-income and risky asset returns**."
   ]
  },
  {
   "cell_type": "markdown",
   "metadata": {
    "slideshow": {
     "slide_type": "slide"
    }
   },
   "source": [
    "## The Bellman Equation for the Stochastic Problem\n",
    "\n",
    "- Given our specification of **states, choices, preferences, and transitions**, the Bellman equation for the **dynamic portfolio choice model** is:\n",
    "  $$\n",
    "  V_t(x_t) = \\max_{c_t \\in [0, x_t], \\, \\boldsymbol{w}_t \\in W} \\left[ u(c_t) + \\beta \\mathbb{E} \\left[ V_{t+1}(x_{t+1}) \\mid x_t, c_t, \\boldsymbol{w}_t \\right] \\right] \n",
    "  $$\n",
    "\n",
    "- **The expected value function** conditional on states and decisions is given by:\n",
    "  $$\n",
    "  \\mathbb{E} \\left[ V_{t+1}(x_{t+1}) \\mid x_t, c_t, \\boldsymbol{w}_t \\right]\n",
    "  = \\int_{-\\infty}^{\\infty} \\int_{\\mathbb{R}^N} \n",
    "  V_{t+1} \\left( x_{t+1} \\right) g(\\ln y', \\boldsymbol{R}') d\\ln y' d\\boldsymbol{R}'\n",
    "  $$\n",
    "  $$\n",
    "  = \\int_{-\\infty}^{\\infty} \\int_{\\mathbb{R}^N} \n",
    "  V_{t+1} \\left( (x_t - c_t) \\left(\\sum_{i=1}^{N} w_t^{(i)} R'^{(i)}\\right) + \\exp(\\ln y') \\right) \n",
    "  g(\\ln y', \\boldsymbol{R}') d\\ln y' d\\boldsymbol{R}'\n",
    "  $$\n",
    "\n",
    "- Here, $ g(\\ln y', \\boldsymbol{R}') $ is the probability density function of a **multivariate normal distribution** with mean $ \\boldsymbol{\\mu}$ and covariance  $\\boldsymbol{\\Sigma} $."
   ]
  },
  {
   "cell_type": "markdown",
   "metadata": {
    "slideshow": {
     "slide_type": "slide"
    }
   },
   "source": [
    "## Numerical Implementation of the Bellman Operator\n",
    "1. **Paramaters** indexing spaces, utiliy, transition, and shocks\n",
    "1. **Functional forms** utility, portfolio returns, state transition\n",
    "1. **Value function interpolation:** Use linear interpolation on a fixed grid over the state $x_t$.\n",
    "1. **Expectations:** Approximate the multidimensional integral using Monte Carlo and quadrature.\n",
    "1. **Continuous choices:** Solve for optimal decisions using gradient-based optimization\n",
    "\n",
    "I have structure the code as part of the library lib - we will go though each bit peace by piece.\n",
    "\n",
    "```\n",
    "/lib/\n",
    "│── __init__.py\n",
    "│── portfolio_dp.py   # Contains PortfolioChoiceModel (model class) and some helper rutines\n",
    "│── dpsolver.py       # VFI functions (dpsolver)\n",
    "```\n"
   ]
  },
  {
   "cell_type": "markdown",
   "metadata": {
    "slideshow": {
     "slide_type": "slide"
    }
   },
   "source": [
    "### 1. Random draws and quadrature points for integration"
   ]
  },
  {
   "cell_type": "code",
   "execution_count": 1,
   "metadata": {},
   "outputs": [],
   "source": [
    "import chaospy\n",
    "def generate_draws(n=3, d=2, rule=\"random\"):\n",
    "    '''Generate draws for income and asset returns\n",
    "    Parameters:\n",
    "        n: number of draws (scalar)\n",
    "        d: number of dimensions (scalar)\n",
    "        rule: quadrature rule for income and asset returns\n",
    "            (str) \"legendre\", \"random\", \"halton\", \"sobol\"\n",
    "    Returns:\n",
    "        w: weights for quadrature (1 x N) or weight w=1/n for random draws (scalar)\n",
    "        x: draws for income and asset returns (d x n)\n",
    "        for muldimensional case, quadrature nodes are tensor product of 1D nodes\n",
    "        with int(n**(1/d)) nodes in each dimension\n",
    "    '''\n",
    "    distribution = chaospy.Iid(chaospy.Uniform(0, 1), d)\n",
    "    if rule == 'legendre':\n",
    "        order = int(n**(1/d)) - 1\n",
    "        x, w = chaospy.generate_quadrature(order, distribution, rule=rule, sparse=False)\n",
    "    else:\n",
    "        x = chaospy.generate_samples(n, domain=d, rule=rule)  \n",
    "        w = np.full((1, x.shape[1]), 1/x.shape[1])  # Equal weight for Monte Carlo\n",
    "    return w, x"
   ]
  },
  {
   "cell_type": "markdown",
   "metadata": {
    "slideshow": {
     "slide_type": "slide"
    }
   },
   "source": [
    "### 2. Inverse Transform Sampling for Multivariate Normal"
   ]
  },
  {
   "cell_type": "code",
   "execution_count": 2,
   "metadata": {},
   "outputs": [],
   "source": [
    "import numpy as np\n",
    "from scipy.stats import norm  \n",
    "def inverse_multinormal(u, mu=None, Sigma=None):\n",
    "    '''Inverse transform sampling for multivariate normal\n",
    "    Parameters:\n",
    "        u: uniform random numbers (d x n)\n",
    "        mu: mean vector (d x 1)\n",
    "        Sigma: covariance matrix (d x d)\n",
    "    Returns:\n",
    "        x: draws from multivariate normal (d x n) with x~N(mu, Sigma)\n",
    "    '''\n",
    "    x = norm.ppf(u)  # inverse cdf of standard normal\n",
    "    if Sigma is not None:\n",
    "        L = np.linalg.cholesky(Sigma)  \n",
    "        x = L @ x # \n",
    "    if mu is not None:\n",
    "        mu = np.array(mu).reshape(-1,1)\n",
    "        x += mu\n",
    "    return x"
   ]
  },
  {
   "cell_type": "markdown",
   "metadata": {
    "slideshow": {
     "slide_type": "slide"
    }
   },
   "source": [
    "### 2. Routine to build simple covariance matrix $\\Sigma$ \n",
    "- Based on \n",
    "    - vector std deviations $\\sigma=(\\sigma_1 \\dots \\sigma_d)$\n",
    "    - mutual correlation between all variables c"
   ]
  },
  {
   "cell_type": "code",
   "execution_count": 3,
   "metadata": {},
   "outputs": [
    {
     "name": "stdout",
     "output_type": "stream",
     "text": [
      "[[1.  1.  1.5]\n",
      " [1.  4.  3. ]\n",
      " [1.5 3.  9. ]]\n"
     ]
    }
   ],
   "source": [
    "def build_sigma(sigma = [1,.1], c=0): \n",
    "    '''build d-dimensional (dxd) covariance matrix Sigma with correlation c and std deviations sigma\n",
    "    Parameters:\n",
    "        sigma: list of std deviations for d random variables\n",
    "        c: correlation coefficient between random variables (default=0) can only create negaive correlation for d=2'''\n",
    "    sigma=np.array(sigma).reshape(-1,1); \n",
    "    d=len(sigma);\n",
    "    if (c<0.0) and not (d==2):\n",
    "        raise RuntimeError('build_sigma can only create negaive correlation for d=2')\n",
    "    corr=(1-c)*np.identity(d) + c*np.ones((d,d)); # correlation martrix \n",
    "    Sigma=sigma*corr*sigma.T # Covariance matrix  \n",
    "    return Sigma\n",
    "\n",
    "# Usage: \n",
    "Sigma_R=build_sigma(sigma=[1,2,3],c=.5)\n",
    "print(Sigma_R)"
   ]
  },
  {
   "cell_type": "markdown",
   "metadata": {
    "slideshow": {
     "slide_type": "slide"
    }
   },
   "source": [
    "### 3. Initalize Portfolio Choice Model"
   ]
  },
  {
   "cell_type": "code",
   "execution_count": 4,
   "metadata": {},
   "outputs": [],
   "source": [
    "class PortfolioChoiceModel:\n",
    "    '''Dynamic portfolio choice model with log-normal income and multiple assets'''\n",
    "    \n",
    "    def __init__(self, beta=0.96, gamma=2, mu_y=0, sigma_y=0.1,\n",
    "                 mu_R=[1.05], Sigma_R=None, rho_y=None, \n",
    "                 bnd_x=[0.1, 10], n_x=50,  n_rand=100, integration_rule=\"random\"):\n",
    "\n",
    "        self.beta = beta   \n",
    "        self.gamma = gamma  \n",
    "        self.mu_y = mu_y    \n",
    "        self.sigma_y = sigma_y  \n",
    "\n",
    "        self.N = len(mu_R)  \n",
    "        self.n_choices = self.N + 1  \n",
    "        self.mu_R = np.array(mu_R).reshape(self.N, 1)\n",
    "        self.Sigma_R = Sigma_R if Sigma_R is not None else np.eye(self.N)  \n",
    "        self.rho_y = rho_y if rho_y is not None else np.zeros((self.N,1))  \n",
    "\n",
    "        # State space\n",
    "        self.bnd_x = bnd_x  \n",
    "        self.n_x = n_x  \n",
    "        self.n_rand = n_rand  \n",
    "        self.x0 = np.linspace(bnd_x[0], bnd_x[1], n_x).reshape(n_x, 1)\n",
    "\n",
    "        # Covariance matrix\n",
    "        self.mu = np.vstack([[self.mu_y], self.mu_R])  \n",
    "        self.Sigma = np.block([\n",
    "            [self.sigma_y**2, self.rho_y.T @ self.Sigma_R],\n",
    "            [self.Sigma_R @ self.rho_y, self.Sigma_R]\n",
    "        ])  \n",
    "\n",
    "        # Draws for income and returns\n",
    "        self.w, self.u = generate_draws(n_rand, self.N+1, rule=integration_rule)\n",
    "        x = inverse_multinormal(self.u, self.mu, self.Sigma)\n",
    "        self.y = np.exp(x[0,:]).reshape(1,-1)  \n",
    "        self.R = x[1:,:]"
   ]
  },
  {
   "cell_type": "markdown",
   "metadata": {
    "slideshow": {
     "slide_type": "slide"
    }
   },
   "source": [
    "### 5. string representation to the class"
   ]
  },
  {
   "cell_type": "code",
   "execution_count": 5,
   "metadata": {},
   "outputs": [],
   "source": [
    "import numpy as np\n",
    "np.set_printoptions(precision=5, suppress=True)\n",
    "\n",
    "def __str__(self):\n",
    "    '''String representation of the PortfolioChoiceModel'''\n",
    "\n",
    "    summary = f\"\"\"\n",
    "Model from portfolio class with attributes:\n",
    "------------------------------------------------------------\n",
    "Discount factor, beta                   = {self.beta}\n",
    "CRRA utility parameter, gamma           = {self.gamma}\n",
    "Mean log(income), mu_y                  = {self.mu_y}\n",
    "Std. dev. of log(income), sigma_y       = {self.sigma_y}\n",
    "Mean income, E(y) = exp(mu_y + sigma_y^2/2) = {np.exp(self.mu_y + self.sigma_y**2/2):.5f}\n",
    "Std. dev. of income, std(y)             = {np.sqrt((np.exp(self.sigma_y**2)-1)*np.exp(2*self.mu_y+self.sigma_y**2)):.5f}\n",
    "Number of assets, N                     = {self.N}\n",
    "Mean return on assets, mu_R.T            = {np.array2string(self.mu_R.T, separator=\", \")}\n",
    "Covariance matrix of returns, Sigma_R   =\n",
    "{np.array2string(self.Sigma_R, precision=5, separator=\", \")}\n",
    "Correlation vector (log income and asset return), rho_y.T =\n",
    "{np.array2string(self.rho_y.T, precision=5, separator=\", \")}\n",
    "Covariance matrix, Sigma                =\n",
    "{np.array2string(self.Sigma, precision=5, separator=\", \")}\n",
    "Cash-on-hand bounds, bnd_x              = {self.bnd_x}\n",
    "Number of grid points for cash on hand, n_x = {self.n_x}\n",
    "Number of quadrature points for income and asset returns, n_rand = {self.n_rand}\n",
    "Income draws, y.shape                   = {self.y.shape}\n",
    "Asset return draws, R.shape              = {self.R.shape}\n",
    "\n",
    "Model id = {hex(id(self))}\n",
    "\"\"\"\n",
    "    return summary.strip()\n",
    "\n",
    "PortfolioChoiceModel.__str__ = __str__  # Attach method to class"
   ]
  },
  {
   "cell_type": "markdown",
   "metadata": {
    "slideshow": {
     "slide_type": "slide"
    }
   },
   "source": [
    "### Create model instance and print it's string representation"
   ]
  },
  {
   "cell_type": "code",
   "execution_count": 6,
   "metadata": {},
   "outputs": [
    {
     "name": "stdout",
     "output_type": "stream",
     "text": [
      "Model from portfolio class with attributes:\n",
      "------------------------------------------------------------\n",
      "Discount factor, beta                   = 0.9\n",
      "CRRA utility parameter, gamma           = 2\n",
      "Mean log(income), mu_y                  = 0\n",
      "Std. dev. of log(income), sigma_y       = 0.1\n",
      "Mean income, E(y) = exp(mu_y + sigma_y^2/2) = 1.00501\n",
      "Std. dev. of income, std(y)             = 0.10075\n",
      "Number of assets, N                     = 2\n",
      "Mean return on assets, mu_R.T            = [[1.02, 1.04]]\n",
      "Covariance matrix of returns, Sigma_R   =\n",
      "[[0.01, 0.  ],\n",
      " [0.  , 0.04]]\n",
      "Correlation vector (log income and asset return), rho_y.T =\n",
      "[[0., 0.]]\n",
      "Covariance matrix, Sigma                =\n",
      "[[0.01, 0.  , 0.  ],\n",
      " [0.  , 0.01, 0.  ],\n",
      " [0.  , 0.  , 0.04]]\n",
      "Cash-on-hand bounds, bnd_x              = [0.1, 10]\n",
      "Number of grid points for cash on hand, n_x = 100\n",
      "Number of quadrature points for income and asset returns, n_rand = 100\n",
      "Income draws, y.shape                   = (1, 100)\n",
      "Asset return draws, R.shape              = (2, 100)\n",
      "\n",
      "Model id = 0x1172188f0\n"
     ]
    }
   ],
   "source": [
    "N=2\n",
    "mu_R= 1+ np.linspace(0.02,0.04, N)\n",
    "sigma=np.linspace(0.1,0.2, N)\n",
    "Sigma_R=build_sigma(sigma,c=0)\n",
    "rho_y = np.zeros((N,1))\n",
    "m1 = PortfolioChoiceModel(beta=0.90, rho_y=rho_y, \n",
    "                          mu_R=mu_R, Sigma_R=Sigma_R, \n",
    "                          n_x=100, n_rand=100, integration_rule=\"sobol\", gamma=2)\n",
    "print(m1)"
   ]
  },
  {
   "cell_type": "markdown",
   "metadata": {
    "slideshow": {
     "slide_type": "slide"
    }
   },
   "source": [
    "### 6. CRRA utility function\n",
    "$$\n",
    "u_t(s_t, d_t) =   \n",
    "u(c_t) = \\begin{cases} \n",
    "\\frac{c_t^{1 - \\eta} - 1}{1 - \\eta}, & \\text{if } \\eta \\geq 0, \\eta \\neq 1, \\\\ \n",
    "\\ln(c_t), & \\text{if } \\eta = 1.\n",
    "\\end{cases}\n",
    "$$\n"
   ]
  },
  {
   "cell_type": "code",
   "execution_count": 7,
   "metadata": {},
   "outputs": [],
   "source": [
    "def utility(self, c): \n",
    "    '''CRRA utility function'''\n",
    "    if self.gamma!=1:\n",
    "        return (c**(1-self.gamma)-1)/(1-self.gamma)+1\n",
    "    else:\n",
    "        return np.log(c)+1    \n",
    "PortfolioChoiceModel.utility = utility # Add the crra utility function to the class"
   ]
  },
  {
   "cell_type": "markdown",
   "metadata": {
    "slideshow": {
     "slide_type": "slide"
    }
   },
   "source": [
    "### 7. Portfolio returns\n",
    "Given a $N \\times 1$ vector of portfolio weights $ \\boldsymbol{w}_t $ and $n_{R} \\times N$ matrix of random asset returns $R$, we can compute portfolio returns as\n",
    "  $$\n",
    "  R_{t+1} = \\boldsymbol{w}'\\boldsymbol{R_{t+1}}\n",
    "  $$"
   ]
  },
  {
   "cell_type": "code",
   "execution_count": 8,
   "metadata": {},
   "outputs": [
    {
     "name": "stdout",
     "output_type": "stream",
     "text": [
      "Shape of portfolio returns, R: (1, 100)\n"
     ]
    }
   ],
   "source": [
    "# %% Returns\n",
    "def returns(self, w):\n",
    "    '''Compute portfolio returns for a given choice of weights w'''\n",
    "    \n",
    "    # Ensure w is a column vector (N x 1)\n",
    "    w = np.array(w).reshape(self.N, 1)  # Portfolio weights (N x 1)\n",
    "\n",
    "    # Compute portfolio return: R_t = w' * R_t+1\n",
    "    R_portfolio = w.T @ self.R  # Shape: (1 x n_rand)\n",
    "\n",
    "    return R_portfolio\n",
    "PortfolioChoiceModel.returns = returns # Add the returns function to the class\n",
    "\n",
    "# Test usage: compute returns for portfolio with equal weights \n",
    "R=m1.returns(np.ones((m1.N,1))/m1.N)\n",
    "print('Shape of portfolio returns, R:', R.shape)"
   ]
  },
  {
   "cell_type": "markdown",
   "metadata": {
    "slideshow": {
     "slide_type": "slide"
    }
   },
   "source": [
    "### 8. State transition\n",
    "**Next-period cash on hand** $ x_{t+1}$ evolves according to:\n",
    "\n",
    "  $$\n",
    "  x_{t+1} = (x_t - c_t) R_{t+1} + y_{t+1}\n",
    "  $$\n",
    "  "
   ]
  },
  {
   "cell_type": "code",
   "execution_count": 9,
   "metadata": {},
   "outputs": [],
   "source": [
    "def transition(self, x, c, w):\n",
    "    '''Compute next-period cash-on-hand x_{t+1} given x_t, c_t, and portfolio choice w_t'''\n",
    "    \n",
    "    # Ensure inputs are in correct shape\n",
    "    x = np.array(x).reshape(-1, 1)  # Reshape x to (n_x,1) for vectorized computation\n",
    "    c = np.array(c).reshape(-1, 1)  # Reshape c to (n_x,1)\n",
    "    \n",
    "    # Compute portfolio returns for given weights w (1 x n_rand)\n",
    "    R_next = self.returns(w)  \n",
    "    \n",
    "    # Compute next-period cash-on-hand for all Monte Carlo draws (n_x x n_rand)\n",
    "    x_next = (x - c) @ R_next + self.y  # Broadcasting ensures correct shapes\n",
    "    return x_next  # Shape: (n_x, n_rand)\n",
    "\n",
    "PortfolioChoiceModel.transition = transition # Add the transition function to the class"
   ]
  },
  {
   "cell_type": "markdown",
   "metadata": {
    "slideshow": {
     "slide_type": "slide"
    }
   },
   "source": [
    "### 10. Choice specific value function\n",
    "$$\n",
    "v(x_t, c_t, \\boldsymbol{w_t})=u(c_t) + \\beta \\int_{-\\infty}^{\\infty} \\int_{\\mathbb{R}^N} \n",
    "  V_{t+1} \\left( x_{t+1} \\right) g(\\ln y', \\boldsymbol{R}') d\\ln y' d\\boldsymbol{R}'\n",
    "$$"
   ]
  },
  {
   "cell_type": "code",
   "execution_count": 10,
   "metadata": {},
   "outputs": [],
   "source": [
    "def vf(self, choices, interpV):\n",
    "    '''Compute the value function for given choices (c, w) and interpolated value function'''\n",
    "    \n",
    "    # Parse choices\n",
    "    c = choices[0]  # Consumption choice (scalar)\n",
    "    w = choices[1:]  # Portfolio allocation (vector)\n",
    "\n",
    "    # Compute next-period cash-on-hand\n",
    "    x_next = self.transition(self.x0, c, w)  # Shape: (n_x, n_rand)\n",
    "\n",
    "    # Compute expected future value by taking expectation over next-period states\n",
    "    EV = np.sum(self.w * interpV(x_next), axis=1, keepdims=True)  # Shape: (n_x, 1)\n",
    "\n",
    "    # Compute total value function\n",
    "    return self.utility(c) + self.beta * EV  # Shape: (n_x, 1)\n",
    "PortfolioChoiceModel.vf = vf # Add the vf function to the class\n"
   ]
  },
  {
   "cell_type": "markdown",
   "metadata": {
    "slideshow": {
     "slide_type": "slide"
    }
   },
   "source": [
    "### 10. Bellman equation - solving constrained optimization problmem\n",
    "$$\n",
    "V_t(x_t) = \\max_{c_t \\in [0, x_t], \\, \\boldsymbol{w}_t \\in W} \n",
    "\\left[ v(x_t, c_t, \\boldsymbol{w_t})\n",
    "\\right] \n",
    "  $$\n"
   ]
  },
  {
   "cell_type": "code",
   "execution_count": 11,
   "metadata": {},
   "outputs": [],
   "source": [
    "from scipy.optimize import minimize\n",
    "from scipy import interpolate # Interpolation routines\n",
    "def bellman(self, V0):\n",
    "    '''Bellman operator: Computes updated value function and optimal policy choices'''    \n",
    "    # Create interpolated value function from V0\n",
    "    # interpV = interpolate.interp1d(self.x0[:, 0], V0, bounds_error=False, kind='linear', fill_value='extrapolate')\n",
    "    interpV = interpolate.interp1d(self.x0[:, 0], V0, kind='cubic', bounds_error=False, fill_value='extrapolate')\n",
    "\n",
    "    # Initialize storage for new value function and policy choices\n",
    "    V1 = np.zeros_like(V0)  # New value function\n",
    "    policy = np.zeros((self.n_x, 1+ self.N))  # Optimal policy function (0: consumption, 1:N portfolio weights)\n",
    "\n",
    "    # Loop over each grid point in the state space\n",
    "    for i, x in enumerate(self.x0.flatten()):  # Ensure x is a scalar       \n",
    "        # Define objective function: NEGATIVE because we maximize\n",
    "        obj = lambda choices: -self.vf(choices, interpV)[i]\n",
    "        \n",
    "        # Initial guess: Consume half of cash and equal portfolio weights\n",
    "        if i==0:  # At the first grid point\n",
    "            c_init = float(x)  # Assume consuming all cash (credit limit)\n",
    "            w_init = np.ones(self.N) / self.N  # Equal allocation across assets\n",
    "            choices_init = np.concatenate(([c_init], w_init))  # Correct concatenation  \n",
    "        else:\n",
    "            choices_init=policy[i-1, : ]*0.95 # Use previous period policy as initial guess\n",
    "        \n",
    "        # Constraints: c in [0,x] and portfolio weights sum to 1, w_i >= 0\n",
    "        cons = [\n",
    "            {'type': 'ineq', 'fun': lambda choices: x - choices[0]},           # c <= x\n",
    "            {'type': 'ineq', 'fun': lambda choices: choices[0]-0.001},         # c >= 0.001\n",
    "            {'type': 'eq', 'fun':   lambda choices: np.sum(choices[1:]) - 1},  # sum(w) = 1\n",
    "            {'type': 'ineq', 'fun': lambda choices: choices[1:]}               # w_i >= 0\n",
    "        ]\n",
    "\n",
    "        # Solve the optimization problem\n",
    "        result = minimize(obj, choices_init, method='SLSQP', constraints=cons, options={'ftol': 1e-10, 'maxiter': 200})\n",
    "\n",
    "        # Store the results\n",
    "        V1[i] = -result.fun         # Maximum value\n",
    "        policy[i, : ] = result.x    # Optimal decisions\n",
    "\n",
    "    return V1, policy # Value function and policy functions\n",
    "PortfolioChoiceModel.bellman = bellman # Add the bellman function to the class"
   ]
  },
  {
   "cell_type": "markdown",
   "metadata": {
    "slideshow": {
     "slide_type": "slide"
    }
   },
   "source": [
    "### **10. Bellman Equation - Remarks on Numerical Implementation**\n",
    "$$ V_t(x_t) = \\max_{c_t \\in [0, x_t], \\, \\boldsymbol{w}_t \\in W} \n",
    "\\left[ v(x_t, c_t, \\boldsymbol{w_t}) + \\beta \\mathbb{E}[V_{t+1}(x_{t+1})] \\right] $$\n",
    "1. **Interpolate Value Function**  \n",
    "   - Uses **cubic interpolation** for $V_{t+1}(x)$.  \n",
    "   - **Why cubic?** Fewer points, smoother function.\n",
    "\n",
    "2. **Solve Constrained Optimization at Each Grid Point**  \n",
    "   - **Policy variables:** Solve for $c_t, \\boldsymbol{w}_t$.  \n",
    "   - **Objective:** Maximize choice-specific value given $V_{t+1}$.  \n",
    "   - **Constraints:**  \n",
    "     - $0 \\leq c_t \\leq x_t$ (budget constraint).  \n",
    "     - $\\sum w_i = 1, \\quad w_i \\geq 0$ (no short-selling).  \n",
    "   - **Smoothness is key** for gradient-based optimization.  \n",
    "   - **Optimization via `SLSQP`** (Sequential Quadratic Programming).\n",
    "\n",
    "3. **Initial Guess & Parallelization Caveat**  \n",
    "   - **Use the neighboring state’s policy** for smooth updates:  \n",
    "     - Improves initial guess.  \n",
    "     - **Parallelization is limited** as each grid point depends on the previous one."
   ]
  },
  {
   "cell_type": "markdown",
   "metadata": {
    "slideshow": {
     "slide_type": "slide"
    }
   },
   "source": [
    "# DP Solver (in dpsolver.py)"
   ]
  },
  {
   "cell_type": "code",
   "execution_count": 12,
   "metadata": {},
   "outputs": [],
   "source": [
    "import numpy as np\n",
    "from scipy.stats import lognorm\n",
    "from time import process_time\n",
    "class dpsolver():\n",
    "    '''A class for solving dynamic programming models'''\n",
    "    def vfi_T(model, T=100, callback=None):\n",
    "        '''Solves the model using backward induction (VFI with maxiter =T)'''\n",
    "        tic = process_time() # Start the stopwatch / counter\n",
    "        V=np.zeros((model.n_x, T+1)) # on first iteration assume consuming everything\n",
    "        policy = np.zeros((model.n_x, model.n_choices, T+1))  # Stores policy functions (p1, p2, ..., pn_choices)'''\n",
    "\n",
    "        for t in range(T-1, 0, -1):\n",
    "            V[:,t-1],policy[:,:,t-1]=model.bellman(V[:,t])\n",
    "            if callback: callback(t,model.x,V, policy) # callback for making plots and plotting iterations\n",
    "        else:  # when i went up to maxiter\n",
    "            toc = process_time() # Stop the stopwatch / counter\n",
    "            print('Solved by backward induction using',round(toc-tic, 5), 'seconds')\n",
    "        return V,policy\n",
    "    \n",
    "    def vfi(model, maxiter=100, tol=1e-6,callback=None):\n",
    "        '''Solves the model using VFI (successive approximations)'''\n",
    "        tic = process_time() # Start the stopwatch / counter\n",
    "        V0=np.zeros(model.n_x) # on first iteration assume consuming everything\n",
    "        for iter in range(maxiter):\n",
    "            V1,policy=model.bellman(V0)\n",
    "            if callback: callback(iter,model.x,V1, policy, V0) # callback for making plots\n",
    "            if np.max(abs(V1-V0)) < tol:\n",
    "                toc = process_time() # Stop the stopwatch / counter\n",
    "                print('Solved by VFI in', iter, 'iterations using',round(toc-tic, 5), 'seconds')\n",
    "                break\n",
    "            V0=V1\n",
    "        else:  # when i went up to maxiter\n",
    "            print('No convergence: maximum number of iterations achieved!')\n",
    "        return V1,policy\n",
    "    \n",
    "    def iterinfo(iter,model,V1,c=None, V0=0):\n",
    "        print('iter=', iter, '||V1-V0||', np.max(abs(V1-V0)))\n",
    "    "
   ]
  },
  {
   "cell_type": "markdown",
   "metadata": {
    "slideshow": {
     "slide_type": "slide"
    }
   },
   "source": [
    "# Plotting value function and consumption function"
   ]
  },
  {
   "cell_type": "code",
   "execution_count": 13,
   "metadata": {},
   "outputs": [],
   "source": [
    "# function for plotting\n",
    "import matplotlib.pyplot as plt\n",
    "def v_c_plot(x, V, policy):\n",
    "    '''Illustrate solution'''\n",
    "    c=policy[:,0,:] # Consumption policy\n",
    "    fig1, (ax1,ax2) = plt.subplots(1,2,figsize=(8,4))\n",
    "    ax1.grid(which='both', color='0.65', linestyle='-')\n",
    "    ax2.grid(which='both', color='0.65', linestyle='-')\n",
    "    ax1.set_title('Value function')\n",
    "    ax2.set_title('Consumption policy function')\n",
    "    ax1.set_xlabel('Cash on hand, x')\n",
    "    ax2.set_xlabel('Cash on hand, x')\n",
    "    ax1.set_ylabel('Value function')\n",
    "    ax2.set_ylabel('Consumption function')\n",
    "    if len(V.shape)==1: \n",
    "        V=V[:,np.newaxis]\n",
    "        c=c[:,np.newaxis]\n",
    "    for i in range(V.shape[1]):\n",
    "        ax1.plot(x[1:],V[1:,i],color='k',alpha=0.25)\n",
    "        ax2.plot(x[1:],c[1:,i],color='k',alpha=0.25)\n",
    "    # add solutions\n",
    "    ax1.plot(x[1:],V[1:,0],color='r',linewidth=2.5)\n",
    "    ax2.plot(x[1:],c[1:,0],color='r',linewidth=2.5)\n",
    "    plt.show()"
   ]
  },
  {
   "cell_type": "markdown",
   "metadata": {
    "slideshow": {
     "slide_type": "slide"
    }
   },
   "source": [
    "# Plotting portfolio policy function"
   ]
  },
  {
   "cell_type": "code",
   "execution_count": 14,
   "metadata": {},
   "outputs": [],
   "source": [
    "import matplotlib.pyplot as plt\n",
    "def w_plot(x, V, policy):\n",
    "    '''Illustrate solution for portfolio shares'''\n",
    "    w = policy[:, 1:, :]  # Portfolio shares (excluding consumption)\n",
    "    \n",
    "    num_assets = w.shape[1]  # Number of assets in portfolio\n",
    "    fig, ax = plt.subplots(1, num_assets, figsize=(4 * num_assets, 4))  # One subplot per asset\n",
    "    \n",
    "    if num_assets == 1:  # Ensure ax is iterable even for a single asset\n",
    "        ax = [ax]\n",
    "\n",
    "    for j in range(num_assets):\n",
    "        ax[j].grid(which='both', color='0.65', linestyle='-')\n",
    "        ax[j].set_title(f'Portfolio share $w_{j+1}(x)$')\n",
    "        ax[j].set_xlabel('Cash on hand, x')\n",
    "        ax[j].set_ylabel(f'Portfolio share $w_{j+1}$')\n",
    "\n",
    "        if len(V.shape) == 1:  # Ensure proper shape handling\n",
    "            V = V[:, np.newaxis]\n",
    "            w = w[:, :, np.newaxis]\n",
    "\n",
    "        for i in range(V.shape[1]):  # Iterate over solution iterations\n",
    "            ax[j].plot(x[1:], w[1:, j, i], color='k', alpha=0.25)  # Plot historical solutions\n",
    "        \n",
    "        # Highlight the first iteration in red\n",
    "        ax[j].plot(x[1:], w[1:, j, 0], color='r', linewidth=2.5)\n",
    "\n",
    "    plt.show()"
   ]
  },
  {
   "cell_type": "markdown",
   "metadata": {
    "slideshow": {
     "slide_type": "slide"
    }
   },
   "source": [
    "# Solving the model"
   ]
  },
  {
   "cell_type": "code",
   "execution_count": 16,
   "metadata": {},
   "outputs": [
    {
     "name": "stdout",
     "output_type": "stream",
     "text": [
      "Solved by backward induction using 15.0797 seconds\n"
     ]
    },
    {
     "data": {
      "image/png": "[encoded data removed]",
      "text/plain": [
       "<Figure size 800x400 with 2 Axes>"
      ]
     },
     "metadata": {},
     "output_type": "display_data"
    },
    {
     "data": {
      "image/png": "[encoded data removed]",
      "text/plain": [
       "<Figure size 800x400 with 2 Axes>"
      ]
     },
     "metadata": {},
     "output_type": "display_data"
    }
   ],
   "source": [
    "N=2  # Number of assets\n",
    "mu_R = 1 + np.linspace(0.02, 0.03, N)  # expected returns\n",
    "sigma = np.linspace(0.05, 0.15, N)     # standard dev on retuns\n",
    "Sigma_R=build_sigma(sigma,c=0)         # Covarinace matrix on returs (correlation = c)\n",
    "rho_y = np.zeros((N,1))                # Corelation between log(y) and R\n",
    "# Initialize model\n",
    "m1 = PortfolioChoiceModel(beta=0.95, gamma=2, rho_y=rho_y, mu_R=mu_R, Sigma_R=Sigma_R, n_x=100, n_rand=100, integration_rule=\"sobol\")\n",
    "# print(m1)  # uncomment to inspect model parameters\n",
    "V, policy = dpsolver.vfi_T(m1, T=10); \n",
    "v_c_plot(m1.x0, V, policy);\n",
    "w_plot(m1.x0, V, policy);"
   ]
  },
  {
   "cell_type": "markdown",
   "metadata": {
    "slideshow": {
     "slide_type": "slide"
    }
   },
   "source": [
    "## Precationary savings, diversification, risk aversion and no shorting\n",
    "\n",
    "1. **Precautionary Savings**\n",
    "    - Agents **save more when wealth is low** to smooth consumption.\n",
    "    - CRRA utility makes **future consumption valuable**, leading to **self-insurance against shocks**.\n",
    "    - **As wealth increases, the precautionary motive weakens** ⟶ higher consumption.\n",
    "\n",
    "1. **Portfolio Allocation and Risk-Taking**\n",
    "    - **At low `x`**, agents invest **all savings in the risky asset** (`w_2 = 1`).\n",
    "    - **Wealth increases** ⟶ agents **gradually start investing in the safer asset** (`w_1 > 0`).\n",
    "    - Matches **life-cycle portfolio theory**: Young investors take risks, older investors de-risk.\n",
    "\n",
    "1. **Time Horizon & Risk Exposure**\n",
    "    - Risk exposure **declines as `T` approaches**.\n",
    "    - Near `T`, agents **focus on capital preservation** (limited time to recover losses).\n",
    "    - **Decreasing Relative Risk Aversion (DARA)**: The richer you are, the less risk you take.\n",
    "    \n",
    "1. **What If Short-Selling Was Allowed?**\n",
    "    - **Agents would short `w_1` to increase `w_2`, amplifying risk.**  \n",
    "    - **Early-life volatility would rise, but so would expected returns.**  \n",
    "    - **Shorting constraint acts as an implicit borrowing limit.**  "
   ]
  },
  {
   "cell_type": "markdown",
   "metadata": {
    "slideshow": {
     "slide_type": "slide"
    }
   },
   "source": [
    "## **Computational Challenges in Dynamic Portfolio Choice (1/2)**\n",
    "\n",
    "**1. Curse of dimensionality is limited for our model**  \n",
    "- **Only state variable: Cash-on-hand**.  \n",
    "- **BUT: Curse of dimensionality easily kicks in for relevant extensios**\n",
    "    - Serially correlated income ⟶ $\\boldsymbol{y_t}$ becomes a state varible ($1$ addtitional state variable)\n",
    "    - Serially correlated asset returns ⟶ $\\boldsymbol{R_t}$ becomes a state varible ($N$ addtitional state variables)\n",
    "    - Transactions costs ⟶ $\\boldsymbol{w_{t-1}}$ becomes a state variable ($N-1$ addtitional state variables)\n",
    "    - **Curse of dimensionality**:  increase the state space  ⟶ exponential increase in computational complexity\n",
    "\n",
    "**2. Solving the Optimization Problem - repeated at Every Grid Point**  \n",
    "   - **Portfolio weights must sum to 1** and **stay non-negative** ⟶ constrained optimization.  \n",
    "   - **SLSQP works but is sensitive to initial guesses**.  \n",
    "   - **Trust-constr is more robust but slower**.  \n",
    "   - **Endogenous Grid Method (EGM) avoids repeated optimizations**:  \n",
    "     - **Compute a grid over end-of-period assets**.  \n",
    "     - **Invert Euler equation analytically to find consumption**.  \n",
    "     - **Portfolio weights can be precomputed and interpolated**.  \n",
    "     - We will cover **EGM later**."
   ]
  },
  {
   "cell_type": "markdown",
   "metadata": {
    "slideshow": {
     "slide_type": "slide"
    }
   },
   "source": [
    "## **Computational Challenges in Dynamic Portfolio Choice (2/2)**\n",
    "**3. Interpolation of Highly Curved Functions**  \n",
    "   - The **value function is highly curved** (goes to $ -\\infty $ as $ c \\to 0 $).  \n",
    "   - **Linear interpolation introduces kinks**; cubic interpolation helps and **requires fewer points**.  \n",
    "   - **Better: Time iteration on the Euler equation**  \n",
    "     - **Interpolate the policy function (consumption), which has less curvature**.\n",
    "     - We will cover **time iterations later**.\n",
    "\n",
    "**4. Numerical Integration Trade-offs**  \n",
    "   - **Monte Carlo breaks the curse of dimensionality** but introduces noise.  \n",
    "   - **Quadrature is more accurate** but computationally expensive.  \n",
    "   - **If interpolated value function has kinks, more integration points smooth expectations** but slow convergence.\n",
    "\n",
    "**5. Stability, Speed, and Parallelization**  \n",
    "   - **Fine grids improve accuracy but slow computation.**  \n",
    "   - **Relaxing solver tolerances speeds up convergence but risks imprecision.**  \n",
    "   - **Parallelization:**  \n",
    "     - **Loops over states and integration can be parallelized**.  \n",
    "     - **Analytical derivatives in optimization improve speed and accuracy**."
   ]
  }
 ],
 "metadata": {
  "celltoolbar": "Slideshow",
  "date": 1612589586.079556,
  "download_nb": false,
  "filename": "01_dp_intro.rst",
  "filename_with_path": "01_dp_intro",
  "kernelspec": {
   "display_name": "Python 3 (ipykernel)",
   "language": "python",
   "name": "python3"
  },
  "language_info": {
   "codemirror_mode": {
    "name": "ipython",
    "version": 3
   },
   "file_extension": ".py",
   "mimetype": "text/x-python",
   "name": "python",
   "nbconvert_exporter": "python",
   "pygments_lexer": "ipython3",
   "version": "3.12.2"
  },
  "title": "Dynamic Programming and Structural Econometrics #1"
 },
 "nbformat": 4,
 "nbformat_minor": 4
}
