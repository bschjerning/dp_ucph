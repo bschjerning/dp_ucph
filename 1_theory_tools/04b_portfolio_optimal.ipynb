{
 "cells": [
  {
   "cell_type": "markdown",
   "metadata": {
    "slideshow": {
     "slide_type": "slide"
    }
   },
   "source": [
    "# Dynamic Programming and Structural Econometrics #4b\n",
    "\n",
    "### Portfolio Choice Example:  Numerical Integration\n",
    "\n",
    "**Readings:** \n",
    "- 📖 Judd, K. L. (1998). Numerical methods in economics. MIT press. Sections 7.6\n",
    "\n",
    "by Bertel Schjerning\n",
    "\n",
    "University of Copenhagen"
   ]
  },
  {
   "cell_type": "markdown",
   "metadata": {
    "slideshow": {
     "slide_type": "slide"
    }
   },
   "source": [
    "## Plan for lectures\n",
    "\n",
    "Illustrate in integration methods by economic example:\n",
    "***Portfolio choice model***\n",
    "\n",
    "- *Model presentation*\n",
    "\n",
    "- *Numerical Integration*: Evaluate expected value/utility of a given portfolio with stochastic returns\n",
    "    - Mutidimentional Guassian quadrature\n",
    "    - Monte Carlo: Simulation based integration (breaks the curse of dimensionality)\n",
    "- **Optimization (TODAY)**: Maximize agents expected utility by choosing optimal allocation of wealth in a number of risky assets\n",
    "    - Newtons method\n",
    "    - Line Searching\n",
    "    - Non-gradient based solvers (e.g. Nelder-Mead)\n"
   ]
  },
  {
   "cell_type": "markdown",
   "metadata": {
    "slideshow": {
     "slide_type": "slide"
    }
   },
   "source": [
    "### Portfolio choice: Constrained optimization problem\n",
    "We consider an investor who allocates current wealth, $W$ across $n$ assets indexed by $i=0,\\dots, n-1$. \n",
    "\n",
    "$$\n",
    "\\max_{(\\omega_0, \\dots, \\omega_{n-1})} E \\left\\{u\\left(\\sum_{i=0}^{n-1} \\omega_i Z_i\\right)\\right\\} \\\\\n",
    "s.t. \\sum_{i=0}^{n-1} \\omega_i p_i  - W = 0\n",
    "$$\n",
    "where asset $i$ has price $p_i$ and a stochastic future value $Z_i$ whose distribution we will specify later. \n",
    "\n",
    "- This is a **$n$-dimensional constrained optimization problem** with one equality constraint\n",
    "- Expectation operator requires evaluating a **$n$-dimensional integral**\n",
    "\n",
    "\n"
   ]
  },
  {
   "cell_type": "markdown",
   "metadata": {
    "slideshow": {
     "slide_type": "slide"
    }
   },
   "source": [
    "### Portfolio choice: unconstrained optimization problem\n",
    "We can easily impose the budget constraint by substituting $\\omega_0 = W - \\sum_{i=1}^{n-1}\\omega_i p_i$ into the utility function and eliminating $\\omega_0$ from the choice set \n",
    "\n",
    "The resulting $n-1$-dimensional ***unconstrained optimization problem*** is\n",
    "\n",
    "$$\n",
    "\\max_{\\omega}  U(\\omega) =  \\max_{\\omega} E \\left\\{u\\left(( W - \\sum_{i=1}^{n-1}\\omega_i)Z_0  + \\sum_{i=1}^{n-1} \\omega_i Z_i\\right)\\right\\} \n",
    "$$\n",
    "\n",
    "where $\\omega=(\\omega_1, \\dots, \\omega_{n-1})$  is the vector of portfolio choices.\n",
    "\n",
    "For simplicity we will assume that all assets have the same price of $1\\$$ and set $W=1$ throughout, so that $\\omega_i$ refers to the portfolio share in asset $i$.  \n"
   ]
  },
  {
   "cell_type": "markdown",
   "metadata": {
    "slideshow": {
     "slide_type": "slide"
    }
   },
   "source": [
    "### Computing expected utility\n",
    "For an independent log-normally distributed variable, we also make the change of variable  $Z_i(q_i)=\\exp(\\mu_i + \\sigma \\Phi^{-1}(q_i))$ to obtain \n",
    "\\begin{align}\n",
    "U(\\omega)&=E \\left\\{u\\left(( W - \\sum_{i=2}^n\\omega_i)Z_0(q_0)  + \\sum_{i=1}^n \\omega_i Z_i(q_i)\\right)\\right\\} \\nonumber \\\\\n",
    "&=\\int_0^1 \\dots \\int_0^1 \\left\\{u\\left(( W - \\sum_{i=2}^n\\omega_i)Z_0(q_0)  + \\sum_{i=1}^n \\omega_i Z_i(q_i)\\right)\\right\\}dq_0 \\dots dq_{n-1} \\nonumber \\\\\n",
    "&=\\int_{[0,1]^n} f(q;\\omega)dq  \\nonumber\n",
    "\\end{align}\n",
    "where $q=(q_0, \\dots, q_{n-1})$ the the vector of uniformly distributed quantiles in the asset return distribution and \n",
    "\\begin{align}\n",
    "f(q;\\omega)=u\\left(( W - \\sum_{i=2}^n\\omega_i)Z_0(q_0)  + \\sum_{i=1}^n \\omega_i Z_i(q_i)\\right)\n",
    "\\end{align}\n",
    "is the ex-post utility of receiving an asset return from the $q'th$ percentile in the distribution of asset returns.  \n",
    "\n"
   ]
  },
  {
   "cell_type": "markdown",
   "metadata": {
    "slideshow": {
     "slide_type": "slide"
    }
   },
   "source": [
    "### Using Gauss-Legendre quadrature we can then approximate $U(\\omega)$ as\n",
    "\n",
    "\\begin{align}\n",
    "U(\\omega) \\approx \\sum_{j_0=1}^{m_0} \\dots \\sum_{j_{n-1}=1}^{m_{n-1}}   w^0_{j_0}  \\dots w^{n-1}_{j_{n-1}}  f(x_{j_0}^{0},  \\dots, x^{n-1}_{j_{n-1}};\\omega)\n",
    "\\end{align}\n",
    "\n",
    "where \n",
    "\n",
    "- $w^i_{j_i}$  and $x^{i}_{j_{i}}$ are Gauss-Legendre weights and nodes for integration dimension $i$ (i.e. asset $i$) adjusted for integration over the interval $[0,1]$ rather than $[-1,1]$. \n",
    "- Since Gauss-Legendre is for integration over the interval $[0,1]$ rather than $[-1,1]$, we need to adjust weights $w^{[-1,1]}$ and nodes $x^{[-1,1]}$ for integration on $[a,b]=[0,1]$. \n",
    "- The relevant change of variable to the interval $[a,b]$ is $w=(b-a)/2*w^{[-1,1]}$ for the weights and $x=(x^{[-1,1]} + 1)(b-a)/2 +a $ for nodes. \n"
   ]
  },
  {
   "cell_type": "markdown",
   "metadata": {
    "slideshow": {
     "slide_type": "slide"
    }
   },
   "source": [
    "## Monte Carlo\n",
    "Alternatively, we can use simple Monte Carlo integration to approximate $U(\\omega)$ \n",
    "\\begin{align}\n",
    "U(\\omega)& \\approx &1/m\\sum_{j=1}^m f(x^j; \\omega) \\nonumber\n",
    "\\end{align}\n",
    "where $x^j=(x^j_0 \\dots, x^j_{n-1})$ is $n-$vector of pseudo random draws from the uniform distribution. \n",
    "\n",
    "- Note for our one dimensional case with only one risky asset, we only need one random componet, so $x^j$ is a scalar\n",
    "\n",
    "- Very similar to Gauss-Legendre.. except that the $m$ weights are just w=1/m and nodes are replaced by $m$ draws from the uniform distribution with support $[0,1]^m$\n",
    "\n",
    "- **BREAKS curse of dimensionality**: The error diminishes with a rate $1/\\sqrt{m}$ which is idenependent of the dimension of $x$ \n",
    "\n"
   ]
  },
  {
   "cell_type": "code",
   "execution_count": 1,
   "metadata": {
    "slideshow": {
     "slide_type": "slide"
    }
   },
   "outputs": [],
   "source": [
    "# The model outlined above collected in the module portfolio that we import below\n",
    "%reset -f\n",
    "import numpy as np\n",
    "from lib.portfolio import *\n",
    "from lib.optimize import *\n",
    "import lib.integrate as intpy\n"
   ]
  },
  {
   "cell_type": "markdown",
   "metadata": {
    "slideshow": {
     "slide_type": "slide"
    }
   },
   "source": [
    "### Example: model with two assets \n",
    "Model 1: One safe asset, one risky asset\n",
    "- Mean returns, $E(Z)=R=(R_0,R_1)=(1.1,1.4)'$\n",
    "- Variance on returns, $\\sigma^2_Z=(\\sigma^2_{Z_0},\\sigma^2_{Z_1})=(0.0,1)'$\n",
    "- With and without correlated returns, $Z_i$ between assets\n",
    "\n",
    "Model 2: Two risky assets\n",
    "- Mean returns, $E(Z)=R=(R_0,R_1)=(1.1,1.4)'$\n",
    "- Variance on returns, $\\sigma^2_Z=(\\sigma^2_{Z_0},\\sigma^2_{Z_1})=(0.5,1)'$\n",
    "- With and without correlated returns, $Z_i$ between assets\n",
    "\n",
    "\n",
    "       \n"
   ]
  },
  {
   "cell_type": "code",
   "execution_count": 2,
   "metadata": {
    "slideshow": {
     "slide_type": "slide"
    }
   },
   "outputs": [
    {
     "name": "stdout",
     "output_type": "stream",
     "text": [
      "Model from portfolio class with attributes:\n",
      "------------------------------------------------------------\n",
      "CRRA utility parameter, gamma           =  2\n",
      "Initial wealht, W                       =  1\n",
      "Mean return on assets , R.T               =  [[1.  1.4]]\n",
      "Std. dev. on return on assets, sigma_Z.T  =  [[0. 1.]]\n",
      "Number of assets, n                     =  2\n",
      "Number of quad nodes for each assset, m =  [10 10]\n",
      "Correlation matrix, (log asset return), Cor:\n",
      " [[1. 0.]\n",
      " [0. 1.]]\n",
      "Cholesky matrix, (log asset return), Sigma:\n",
      " [[0.     0.    ]\n",
      " [0.     0.6421]]\n",
      "Model id = 0x7fca167b7d30\n",
      "\n",
      "Model from portfolio class with attributes:\n",
      "------------------------------------------------------------\n",
      "CRRA utility parameter, gamma           =  2\n",
      "Initial wealht, W                       =  1\n",
      "Mean return on assets , R.T               =  [[1.1 1.4]]\n",
      "Std. dev. on return on assets, sigma_Z.T  =  [[0.70710678 1.        ]]\n",
      "Number of assets, n                     =  2\n",
      "Number of quad nodes for each assset, m =  [10 10]\n",
      "Correlation matrix, (log asset return), Cor:\n",
      " [[1. 0.]\n",
      " [0. 1.]]\n",
      "Cholesky matrix, (log asset return), Sigma:\n",
      " [[0.5881 0.    ]\n",
      " [0.     0.6421]]\n",
      "Model id = 0x7fca167b7cd0\n",
      "\n"
     ]
    }
   ],
   "source": [
    "## create new model with one safe asset, one risky asset\n",
    "model1=portfolio(W=1, sigma2_Z =np.array([0,1]), R=np.array([1,1.4]), gamma=2)\n",
    "# create new model with two risky assets \n",
    "model2=portfolio(W=1, sigma2_Z =np.array([0.5,1]), R=np.array([1.1,1.4]), gamma=2)"
   ]
  },
  {
   "cell_type": "code",
   "execution_count": 3,
   "metadata": {
    "scrolled": true,
    "slideshow": {
     "slide_type": "slide"
    }
   },
   "outputs": [
    {
     "data": {
      "image/png": "[encoded data removed]",
      "text/plain": [
       "<Figure size 576x360 with 1 Axes>"
      ]
     },
     "metadata": {
      "needs_background": "light"
     },
     "output_type": "display_data"
    }
   ],
   "source": [
    "# Plot pdf for returns to all assets (model 1)\n",
    "model2.plt_pdf_Z()"
   ]
  },
  {
   "cell_type": "code",
   "execution_count": 4,
   "metadata": {
    "scrolled": true,
    "slideshow": {
     "slide_type": "slide"
    }
   },
   "outputs": [
    {
     "data": {
      "image/png": "[encoded data removed]",
      "text/plain": [
       "<Figure size 432x288 with 1 Axes>"
      ]
     },
     "metadata": {
      "needs_background": "light"
     },
     "output_type": "display_data"
    },
    {
     "data": {
      "image/png": "[encoded data removed]",
      "text/plain": [
       "<Figure size 432x288 with 1 Axes>"
      ]
     },
     "metadata": {
      "needs_background": "light"
     },
     "output_type": "display_data"
    }
   ],
   "source": [
    "# Plot expected utility of asset portfolio by omega \n",
    "model1.plt_E_U(xvec=np.linspace(0, 1, 100), xvar=\"omega\", gammas=[2])\n",
    "model2.plt_E_U(xvec=np.linspace(0, 1, 100), xvar=\"omega\", gammas=[2])"
   ]
  },
  {
   "cell_type": "code",
   "execution_count": 5,
   "metadata": {
    "scrolled": true,
    "slideshow": {
     "slide_type": "slide"
    }
   },
   "outputs": [
    {
     "name": "stdout",
     "output_type": "stream",
     "text": [
      "Starting values:  [[0.40317508]]\n",
      "iter       step      ||dx||    ||g(x)||         f(x)\n",
      "----------------------------------------------------------------------------------------------------\n",
      "   0           1    9.68e-02    5.83e-02      1.0595\n",
      "   1           1    6.21e-04    3.74e-04      1.0624\n",
      "   2           1    9.25e-08    5.58e-08      1.0624\n",
      "   3           1    2.03e-15    1.22e-15      1.0624\n",
      "Newton converged after 4 iterations, ||g(x)|| = 1.2245e-15\n",
      "Elapsed time: 0.0063 seconds\n",
      "Starting values:  [[0.62925727]]\n",
      "iter       step      ||dx||    ||g(x)||         f(x)\n",
      "----------------------------------------------------------------------------------------------------\n",
      "   0           1    1.29e-01    1.29e-01       1.016\n",
      "   1           1    3.25e-03    3.21e-03      1.0245\n",
      "   2           1    4.34e-06    4.31e-06      1.0245\n",
      "   3           1    8.09e-12    8.02e-12      1.0245\n",
      "Newton converged after 4 iterations, ||g(x)|| = -8.0190e-12\n",
      "Elapsed time: 0.0029 seconds\n",
      "portfolio share in asset 1, model 1 (one safe asset) [[0.40255464]]\n",
      "portfolio share in asset 1, model 2 (two risky assets) [[0.63250032]]\n"
     ]
    }
   ],
   "source": [
    "n=model1.n\n",
    "omega0=1/n*np.ones((n-1, 1)) # staring values for omega\n",
    "omega_model1=newton(model1.E_u, omega0, use_derivatives=1, linesearch=0)\n",
    "omega_model2=newton(model2.E_u, omega0, use_derivatives=1, linesearch=0)\n",
    "print('portfolio share in asset 1, model 1 (one safe asset)', omega_model1.T)\n",
    "print('portfolio share in asset 1, model 2 (two risky assets)', omega_model2.T)"
   ]
  },
  {
   "cell_type": "markdown",
   "metadata": {
    "slideshow": {
     "slide_type": "slide"
    }
   },
   "source": [
    "### Example: model with mutiple identical assets\n",
    "Model 3: n identical risky assets\n",
    "- Mean returns, $E(Z_i)=1.4,\\quad  i=0,...n-1$\n",
    "- Variance on returns, $\\sigma^2_{Z_i}=1 ,\\quad 0=1,...n-1$  \n",
    "\n",
    "- With and without correlated returns, $Z_i$ between assets\n",
    "\n",
    "Model 4: One safe asset, n-1 risky assets\n",
    "- As Model 3, but with $E(Z_0)=1.1$  and $\\sigma^2_{Z_0}=0$  \n",
    "\n",
    "       \n"
   ]
  },
  {
   "cell_type": "code",
   "execution_count": 6,
   "metadata": {
    "slideshow": {
     "slide_type": "slide"
    }
   },
   "outputs": [
    {
     "name": "stdout",
     "output_type": "stream",
     "text": [
      "Model from portfolio class with attributes:\n",
      "------------------------------------------------------------\n",
      "CRRA utility parameter, gamma           =  2\n",
      "Initial wealht, W                       =  1\n",
      "Mean return on assets , R.T               =  [[1.4 1.4 1.4 1.4 1.4]]\n",
      "Std. dev. on return on assets, sigma_Z.T  =  [[1. 1. 1. 1. 1.]]\n",
      "Number of assets, n                     =  5\n",
      "Number of quad nodes for each assset, m =  100000\n",
      "Correlation matrix, (log asset return), Cor:\n",
      " [[1. 0. 0. 0. 0.]\n",
      " [0. 1. 0. 0. 0.]\n",
      " [0. 0. 1. 0. 0.]\n",
      " [0. 0. 0. 1. 0.]\n",
      " [0. 0. 0. 0. 1.]]\n",
      "Cholesky matrix, (log asset return), Sigma:\n",
      " [[0.6421 0.     0.     0.     0.    ]\n",
      " [0.     0.6421 0.     0.     0.    ]\n",
      " [0.     0.     0.6421 0.     0.    ]\n",
      " [0.     0.     0.     0.6421 0.    ]\n",
      " [0.     0.     0.     0.     0.6421]]\n",
      "Model id = 0x7fca169d3160\n",
      "\n",
      "Model from portfolio class with attributes:\n",
      "------------------------------------------------------------\n",
      "CRRA utility parameter, gamma           =  2\n",
      "Initial wealht, W                       =  1\n",
      "Mean return on assets , R.T               =  [[1.1 1.4 1.4 1.4 1.4]]\n",
      "Std. dev. on return on assets, sigma_Z.T  =  [[0.01 1.   1.   1.   1.  ]]\n",
      "Number of assets, n                     =  5\n",
      "Number of quad nodes for each assset, m =  100000\n",
      "Correlation matrix, (log asset return), Cor:\n",
      " [[1. 0. 0. 0. 0.]\n",
      " [0. 1. 0. 0. 0.]\n",
      " [0. 0. 1. 0. 0.]\n",
      " [0. 0. 0. 1. 0.]\n",
      " [0. 0. 0. 0. 1.]]\n",
      "Cholesky matrix, (log asset return), Sigma:\n",
      " [[0.0091 0.     0.     0.     0.    ]\n",
      " [0.     0.6421 0.     0.     0.    ]\n",
      " [0.     0.     0.6421 0.     0.    ]\n",
      " [0.     0.     0.     0.6421 0.    ]\n",
      " [0.     0.     0.     0.     0.6421]]\n",
      "Model id = 0x7fca169bcc40\n",
      "\n"
     ]
    }
   ],
   "source": [
    "n=5 # Number of assets\n",
    "\n",
    "# build covariance matrix\n",
    "c=0;  # correlation between assets\n",
    "corr=(1-c)*np.identity(n) + c*np.ones((n,n)); # correlation martrix\n",
    "\n",
    "# create new model with n identical risky assets\n",
    "R=1.4*np.ones((n,1))\n",
    "sigma2_Z=1.0*np.ones((n,1))\n",
    "model3=portfolio(W=1, sigma2_Z =sigma2_Z, R=R, corr=corr, gamma=2, m=100000 , integration_method=\"montecarlo\")\n",
    "\n",
    "## create new model one safe asset, n-1 risky assets\n",
    "R[0,0]=1.1; \n",
    "sigma2_Z[0,0]=0.0001;\n",
    "model4=portfolio(W=1, sigma2_Z = sigma2_Z, R=R, corr=corr, gamma=2,  m=100000, integration_method=\"montecarlo\")"
   ]
  },
  {
   "cell_type": "code",
   "execution_count": 7,
   "metadata": {
    "slideshow": {
     "slide_type": "slide"
    }
   },
   "outputs": [
    {
     "name": "stdout",
     "output_type": "stream",
     "text": [
      "Starting values:  [[0.03155404 0.02943916 0.03257384 0.0292884 ]]\n",
      "iter       step      ||dx||    ||g(x)||         f(x)\n",
      "----------------------------------------------------------------------------------------------------\n",
      "   0           1    3.26e-02    1.40e+00     0.91449\n",
      "   1           1    6.02e-02    7.16e-01      1.0347\n",
      "   2           1    8.06e-02    3.14e-01      1.1485\n",
      "   3           1    3.49e-02    8.37e-02      1.2081\n",
      "   4           1    2.03e-03    4.80e-03      1.2134\n",
      "   5           1    1.20e-05    3.17e-05      1.2135\n",
      "   6           1    5.54e-10    1.45e-09      1.2135\n",
      "Newton converged after 7 iterations, ||g(x)|| = -1.4105e-09\n",
      "Elapsed time: 0.5623 seconds\n",
      "Starting values:  [[0.1214591  0.12000673 0.12264387 0.12068906]]\n",
      "iter       step      ||dx||    ||g(x)||         f(x)\n",
      "----------------------------------------------------------------------------------------------------\n",
      "   0           1    1.23e-01    2.51e-01      1.0908\n",
      "   1           1    1.26e-01    1.02e-01        1.17\n",
      "   2           1    1.57e-02    1.15e-02      1.1977\n",
      "   3           1    4.48e-04    3.48e-04       1.198\n",
      "   4           1    4.63e-07    3.64e-07       1.198\n",
      "   5           1    5.22e-13    4.08e-13       1.198\n",
      "Newton converged after 6 iterations, ||g(x)|| = -4.0111e-13\n",
      "Elapsed time: 0.4636 seconds\n",
      "portfolio share in asset 1, model 3 (n risky) [[0.20412902 0.20154853 0.1987043  0.20302432]]\n",
      "portfolio share in asset 1, model 4 (one safe) [[0.26071638 0.25845546 0.26303102 0.26190392]]\n"
     ]
    }
   ],
   "source": [
    "# solve models 3 and 4\n",
    "# Try turning on and off derivatives (how is speed affected and why)\n",
    "# Consider different model sizes (number of asstes - n in prev block)\n",
    "# Consider how correlation between assets affects optimal porfolio (c in prev block)\n",
    "# Consider different inegration methods (integration_method in prev block)\n",
    "omega0=1/n*np.ones((n-1, 1))*0 # staring values for omega\n",
    "omega_model3=newton(model3.E_u, omega0, use_derivatives=1, linesearch=0)\n",
    "omega_model4=newton(model4.E_u, omega0, use_derivatives=1, linesearch=0)\n",
    "print('portfolio share in asset 1, model 3 (n risky)', omega_model3.T)\n",
    "print('portfolio share in asset 1, model 4 (one safe)', omega_model4.T)"
   ]
  }
 ],
 "metadata": {
  "celltoolbar": "Slideshow",
  "filename": "lecture10part1.rst",
  "kernelspec": {
   "display_name": "Python 3",
   "language": "python",
   "name": "python3"
  },
  "language_info": {
   "codemirror_mode": {
    "name": "ipython",
    "version": 3
   },
   "file_extension": ".py",
   "mimetype": "text/x-python",
   "name": "python",
   "nbconvert_exporter": "python",
   "pygments_lexer": "ipython3",
   "version": "3.8.6"
  },
  "title": "Random numbers and simulations, Monte Carlo and integration in Python"
 },
 "nbformat": 4,
 "nbformat_minor": 2
}
