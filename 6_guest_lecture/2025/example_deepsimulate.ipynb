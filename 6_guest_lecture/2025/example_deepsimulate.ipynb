{
 "cells": [
  {
   "cell_type": "code",
   "execution_count": 26,
   "metadata": {},
   "outputs": [],
   "source": [
    "import torch\n",
    "import numpy as np\n",
    "import torch.nn.functional as F\n",
    "import torch.nn as nn\n",
    "from EconModel  import EconModelClass\n",
    "from types import SimpleNamespace\n",
    "import os\n",
    "os.environ['KMP_DUPLICATE_LIB_OK'] = 'TRUE' # without this python may crash when plotting from matplotlib\n",
    "import matplotlib.pyplot as plt"
   ]
  },
  {
   "cell_type": "code",
   "execution_count": 27,
   "metadata": {},
   "outputs": [
    {
     "data": {
      "text/plain": [
       "<torch._C.Generator at 0x264791544b0>"
      ]
     },
     "execution_count": 27,
     "metadata": {},
     "output_type": "execute_result"
    }
   ],
   "source": [
    "torch.manual_seed(0)"
   ]
  },
  {
   "cell_type": "markdown",
   "metadata": {},
   "source": [
    "## Buffer-stock model"
   ]
  },
  {
   "cell_type": "markdown",
   "metadata": {},
   "source": [
    "$$\n",
    "v_t(m_t,p_t) = \\max_{a_t} u(c_t)+\\beta E_t[v_{t+1}(m_{t+1},p_{t+1})] \\\\\n",
    "\\text{s.t.} \\\\\n",
    "c_t = (1-a_t)m_t \\\\\n",
    "m_{t+1} = (1+r)(m_t-c_t) + \\text{income}_{t+1} \\\\\n",
    "\\text{income}_{t+1} = \\kappa_{t+1} \\psi_{t+1}p_{t+1} \\\\\n",
    "p_{t+1} = \\xi_{t+1}p_t^{\\rho} \\\\\n",
    "a_t \\in [0,1]\n",
    "$$"
   ]
  },
  {
   "cell_type": "markdown",
   "metadata": {},
   "source": [
    "$a_t$ = $\\pi(s_t)$ is approximated with neural network $\\pi(s_t) \\approx \\pi^{DNN}(t,s_t;\\theta_\\pi)$"
   ]
  },
  {
   "cell_type": "markdown",
   "metadata": {},
   "source": [
    "### 1. Creating a neural network class in python - Almost model-independent"
   ]
  },
  {
   "cell_type": "code",
   "execution_count": 28,
   "metadata": {},
   "outputs": [],
   "source": [
    "class Policy(nn.Module):\n",
    "    \"\"\" Policy function \"\"\"\n",
    "    \n",
    "    def __init__(self,par,train):\n",
    "\n",
    "        super(Policy,self).__init__()\n",
    "\n",
    "        self.Nstates = par.Nstates # number of states\n",
    "        self.T = par.T # number of time periods\n",
    "        self.Nactions = par.Nactions # number of actions\n",
    "\n",
    "        self.layers = nn.ModuleList([None]*(train.Nneurons_policy.size+1)) # create list of layers\n",
    "    \n",
    "        # input layer\n",
    "        self.layers[0] = nn.Linear(self.Nstates+self.T, train.Nneurons_policy[0]) # shape: (Nstates+T, Nneurons_policy[0])\n",
    "\n",
    "        # hidden layers\n",
    "        for i in range(1,len(self.layers)-1):\n",
    "            self.layers[i] = nn.Linear(train.Nneurons_policy[i-1],train.Nneurons_policy[i])  # shape: (Nneurons_policy[i-1], Nneurons_policy[i])\n",
    "        \n",
    "        # output layer\n",
    "        self.layers[-1] = nn.Linear(train.Nneurons_policy[-1],self.Nactions) # shape: (Nneurons_policy[-1], Nactions)\n",
    "        \n",
    "    def forward(self, state):\n",
    "        \"\"\" Forward pass of neural network: This means giving the state to the network and retrieving the action \"\"\"\n",
    "        \n",
    "        # Input layer\n",
    "        s = F.relu(self.layers[0](state))  # Use ReLU activation for input layer\n",
    "        \n",
    "        # Hidden layers\n",
    "        for layer in self.layers[1:-1]:\n",
    "            s = F.relu(layer(s))    # Use ReLU activation for hidden layers\n",
    "        \n",
    "        # Output layer with fixed sigmoid activation\n",
    "        action = torch.sigmoid(self.layers[-1](s))\n",
    "        \n",
    "        return action\n",
    "\n",
    "\n",
    "def eval_policy(model,NN,x,t):\n",
    "    \"\"\" \n",
    "    Evaluate neural network with time-dummies\n",
    "\n",
    "    NN: neural network object\n",
    "    NNT: neural network  number of time-dummies\n",
    "    x: input data without time-dummies\n",
    "    t: period index\n",
    "    \n",
    "    \"\"\"\n",
    "\n",
    "    par = model.par\n",
    "\n",
    "    # create time-dummies\n",
    "    Nx = x.shape[0] # number of agents\n",
    "    time_dummmies = torch.zeros((Nx,par.T),dtype=model.dtype,device=x.device) # create vecto\n",
    "    time_dummmies[:,t] = 1.0 # set time-dummy to 1.0 at period t\n",
    "\n",
    "    # concatenate time-dummies to input data\n",
    "    x = torch.cat((x,time_dummmies),dim=-1)\n",
    "\n",
    "    # evaluate neural network\n",
    "    action = NN(x)\n",
    "\n",
    "    return action\n",
    "\n"
   ]
  },
  {
   "cell_type": "markdown",
   "metadata": {},
   "source": [
    "\n",
    "### 2. Create code to create optimizer and update step"
   ]
  },
  {
   "cell_type": "code",
   "execution_count": 29,
   "metadata": {},
   "outputs": [],
   "source": [
    "\n",
    "def create_opt(model):\n",
    "    \"\"\" Create optimizer for policy \"\"\"\n",
    "\n",
    "    # a. unpack\n",
    "    train = model.train\n",
    "    \n",
    "    # b. create optimizer\n",
    "    model.policy_opt = torch.optim.Adam(\n",
    "        model.policy_NN.parameters(),\n",
    "        lr=train.learning_rate_policy)"
   ]
  },
  {
   "cell_type": "code",
   "execution_count": 30,
   "metadata": {},
   "outputs": [],
   "source": [
    "def policy_update_step(model,loss):\n",
    "\t\"\"\" update policy parameters given loss \"\"\"\n",
    "\n",
    "\t# a. unpack\n",
    "\tpolicy_opt = model.policy_opt\n",
    "\t\n",
    "\t# b. update parameters\n",
    "\tpolicy_opt.zero_grad()\n",
    "\tloss.backward()\n",
    "\tpolicy_opt.step()\n",
    "\n",
    "\treturn loss.item()"
   ]
  },
  {
   "cell_type": "markdown",
   "metadata": {},
   "source": [
    "### 3. Writing loss-function for simulation approach\n"
   ]
  },
  {
   "cell_type": "code",
   "execution_count": 31,
   "metadata": {},
   "outputs": [],
   "source": [
    "def simulate_loss(model,policy_NN,initial_states,shocks):\n",
    "\t\"\"\" Simulate to get objective function for policy optimization\"\"\"\n",
    "\n",
    "\t# a. unpack\n",
    "\tpar = model.par\n",
    "\ttrain = model.train\n",
    "\tdtype = model.dtype\n",
    "\tdevice = model.device\n",
    "\n",
    "\t# b. allocate\n",
    "\tN = initial_states.shape[0]\n",
    "\tdiscount_factor = torch.zeros((par.T,N),dtype=dtype,device=device)\t\n",
    "\treward = torch.zeros((par.T,N),dtype=dtype,device=device)\n",
    "\tnew_states_t = torch.zeros((N,par.Nstates),dtype=dtype,device=device)\n",
    "\t\n",
    "\t# c. simulate\n",
    "\tfor t in range(par.T):\n",
    "\n",
    "\t\t# i. states in period t \n",
    "\t\tif t > 0:\n",
    "\t\t\tstates_t = new_states_t.clone()\n",
    "\t\telse:\n",
    "\t\t\tstates_t = initial_states\n",
    "\t\t\n",
    "\t\t# ii. endogenous actions\n",
    "\t\tactions_t = model.eval_policy(policy_NN,states_t,t=t)\n",
    "\n",
    "\t\t# iii. reward and discount factor\n",
    "\t\toutcomes_t = model.outcomes(states_t,actions_t,t=t)\n",
    "\t\treward[t] = model.reward(states_t,actions_t,outcomes_t,t=t)\n",
    "\t\tdiscount_factor[t] = par.beta**t\n",
    "\n",
    "\t\t# iv. transition\n",
    "\t\tif t < par.T-1:\n",
    "\t\t\tnew_states_t[:,:] = model.state_trans(states_t,actions_t,outcomes_t,shocks[t+1],t=t)\n",
    "\t\t\t\n",
    "\t# d. compute discounted utility\n",
    "\tR = torch.sum(discount_factor*reward)/train.N\n",
    "\tloss = -R # - because we minimize negative reward\n",
    "\n",
    "\treturn loss"
   ]
  },
  {
   "cell_type": "markdown",
   "metadata": {},
   "source": [
    "### 4. Write simulation algorithm\n"
   ]
  },
  {
   "cell_type": "code",
   "execution_count": 32,
   "metadata": {},
   "outputs": [],
   "source": [
    "def train_policy(model, K=100):\n",
    "    \"\"\" train policy function with simulation approach \"\"\"\n",
    "\n",
    "    \"\"\" \n",
    "    K: number of iterations to train policy\n",
    "    \"\"\"\n",
    "    train = model.train\n",
    "    \n",
    "    # training loop\n",
    "    for k in range(K):\n",
    "\n",
    "        # i. draw initial states and shocks\n",
    "        initial_states = model.draw_initial_states(N=train.N)\n",
    "        shocks = model.draw_shocks(N=train.N)\n",
    "        \n",
    "        # ii. simulate loss\n",
    "        loss = simulate_loss(model,model.policy_NN,initial_states,shocks)\n",
    "\n",
    "        # iii. update policy parameters\n",
    "        policy_update_step(model,loss)\n",
    "\n",
    "        # iv. print progress\n",
    "        if k % 10 == 0:\n",
    "            print(f\"Iteration {k}: Loss {loss.item()}\")"
   ]
  },
  {
   "cell_type": "markdown",
   "metadata": {},
   "source": [
    "### 5. Create model class"
   ]
  },
  {
   "cell_type": "code",
   "execution_count": 33,
   "metadata": {},
   "outputs": [],
   "source": [
    "class Model:  # Inherit from DLSolverClass if needed\n",
    "    def __init__(self):\n",
    "        self.par = SimpleNamespace() # for storing model stuff\n",
    "        self.train = SimpleNamespace() # for storing training stuff\n",
    "        self.sim = SimpleNamespace() # for storing simulation stuff\n",
    "\n",
    "        self.dtype = torch.float32\n",
    "        self.device = 'cpu'\n",
    "\n",
    "        self.setup() # Setup model parameters\n",
    "        self.allocate() # Allocate model objects\n",
    "        self.setup_train()  # Setup training parameters\n",
    "        self.allocate_train() # Allocate training objects\n",
    "    \n",
    "    create_opt = create_opt # insert function to create optimizer\n",
    "    eval_policy = eval_policy # insert function to evaluate policy\n",
    "\n",
    "    \n",
    "    # setup empty functions to be overwritten\n",
    "\n",
    "    # Setup and allocate\n",
    "    def setup(self): pass\n",
    "    def allocate(self): pass\n",
    "    def setup_train(self): pass\n",
    "    def allocate_train(self): pass\n",
    "\n",
    "    # Draw\n",
    "    def draw_initial_states(self): pass\n",
    "    def draw_shocks(self): pass\n",
    "\n",
    "    # Transition\n",
    "    def state_trans(self): pass  # Post-decision states, shocks -> next-period states\n",
    "\n",
    "    # Reward\n",
    "    def reward(self): pass  # Utility"
   ]
  },
  {
   "cell_type": "markdown",
   "metadata": {},
   "source": [
    "### 6. Create setup and allocate functions for Bufferstock model"
   ]
  },
  {
   "cell_type": "code",
   "execution_count": 34,
   "metadata": {},
   "outputs": [],
   "source": [
    "def setup(self,full=None):\n",
    "    \"\"\" choose parameters \"\"\"\n",
    "\n",
    "    par = self.par\n",
    "    sim = self.sim\n",
    "    \n",
    "    # a. model\n",
    "    par.T = 10 # number of periods\n",
    "\n",
    "    # preferences\n",
    "    par.beta = 1/1.01 # discount factor\n",
    "\n",
    "    # income\n",
    "    par.kappa_base = 1.0\n",
    "    par.rho_p= 0.95 # shock, persistenc\n",
    "    par.sigma_xi = 0.1 # shock, permanent\n",
    "    par.sigma_psi = 0.1 # shock, transitory std\n",
    "\n",
    "    # return\n",
    "    par.R = 1.01 # gross return\n",
    "\n",
    "    # b. solver settings\n",
    "    par.Nstates = 2 # number of states variables\n",
    "    par.Nactions = 1 # number of actions variables\n",
    "    par.Nshocks = 2 # number of shocks\n",
    "\n",
    "    # c. simulation \n",
    "    sim.N = 50_000 # number of agents\n",
    "\n",
    "    # initial states\n",
    "    par.mu_m0 = 1.0 # initial cash-on-hand, mean\n",
    "    par.sigma_m0 = 0.1 # initial cash-on-hand, std\n",
    "\n",
    "    # initial permanent income\n",
    "    par.mu_p0 = 1.0 # initial durable, mean\n",
    "    par.sigma_p0 = 0.1 # initial durable, std\n",
    "\n",
    "\n",
    "    sim.N = 10_000 # number of simulated agents\n",
    "\n",
    "Model.setup = setup\n"
   ]
  },
  {
   "cell_type": "code",
   "execution_count": 35,
   "metadata": {},
   "outputs": [],
   "source": [
    "def allocate(model):\n",
    "    \"\"\" allocate arrays  \"\"\"\n",
    "\n",
    "    # unpack\n",
    "    par = model.par\n",
    "    sim = model.sim\n",
    "\n",
    "    # b. simulation (same across models)\n",
    "    sim.states = torch.zeros((par.T,sim.N,par.Nstates)) # State-vector\n",
    "    sim.shocks = torch.zeros((par.T,sim.N,par.Nshocks)) # Shock-vector\n",
    "    sim.actions = torch.zeros((par.T,sim.N,par.Nactions))  # actions array\n",
    "    sim.reward = torch.zeros((par.T,sim.N)) # array for utility rewards\n",
    "    sim.outcomes = torch.zeros((par.T,sim.N,1)) # array for outcomes - will just be consumption\n",
    "    sim.R = np.nan # initialize average discounted utility\n",
    "\n",
    "Model.allocate = allocate\n"
   ]
  },
  {
   "cell_type": "code",
   "execution_count": null,
   "metadata": {},
   "outputs": [],
   "source": [
    "def setup_train(model):\n",
    "    \"\"\" default parameters for training \"\"\"\n",
    "    \n",
    "    train = model.train\n",
    "\n",
    "    # a. neural network\n",
    "    train.Nneurons_policy = np.array([100,100]) # number of neurons in hidden layers\n",
    "\n",
    "    train.N = 3000 # number of agents for training\n",
    "\n",
    "    train.learning_rate_policy = 1e-3 # learning rate for policy\n",
    "\n",
    "Model.setup_train = setup_train"
   ]
  },
  {
   "cell_type": "code",
   "execution_count": 37,
   "metadata": {},
   "outputs": [],
   "source": [
    "def allocate_train(model):\n",
    "    \"\"\" allocate memory training \"\"\"\n",
    "\n",
    "    par = model.par\n",
    "    train = model.train\n",
    "    device = model.device\n",
    "\n",
    "    # a. neural network\n",
    "    model.policy_NN = Policy(par,train).to(device) # policy neural network\n",
    "    model.create_opt() # create optimizer for policy neural network\n",
    "\n",
    "Model.allocate_train = allocate_train"
   ]
  },
  {
   "cell_type": "markdown",
   "metadata": {},
   "source": [
    "### 7. create functions for random draws"
   ]
  },
  {
   "cell_type": "code",
   "execution_count": 38,
   "metadata": {},
   "outputs": [],
   "source": [
    "def draw_initial_states(model,N):\n",
    "    \"\"\" draw initial state (m,p,t) \"\"\"\n",
    "\n",
    "    par = model.par\n",
    "    train = model.train\n",
    "\n",
    "    sigma_m0 = par.sigma_m0\n",
    "    sigma_p0 = par.sigma_p0\n",
    "\n",
    "    # a. draw cash-on-hand:\t\n",
    "    m0 = par.mu_m0*np.exp(torch.normal(-0.5*sigma_m0**2,sigma_m0,size=(N,)))\n",
    "    \n",
    "    # b. draw permanent income\n",
    "    p0 = par.mu_p0*np.exp(torch.normal(-0.5*sigma_p0**2,sigma_p0,size=(N,)))\n",
    "\n",
    "    # c. store\n",
    "    return torch.stack((m0,p0),dim=1)\n",
    "\n",
    "Model.draw_initial_states = draw_initial_states"
   ]
  },
  {
   "cell_type": "code",
   "execution_count": 39,
   "metadata": {},
   "outputs": [],
   "source": [
    "def draw_shocks(model,N):\n",
    "    \"\"\" draw shocks \"\"\"\n",
    "\n",
    "    par = model.par\n",
    "\n",
    "    # xi \n",
    "    xi_loc = -0.5*par.sigma_xi**2\n",
    "    xi = np.exp(torch.normal(xi_loc,par.sigma_xi,size=(par.T,N,)))\n",
    "\n",
    "    # psi\n",
    "    psi_loc = -0.5*par.sigma_psi**2\n",
    "    psi = np.exp(torch.normal(psi_loc,par.sigma_psi,size=(par.T,N,)))\n",
    "\n",
    "    return torch.stack((xi,psi),dim=-1)\n",
    "\n",
    "Model.draw_shocks = draw_shocks"
   ]
  },
  {
   "cell_type": "markdown",
   "metadata": {},
   "source": [
    "### 8. Outcome and state transitions functions"
   ]
  },
  {
   "cell_type": "code",
   "execution_count": 40,
   "metadata": {},
   "outputs": [],
   "source": [
    "def outcomes(model,states,actions,t=None):\n",
    "\t\"\"\" outcomes - just consumption here \"\"\"\n",
    "\n",
    "\tm = states[...,0] # cash-on-hand\n",
    "\ta = actions[...,0] # savings rate\n",
    "\tc = m*(1-a) # consumption\n",
    "\n",
    "\treturn torch.stack((c,),dim=-1) # (T,N,Noutcomes)\n",
    "\n",
    "Model.outcomes = outcomes"
   ]
  },
  {
   "cell_type": "code",
   "execution_count": 41,
   "metadata": {},
   "outputs": [],
   "source": [
    "def state_trans(model,states,actions,outcomes,shocks,t=None):\n",
    "\t\"\"\" transition to future state \"\"\"\n",
    "\n",
    "\n",
    "\t# a. unpack\n",
    "\tpar = model.par\n",
    "\txi = shocks[...,0] # permanent income shock\n",
    "\tpsi = shocks[...,1] # transitory income shock\n",
    "\tm = states[...,0]\n",
    "\tp = states[...,1]\n",
    "\tc = outcomes[...,0]\n",
    "\n",
    "\t# c. post-decision\n",
    "\tm_pd = m-c\n",
    "\t\n",
    "    # d. persistent income\n",
    "\tp_plus = p**par.rho_p * xi # permanent income\n",
    "\t\n",
    "    # d. income\n",
    "\tincome = par.kappa_base * p_plus * psi # income\n",
    "\t\n",
    "    # e. future cash-on-hand\n",
    "\tm_plus = par.R * m_pd + income # future cash-on-hand\n",
    "\n",
    "\t# d. finalize\n",
    "\tstates_pd = torch.stack((m_plus,p_plus),dim=-1)\n",
    "\treturn states_pd\n",
    "\n",
    "\n",
    "Model.state_trans = state_trans"
   ]
  },
  {
   "cell_type": "markdown",
   "metadata": {},
   "source": [
    "### 9. reward function"
   ]
  },
  {
   "cell_type": "code",
   "execution_count": 42,
   "metadata": {},
   "outputs": [],
   "source": [
    "def utility(par,c):\n",
    "\t\"\"\" utility \"\"\"\n",
    "\n",
    "\treturn torch.log(c)\n",
    "\n",
    "def reward(model,states,actions,outcomes,t0=0,t=None):\n",
    "\t\"\"\" reward \"\"\"\n",
    "\n",
    "\t# a. unpack\n",
    "\tpar = model.par\n",
    "\n",
    "\t# b. consumption\n",
    "\tc = outcomes[...,0]\n",
    "\n",
    "\t# c. utility\n",
    "\tu = utility(par,c)\n",
    "\n",
    "\treturn u \n",
    "\n",
    "Model.reward = reward\n"
   ]
  },
  {
   "cell_type": "markdown",
   "metadata": {},
   "source": [
    "### 10. Simulation for storing"
   ]
  },
  {
   "cell_type": "code",
   "execution_count": 43,
   "metadata": {},
   "outputs": [],
   "source": [
    "def simulate(model):\n",
    "\t\"\"\" Simulate to get loss in DeepSimulate \"\"\"\n",
    "\n",
    "\t# a. unpack\n",
    "\ttorch.manual_seed(0) # for reproducibility\n",
    "\tpar = model.par\n",
    "\tsim = model.sim\n",
    "\tdtype = model.dtype\n",
    "\tdevice = model.device\n",
    "\t\n",
    "\tstates = sim.states\n",
    "\tactions = sim.actions\n",
    "\trewards = sim.reward\n",
    "\toutcomes = sim.outcomes\n",
    "\n",
    "\t# b. draw initial states\n",
    "\twith torch.no_grad():\n",
    "\t\tstates[0] = model.draw_initial_states(N=sim.N)\n",
    "\t\tshocks = model.draw_shocks(N=sim.N)\n",
    "\t\t\n",
    "\t\t# c. simulate\n",
    "\t\tfor t in range(par.T):\n",
    "\n",
    "\n",
    "\t\t\t#i. compute actions\n",
    "\t\t\tactions[t] = model.eval_policy(model.policy_NN,states[t],t=t)\n",
    "\n",
    "\t\t\t# ii. compute outcomes\n",
    "\t\t\toutcomes[t] = model.outcomes(states[t],actions[t],t=t)\n",
    "\n",
    "\t\t\t# iii. compute rewards\n",
    "\t\t\trewards[t] = model.reward(states[t],actions[t],outcomes[t],t=t)\n",
    "\n",
    "\t\t\t# iv. transition\n",
    "\t\t\tif t < par.T-1:\n",
    "\t\t\t\tstates[t+1] = model.state_trans(states[t],actions[t],outcomes[t],shocks[t+1],t=t)\n",
    "\t\t\t\t\n",
    "\n",
    "\t\t# d. compute discounted utility\n",
    "\t\tdiscount_factor = torch.zeros((par.T,sim.N),dtype=dtype,device=device)\n",
    "\t\tfor t in range(par.T):\n",
    "\t\t\tdiscount_factor[t] = par.beta**t\n",
    "\t\tR = torch.sum(discount_factor*rewards)/sim.N\n",
    "\n",
    "\treturn R\n",
    "Model.simulate = simulate"
   ]
  },
  {
   "cell_type": "code",
   "execution_count": 44,
   "metadata": {},
   "outputs": [],
   "source": [
    "model = Model() # create model object"
   ]
  },
  {
   "cell_type": "code",
   "execution_count": 45,
   "metadata": {},
   "outputs": [
    {
     "name": "stdout",
     "output_type": "stream",
     "text": [
      "Iteration 0: Loss 1.355010747909546\n",
      "Iteration 10: Loss 0.8219365477561951\n",
      "Iteration 20: Loss 0.5039828419685364\n",
      "Iteration 30: Loss 0.37304529547691345\n",
      "Iteration 40: Loss 0.3056012690067291\n",
      "Iteration 50: Loss 0.26125243306159973\n",
      "Iteration 60: Loss 0.26256781816482544\n",
      "Iteration 70: Loss 0.27449625730514526\n",
      "Iteration 80: Loss 0.2524772882461548\n",
      "Iteration 90: Loss 0.27796265482902527\n",
      "Iteration 100: Loss 0.27075138688087463\n",
      "Iteration 110: Loss 0.2655380368232727\n",
      "Iteration 120: Loss 0.28128543496131897\n",
      "Iteration 130: Loss 0.2787419855594635\n",
      "Iteration 140: Loss 0.24329304695129395\n",
      "Iteration 150: Loss 0.3028475046157837\n",
      "Iteration 160: Loss 0.28507429361343384\n",
      "Iteration 170: Loss 0.2851763367652893\n",
      "Iteration 180: Loss 0.2713242173194885\n",
      "Iteration 190: Loss 0.23478154838085175\n",
      "Iteration 200: Loss 0.25111478567123413\n",
      "Iteration 210: Loss 0.22983966767787933\n",
      "Iteration 220: Loss 0.2835014760494232\n",
      "Iteration 230: Loss 0.25796496868133545\n",
      "Iteration 240: Loss 0.29282984137535095\n",
      "Iteration 250: Loss 0.30026260018348694\n",
      "Iteration 260: Loss 0.2676668167114258\n",
      "Iteration 270: Loss 0.25139904022216797\n",
      "Iteration 280: Loss 0.2462030053138733\n",
      "Iteration 290: Loss 0.2709817886352539\n",
      "Iteration 300: Loss 0.2753503918647766\n",
      "Iteration 310: Loss 0.29076799750328064\n",
      "Iteration 320: Loss 0.22122684121131897\n",
      "Iteration 330: Loss 0.27102896571159363\n",
      "Iteration 340: Loss 0.2651282846927643\n",
      "Iteration 350: Loss 0.1989620178937912\n",
      "Iteration 360: Loss 0.16307993233203888\n",
      "Iteration 370: Loss 0.23187485337257385\n",
      "Iteration 380: Loss 0.20955924689769745\n",
      "Iteration 390: Loss 0.24640189111232758\n",
      "Iteration 400: Loss 0.22052696347236633\n",
      "Iteration 410: Loss 0.32329171895980835\n",
      "Iteration 420: Loss 0.23743991553783417\n",
      "Iteration 430: Loss 0.22234635055065155\n",
      "Iteration 440: Loss 0.27578774094581604\n",
      "Iteration 450: Loss 0.246599018573761\n",
      "Iteration 460: Loss 0.273479163646698\n",
      "Iteration 470: Loss 0.19947075843811035\n",
      "Iteration 480: Loss 0.22819283604621887\n",
      "Iteration 490: Loss 0.2469012290239334\n",
      "Iteration 500: Loss 0.25698813796043396\n",
      "Iteration 510: Loss 0.2632356882095337\n",
      "Iteration 520: Loss 0.24251680076122284\n",
      "Iteration 530: Loss 0.26611241698265076\n",
      "Iteration 540: Loss 0.2871183454990387\n",
      "Iteration 550: Loss 0.2417852133512497\n",
      "Iteration 560: Loss 0.28329530358314514\n",
      "Iteration 570: Loss 0.22358620166778564\n",
      "Iteration 580: Loss 0.2653214633464813\n",
      "Iteration 590: Loss 0.20265932381153107\n",
      "Iteration 600: Loss 0.23380085825920105\n",
      "Iteration 610: Loss 0.1983661949634552\n",
      "Iteration 620: Loss 0.2179097831249237\n",
      "Iteration 630: Loss 0.21966563165187836\n",
      "Iteration 640: Loss 0.1987382173538208\n",
      "Iteration 650: Loss 0.19370076060295105\n",
      "Iteration 660: Loss 0.24079838395118713\n",
      "Iteration 670: Loss 0.3029326796531677\n",
      "Iteration 680: Loss 0.19392189383506775\n",
      "Iteration 690: Loss 0.2376215010881424\n",
      "Iteration 700: Loss 0.25354206562042236\n",
      "Iteration 710: Loss 0.21233798563480377\n",
      "Iteration 720: Loss 0.1875399798154831\n",
      "Iteration 730: Loss 0.28648513555526733\n",
      "Iteration 740: Loss 0.2125699818134308\n",
      "Iteration 750: Loss 0.22670914232730865\n",
      "Iteration 760: Loss 0.20371229946613312\n",
      "Iteration 770: Loss 0.2478088140487671\n",
      "Iteration 780: Loss 0.25682058930397034\n",
      "Iteration 790: Loss 0.24303770065307617\n",
      "Iteration 800: Loss 0.2239677906036377\n",
      "Iteration 810: Loss 0.2694871127605438\n",
      "Iteration 820: Loss 0.23427936434745789\n",
      "Iteration 830: Loss 0.2901367247104645\n",
      "Iteration 840: Loss 0.2307969629764557\n",
      "Iteration 850: Loss 0.285101056098938\n",
      "Iteration 860: Loss 0.25801265239715576\n",
      "Iteration 870: Loss 0.24144282937049866\n",
      "Iteration 880: Loss 0.23062728345394135\n",
      "Iteration 890: Loss 0.26263949275016785\n",
      "Iteration 900: Loss 0.23368717730045319\n",
      "Iteration 910: Loss 0.2023477852344513\n",
      "Iteration 920: Loss 0.19104750454425812\n",
      "Iteration 930: Loss 0.23933972418308258\n",
      "Iteration 940: Loss 0.23873165249824524\n",
      "Iteration 950: Loss 0.18709486722946167\n",
      "Iteration 960: Loss 0.23871684074401855\n",
      "Iteration 970: Loss 0.17825569212436676\n",
      "Iteration 980: Loss 0.26799890398979187\n",
      "Iteration 990: Loss 0.2201686054468155\n",
      "Iteration 1000: Loss 0.22985461354255676\n",
      "Iteration 1010: Loss 0.2315611094236374\n",
      "Iteration 1020: Loss 0.23267726600170135\n",
      "Iteration 1030: Loss 0.21720394492149353\n",
      "Iteration 1040: Loss 0.21600103378295898\n",
      "Iteration 1050: Loss 0.21850574016571045\n",
      "Iteration 1060: Loss 0.2237969934940338\n",
      "Iteration 1070: Loss 0.2532874643802643\n",
      "Iteration 1080: Loss 0.24106930196285248\n",
      "Iteration 1090: Loss 0.22438307106494904\n",
      "Iteration 1100: Loss 0.2533559203147888\n",
      "Iteration 1110: Loss 0.2646313011646271\n",
      "Iteration 1120: Loss 0.19546180963516235\n",
      "Iteration 1130: Loss 0.19064593315124512\n",
      "Iteration 1140: Loss 0.22790537774562836\n",
      "Iteration 1150: Loss 0.2277735322713852\n",
      "Iteration 1160: Loss 0.21209610998630524\n",
      "Iteration 1170: Loss 0.1707739233970642\n",
      "Iteration 1180: Loss 0.18893615901470184\n",
      "Iteration 1190: Loss 0.2408224493265152\n",
      "Iteration 1200: Loss 0.21846799552440643\n",
      "Iteration 1210: Loss 0.23115701973438263\n",
      "Iteration 1220: Loss 0.2541933059692383\n",
      "Iteration 1230: Loss 0.2413092851638794\n",
      "Iteration 1240: Loss 0.18331758677959442\n",
      "Iteration 1250: Loss 0.24230420589447021\n",
      "Iteration 1260: Loss 0.2544642388820648\n",
      "Iteration 1270: Loss 0.2242947369813919\n",
      "Iteration 1280: Loss 0.2309035062789917\n",
      "Iteration 1290: Loss 0.26187655329704285\n",
      "Iteration 1300: Loss 0.2391074150800705\n",
      "Iteration 1310: Loss 0.27780622243881226\n",
      "Iteration 1320: Loss 0.23278680443763733\n",
      "Iteration 1330: Loss 0.22012591361999512\n",
      "Iteration 1340: Loss 0.22399728000164032\n",
      "Iteration 1350: Loss 0.25845205783843994\n",
      "Iteration 1360: Loss 0.2053084522485733\n",
      "Iteration 1370: Loss 0.25067219138145447\n",
      "Iteration 1380: Loss 0.2662658393383026\n",
      "Iteration 1390: Loss 0.2207368165254593\n",
      "Iteration 1400: Loss 0.22219568490982056\n",
      "Iteration 1410: Loss 0.24186059832572937\n",
      "Iteration 1420: Loss 0.2402460277080536\n",
      "Iteration 1430: Loss 0.2426830232143402\n",
      "Iteration 1440: Loss 0.22814516723155975\n",
      "Iteration 1450: Loss 0.23378866910934448\n",
      "Iteration 1460: Loss 0.21283495426177979\n",
      "Iteration 1470: Loss 0.2491762638092041\n",
      "Iteration 1480: Loss 0.20841388404369354\n",
      "Iteration 1490: Loss 0.23447442054748535\n",
      "Iteration 1500: Loss 0.21757541596889496\n",
      "Iteration 1510: Loss 0.2785099148750305\n",
      "Iteration 1520: Loss 0.22883939743041992\n",
      "Iteration 1530: Loss 0.2394697666168213\n",
      "Iteration 1540: Loss 0.18694928288459778\n",
      "Iteration 1550: Loss 0.2567593455314636\n",
      "Iteration 1560: Loss 0.2295440286397934\n",
      "Iteration 1570: Loss 0.21143688261508942\n",
      "Iteration 1580: Loss 0.22810035943984985\n",
      "Iteration 1590: Loss 0.25523969531059265\n",
      "Iteration 1600: Loss 0.28267645835876465\n",
      "Iteration 1610: Loss 0.23535895347595215\n",
      "Iteration 1620: Loss 0.2342700958251953\n",
      "Iteration 1630: Loss 0.24020569026470184\n",
      "Iteration 1640: Loss 0.22667299211025238\n",
      "Iteration 1650: Loss 0.2702716588973999\n",
      "Iteration 1660: Loss 0.21556062996387482\n",
      "Iteration 1670: Loss 0.22866109013557434\n",
      "Iteration 1680: Loss 0.241845965385437\n",
      "Iteration 1690: Loss 0.18886294960975647\n",
      "Iteration 1700: Loss 0.23244188725948334\n",
      "Iteration 1710: Loss 0.2262895554304123\n",
      "Iteration 1720: Loss 0.2500520944595337\n",
      "Iteration 1730: Loss 0.18482623994350433\n",
      "Iteration 1740: Loss 0.18018564581871033\n",
      "Iteration 1750: Loss 0.26478374004364014\n",
      "Iteration 1760: Loss 0.24609993398189545\n",
      "Iteration 1770: Loss 0.21217285096645355\n",
      "Iteration 1780: Loss 0.22266638278961182\n",
      "Iteration 1790: Loss 0.22590366005897522\n",
      "Iteration 1800: Loss 0.27325090765953064\n",
      "Iteration 1810: Loss 0.25103476643562317\n",
      "Iteration 1820: Loss 0.257609486579895\n",
      "Iteration 1830: Loss 0.1924571692943573\n",
      "Iteration 1840: Loss 0.24686676263809204\n",
      "Iteration 1850: Loss 0.23405781388282776\n",
      "Iteration 1860: Loss 0.18588174879550934\n",
      "Iteration 1870: Loss 0.211608424782753\n",
      "Iteration 1880: Loss 0.2127869427204132\n",
      "Iteration 1890: Loss 0.20728759467601776\n",
      "Iteration 1900: Loss 0.18991465866565704\n",
      "Iteration 1910: Loss 0.19657284021377563\n",
      "Iteration 1920: Loss 0.2451314628124237\n",
      "Iteration 1930: Loss 0.320657342672348\n",
      "Iteration 1940: Loss 0.20627756416797638\n",
      "Iteration 1950: Loss 0.23236528038978577\n",
      "Iteration 1960: Loss 0.2120334655046463\n",
      "Iteration 1970: Loss 0.24246928095817566\n",
      "Iteration 1980: Loss 0.18509984016418457\n",
      "Iteration 1990: Loss 0.2368880659341812\n"
     ]
    }
   ],
   "source": [
    "train_policy(model, K=2000) # train policy"
   ]
  },
  {
   "cell_type": "code",
   "execution_count": 51,
   "metadata": {},
   "outputs": [
    {
     "data": {
      "text/plain": [
       "tensor(-0.2300)"
      ]
     },
     "execution_count": 51,
     "metadata": {},
     "output_type": "execute_result"
    }
   ],
   "source": [
    "model.simulate() # simulate model"
   ]
  },
  {
   "cell_type": "code",
   "execution_count": 52,
   "metadata": {},
   "outputs": [
    {
     "data": {
      "text/plain": [
       "Text(0, 0.5, 'Consumption')"
      ]
     },
     "execution_count": 52,
     "metadata": {},
     "output_type": "execute_result"
    },
    {
     "data": {
      "image/png": "[encoded data removed]",
      "text/plain": [
       "<Figure size 1000x500 with 2 Axes>"
      ]
     },
     "metadata": {},
     "output_type": "display_data"
    }
   ],
   "source": [
    "fig,ax = plt.subplots(1,2,figsize=(10,5))\n",
    "ax[0].plot(torch.mean(model.sim.states[:, :, 0], dim=1).cpu().numpy(), label='Cash-on-hand')\n",
    "ax[0].set_title('Cash-on-hand')\n",
    "ax[0].set_xlabel('Period')\n",
    "ax[0].set_ylabel('Cash-on-hand')\n",
    "\n",
    "ax[1].plot(torch.mean(model.sim.outcomes[:, :, 0], dim=1).cpu().numpy(), label='consumption')\n",
    "ax[1].set_title('Consumption')\n",
    "ax[1].set_xlabel('Period')\n",
    "ax[1].set_ylabel('Consumption')"
   ]
  },
  {
   "cell_type": "code",
   "execution_count": 53,
   "metadata": {},
   "outputs": [
    {
     "name": "stdout",
     "output_type": "stream",
     "text": [
      "Iteration 0: Loss 0.24138163030147552\n",
      "Iteration 10: Loss 0.25052759051322937\n",
      "Iteration 20: Loss 0.2307615578174591\n",
      "Iteration 30: Loss 0.2664768397808075\n",
      "Iteration 40: Loss 0.25092536211013794\n",
      "Iteration 50: Loss 0.18726147711277008\n",
      "Iteration 60: Loss 0.2706843316555023\n",
      "Iteration 70: Loss 0.24360601603984833\n",
      "Iteration 80: Loss 0.22573205828666687\n",
      "Iteration 90: Loss 0.22903352975845337\n",
      "Iteration 100: Loss 0.2520230710506439\n",
      "Iteration 110: Loss 0.20691730082035065\n",
      "Iteration 120: Loss 0.21364614367485046\n",
      "Iteration 130: Loss 0.2192394882440567\n",
      "Iteration 140: Loss 0.25173938274383545\n",
      "Iteration 150: Loss 0.2559496760368347\n",
      "Iteration 160: Loss 0.2214086502790451\n",
      "Iteration 170: Loss 0.1808948814868927\n",
      "Iteration 180: Loss 0.2770715057849884\n",
      "Iteration 190: Loss 0.2854548394680023\n",
      "Iteration 200: Loss 0.26327207684516907\n",
      "Iteration 210: Loss 0.27551349997520447\n",
      "Iteration 220: Loss 0.24805407226085663\n",
      "Iteration 230: Loss 0.18742747604846954\n",
      "Iteration 240: Loss 0.21849766373634338\n",
      "Iteration 250: Loss 0.2507386803627014\n",
      "Iteration 260: Loss 0.2740910053253174\n",
      "Iteration 270: Loss 0.22871103882789612\n",
      "Iteration 280: Loss 0.2072700560092926\n",
      "Iteration 290: Loss 0.26226580142974854\n"
     ]
    }
   ],
   "source": [
    "train_policy(model, K=300) # train policy"
   ]
  },
  {
   "cell_type": "code",
   "execution_count": 49,
   "metadata": {},
   "outputs": [
    {
     "data": {
      "text/plain": [
       "tensor(-0.2300)"
      ]
     },
     "execution_count": 49,
     "metadata": {},
     "output_type": "execute_result"
    }
   ],
   "source": [
    "model.simulate() # simulate model"
   ]
  },
  {
   "cell_type": "code",
   "execution_count": 50,
   "metadata": {},
   "outputs": [
    {
     "data": {
      "text/plain": [
       "Text(0, 0.5, 'Consumption')"
      ]
     },
     "execution_count": 50,
     "metadata": {},
     "output_type": "execute_result"
    },
    {
     "data": {
      "image/png": "[encoded data removed]",
      "text/plain": [
       "<Figure size 1000x500 with 2 Axes>"
      ]
     },
     "metadata": {},
     "output_type": "display_data"
    }
   ],
   "source": [
    "fig,ax = plt.subplots(1,2,figsize=(10,5))\n",
    "ax[0].plot(torch.mean(model.sim.states[:, :, 0], dim=1).cpu().numpy(), label='Cash-on-hand')\n",
    "ax[0].set_title('Cash-on-hand')\n",
    "ax[0].set_xlabel('Period')\n",
    "ax[0].set_ylabel('Cash-on-hand')\n",
    "\n",
    "ax[1].plot(torch.mean(model.sim.outcomes[:, :, 0], dim=1).cpu().numpy(), label='consumption')\n",
    "ax[1].set_title('Consumption')\n",
    "ax[1].set_xlabel('Period')\n",
    "ax[1].set_ylabel('Consumption')"
   ]
  }
 ],
 "metadata": {
  "kernelspec": {
   "display_name": "base",
   "language": "python",
   "name": "python3"
  },
  "language_info": {
   "codemirror_mode": {
    "name": "ipython",
    "version": 3
   },
   "file_extension": ".py",
   "mimetype": "text/x-python",
   "name": "python",
   "nbconvert_exporter": "python",
   "pygments_lexer": "ipython3",
   "version": "3.11.4"
  }
 },
 "nbformat": 4,
 "nbformat_minor": 2
}
